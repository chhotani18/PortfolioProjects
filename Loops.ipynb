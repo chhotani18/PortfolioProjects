{
  "nbformat": 4,
  "nbformat_minor": 0,
  "metadata": {
    "colab": {
      "provenance": [],
      "authorship_tag": "ABX9TyMX2UqTTDwiypVpjIea3N7w",
      "include_colab_link": true
    },
    "kernelspec": {
      "name": "python3",
      "display_name": "Python 3"
    },
    "language_info": {
      "name": "python"
    }
  },
  "cells": [
    {
      "cell_type": "markdown",
      "metadata": {
        "id": "view-in-github",
        "colab_type": "text"
      },
      "source": [
        "<a href=\"https://colab.research.google.com/github/chhotani18/PortfolioProjects/blob/main/Loops.ipynb\" target=\"_parent\"><img src=\"https://colab.research.google.com/assets/colab-badge.svg\" alt=\"Open In Colab\"/></a>"
      ]
    },
    {
      "cell_type": "markdown",
      "source": [
        "### Loops are fundamental programming constructs that allow developers to execute a block of code repeatedly, which is particularly useful for tasks that involve repetitive operations, such as iterating over elements in a list or performing a function multiple times. In Python, there are mainly two types of loops: `for` loops and `while` loops."
      ],
      "metadata": {
        "id": "LoyoHvibZDcu"
      }
    },
    {
      "cell_type": "markdown",
      "source": [
        "### A `for` loop is used to iterate over a sequence (such as a list, tuple, dictionary, set, or string) or other iterable objects. The loop executes a block of code for each element in the sequence.\n",
        "\n"
      ],
      "metadata": {
        "id": "fdvuJ9XsSNcL"
      }
    },
    {
      "cell_type": "code",
      "source": [
        "##Normal for loop\n",
        "for num in range(5):\n",
        "    print(\"attempt\",num+1, \"is done\")"
      ],
      "metadata": {
        "colab": {
          "base_uri": "https://localhost:8080/"
        },
        "id": "VrbNAKpfSNAp",
        "outputId": "f47e7487-a19e-4489-a6ed-d3864ff263ee"
      },
      "execution_count": 3,
      "outputs": [
        {
          "output_type": "stream",
          "name": "stdout",
          "text": [
            "attempt 1 is done\n",
            "attempt 2 is done\n",
            "attempt 3 is done\n",
            "attempt 4 is done\n",
            "attempt 5 is done\n"
          ]
        }
      ]
    },
    {
      "cell_type": "code",
      "source": [
        "for num in range(5):\n",
        "    print(\"attempt\",num+1,(num+1) *\".\")"
      ],
      "metadata": {
        "colab": {
          "base_uri": "https://localhost:8080/"
        },
        "id": "sPZpqmqLSyfq",
        "outputId": "9ae69078-dc6a-4c81-80b2-75704c30d567"
      },
      "execution_count": 5,
      "outputs": [
        {
          "output_type": "stream",
          "name": "stdout",
          "text": [
            "attempt 1 .\n",
            "attempt 2 ..\n",
            "attempt 3 ...\n",
            "attempt 4 ....\n",
            "attempt 5 .....\n"
          ]
        }
      ]
    },
    {
      "cell_type": "code",
      "source": [
        "##For loop with varied intervals\n",
        "for num in range(1,5,2):\n",
        "    print(\"attempt\",num)"
      ],
      "metadata": {
        "colab": {
          "base_uri": "https://localhost:8080/"
        },
        "id": "sFYSxZ5gTL3q",
        "outputId": "ce9ba5d6-e350-40c5-8182-90d818319ae7"
      },
      "execution_count": 5,
      "outputs": [
        {
          "output_type": "stream",
          "name": "stdout",
          "text": [
            "attempt 1\n",
            "attempt 3\n"
          ]
        }
      ]
    },
    {
      "cell_type": "code",
      "source": [
        "##For else loop with break\n",
        "success=True\n",
        "for num in range(1,5):\n",
        "    if success==True:\n",
        "     print(\"success\")\n",
        "     break"
      ],
      "metadata": {
        "colab": {
          "base_uri": "https://localhost:8080/"
        },
        "id": "IZN37rD4T4qy",
        "outputId": "3183f280-579d-434f-b9bf-9851cb7422ca"
      },
      "execution_count": 9,
      "outputs": [
        {
          "output_type": "stream",
          "name": "stdout",
          "text": [
            "success\n"
          ]
        }
      ]
    },
    {
      "cell_type": "code",
      "source": [
        "success=False\n",
        "for num in range(1,5):\n",
        "    if success==True:\n",
        "     print(\"success\")\n",
        "else:\n",
        "    print(\"unsuccessful\")"
      ],
      "metadata": {
        "colab": {
          "base_uri": "https://localhost:8080/"
        },
        "id": "kCApUsWtUg-e",
        "outputId": "be2482bd-5934-430f-8af6-fad8db359a5f"
      },
      "execution_count": 13,
      "outputs": [
        {
          "output_type": "stream",
          "name": "stdout",
          "text": [
            "unsuccessful\n"
          ]
        }
      ]
    },
    {
      "cell_type": "code",
      "source": [
        "##Loop across a list\n",
        "statuses = [\"success\", \"unsuccess\", \"pending\"]\n",
        "\n",
        "for status in statuses:\n",
        "    if status == \"unsuccess\":\n",
        "        print(\"Status\",status, \"found.\")\n",
        "        break\n",
        "else:\n",
        "    print(\"not found\")"
      ],
      "metadata": {
        "colab": {
          "base_uri": "https://localhost:8080/"
        },
        "id": "Ee58RCtAU0GD",
        "outputId": "ac8ca1f0-bf69-413b-d726-9314316e708e"
      },
      "execution_count": 21,
      "outputs": [
        {
          "output_type": "stream",
          "name": "stdout",
          "text": [
            "Status unsuccess found.\n"
          ]
        }
      ]
    },
    {
      "cell_type": "code",
      "source": [
        "for char in \"hello\":\n",
        "  print(char)"
      ],
      "metadata": {
        "colab": {
          "base_uri": "https://localhost:8080/"
        },
        "id": "Ne2BIuQ0VdRv",
        "outputId": "441f0ebc-ffaf-4f5f-c631-727ce2eef1ea"
      },
      "execution_count": 17,
      "outputs": [
        {
          "output_type": "stream",
          "name": "stdout",
          "text": [
            "h\n",
            "e\n",
            "l\n",
            "l\n",
            "o\n"
          ]
        }
      ]
    },
    {
      "cell_type": "code",
      "source": [
        "##Nested for loop\n",
        "for i in range(3):\n",
        "        for j in range(3):\n",
        "            print(f\"i={i}, j={j}\")"
      ],
      "metadata": {
        "colab": {
          "base_uri": "https://localhost:8080/"
        },
        "id": "KBOWDqhZWS1L",
        "outputId": "304b149f-0718-4606-a1d9-4b69cd348132"
      },
      "execution_count": 18,
      "outputs": [
        {
          "output_type": "stream",
          "name": "stdout",
          "text": [
            "i=0, j=0\n",
            "i=0, j=1\n",
            "i=0, j=2\n",
            "i=1, j=0\n",
            "i=1, j=1\n",
            "i=1, j=2\n",
            "i=2, j=0\n",
            "i=2, j=1\n",
            "i=2, j=2\n"
          ]
        }
      ]
    },
    {
      "cell_type": "markdown",
      "source": [
        "### A `while` loop repeatedly executes a block of code as long as a given condition is `True`. It is especially useful when the number of iterations is not known beforehand."
      ],
      "metadata": {
        "id": "-WRClkIfZeIG"
      }
    },
    {
      "cell_type": "code",
      "source": [
        "count = 0\n",
        "while count < 5:\n",
        "    print(count)\n",
        "    count += 1"
      ],
      "metadata": {
        "colab": {
          "base_uri": "https://localhost:8080/"
        },
        "id": "gF1fhLtGWbuH",
        "outputId": "d4df7485-68c8-4b13-d00f-fcf8cc8d6d7b"
      },
      "execution_count": 22,
      "outputs": [
        {
          "output_type": "stream",
          "name": "stdout",
          "text": [
            "0\n",
            "1\n",
            "2\n",
            "3\n",
            "4\n"
          ]
        }
      ]
    },
    {
      "cell_type": "markdown",
      "source": [
        "# Exercise: print the output below.\n",
        "##2\n",
        "##4\n",
        "##6\n",
        "##8\n",
        "##We have 4 even numbers"
      ],
      "metadata": {
        "id": "RAYo_dVeXmKB"
      }
    },
    {
      "cell_type": "code",
      "source": [],
      "metadata": {
        "id": "6YTWihgZXnhR"
      },
      "execution_count": null,
      "outputs": []
    }
  ]
}