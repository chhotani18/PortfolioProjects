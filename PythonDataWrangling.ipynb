{
 "cells": [
  {
   "cell_type": "markdown",
   "id": "22ce30e2",
   "metadata": {},
   "source": [
    "## Pipeline:\n",
    "\n",
    "##### 1. Missing Values \n",
    "    Categorical\n",
    "    Numerical\n",
    "    DateTime\n",
    "\n",
    "##### 2. Data Types\n",
    "    Numerical\n",
    "    Categorical\n",
    "\n",
    "##### 3. Transformation\n",
    "    Row deletion with respect to threshold\n",
    "    Filling missing values of both categorical and numeric data\n",
    "    Changing column types\n",
    "\n",
    "##### 4. Outliers\n",
    "    Dist Plots\n",
    "    Box Plots\n",
    "\n",
    "##### 5. Descrpitive Stats\n",
    "\n",
    "    Bar charts\n",
    "    Distribution \n",
    "    Heatmaps\n",
    "    Scatter Plots\n",
    "##### 6. Inferential Analysis\n",
    "\n",
    "    T-Test\n",
    "    Chi-Square Test\n",
    "    ANOVA\n",
    "    Tukey Test"
   ]
  },
  {
   "cell_type": "code",
   "execution_count": 1,
   "id": "de82c3b9",
   "metadata": {},
   "outputs": [],
   "source": [
    "import pandas as pd\n",
    "import numpy as np\n",
    "from matplotlib import pyplot as plt\n",
    "import seaborn as sns\n",
    "import missingno as msno\n",
    "from scipy import stats"
   ]
  },
  {
   "cell_type": "code",
   "execution_count": 2,
   "id": "2f4e433d",
   "metadata": {},
   "outputs": [
    {
     "data": {
      "text/html": [
       "<div>\n",
       "<style scoped>\n",
       "    .dataframe tbody tr th:only-of-type {\n",
       "        vertical-align: middle;\n",
       "    }\n",
       "\n",
       "    .dataframe tbody tr th {\n",
       "        vertical-align: top;\n",
       "    }\n",
       "\n",
       "    .dataframe thead th {\n",
       "        text-align: right;\n",
       "    }\n",
       "</style>\n",
       "<table border=\"1\" class=\"dataframe\">\n",
       "  <thead>\n",
       "    <tr style=\"text-align: right;\">\n",
       "      <th></th>\n",
       "      <th>datetime</th>\n",
       "      <th>season</th>\n",
       "      <th>holiday</th>\n",
       "      <th>workingday</th>\n",
       "      <th>weather</th>\n",
       "      <th>temp</th>\n",
       "      <th>atemp</th>\n",
       "      <th>humidity</th>\n",
       "      <th>windspeed</th>\n",
       "      <th>casual</th>\n",
       "      <th>registered</th>\n",
       "      <th>count</th>\n",
       "      <th>total</th>\n",
       "      <th>Products</th>\n",
       "    </tr>\n",
       "  </thead>\n",
       "  <tbody>\n",
       "    <tr>\n",
       "      <th>0</th>\n",
       "      <td>1/1/2011 0:00</td>\n",
       "      <td>1.0</td>\n",
       "      <td>0</td>\n",
       "      <td>0.0</td>\n",
       "      <td>1.0</td>\n",
       "      <td>9.84</td>\n",
       "      <td>14.395</td>\n",
       "      <td>81.0</td>\n",
       "      <td>0</td>\n",
       "      <td>3.0</td>\n",
       "      <td>13.0</td>\n",
       "      <td>16</td>\n",
       "      <td>1.0</td>\n",
       "      <td>abc</td>\n",
       "    </tr>\n",
       "    <tr>\n",
       "      <th>1</th>\n",
       "      <td>1/1/2011 1:00</td>\n",
       "      <td>1.0</td>\n",
       "      <td>0</td>\n",
       "      <td>0.0</td>\n",
       "      <td>1.0</td>\n",
       "      <td>9.02</td>\n",
       "      <td>13.635</td>\n",
       "      <td>80.0</td>\n",
       "      <td>0</td>\n",
       "      <td>8.0</td>\n",
       "      <td>32.0</td>\n",
       "      <td>40</td>\n",
       "      <td>2.0</td>\n",
       "      <td>abc</td>\n",
       "    </tr>\n",
       "    <tr>\n",
       "      <th>2</th>\n",
       "      <td>1/1/2011 2:00</td>\n",
       "      <td>1.0</td>\n",
       "      <td>0</td>\n",
       "      <td>0.0</td>\n",
       "      <td>1.0</td>\n",
       "      <td>9.02</td>\n",
       "      <td>13.635</td>\n",
       "      <td>80.0</td>\n",
       "      <td>0</td>\n",
       "      <td>5.0</td>\n",
       "      <td>27.0</td>\n",
       "      <td>32</td>\n",
       "      <td>3.0</td>\n",
       "      <td>abc</td>\n",
       "    </tr>\n",
       "    <tr>\n",
       "      <th>3</th>\n",
       "      <td>1/1/2011 3:00</td>\n",
       "      <td>1.0</td>\n",
       "      <td>0</td>\n",
       "      <td>0.0</td>\n",
       "      <td>1.0</td>\n",
       "      <td>9.84</td>\n",
       "      <td>14.395</td>\n",
       "      <td>75.0</td>\n",
       "      <td>0</td>\n",
       "      <td>3.0</td>\n",
       "      <td>10.0</td>\n",
       "      <td>13</td>\n",
       "      <td>NaN</td>\n",
       "      <td>abc</td>\n",
       "    </tr>\n",
       "    <tr>\n",
       "      <th>4</th>\n",
       "      <td>1/1/2011 4:00</td>\n",
       "      <td>1.0</td>\n",
       "      <td>0</td>\n",
       "      <td>0.0</td>\n",
       "      <td>1.0</td>\n",
       "      <td>9.84</td>\n",
       "      <td>14.395</td>\n",
       "      <td>75.0</td>\n",
       "      <td>0</td>\n",
       "      <td>0.0</td>\n",
       "      <td>1.0</td>\n",
       "      <td>1</td>\n",
       "      <td>NaN</td>\n",
       "      <td>abc</td>\n",
       "    </tr>\n",
       "  </tbody>\n",
       "</table>\n",
       "</div>"
      ],
      "text/plain": [
       "        datetime  season holiday  workingday  weather  temp   atemp  humidity  \\\n",
       "0  1/1/2011 0:00     1.0       0         0.0      1.0  9.84  14.395      81.0   \n",
       "1  1/1/2011 1:00     1.0       0         0.0      1.0  9.02  13.635      80.0   \n",
       "2  1/1/2011 2:00     1.0       0         0.0      1.0  9.02  13.635      80.0   \n",
       "3  1/1/2011 3:00     1.0       0         0.0      1.0  9.84  14.395      75.0   \n",
       "4  1/1/2011 4:00     1.0       0         0.0      1.0  9.84  14.395      75.0   \n",
       "\n",
       "  windspeed  casual  registered count  total Products  \n",
       "0         0     3.0        13.0    16    1.0      abc  \n",
       "1         0     8.0        32.0    40    2.0      abc  \n",
       "2         0     5.0        27.0    32    3.0      abc  \n",
       "3         0     3.0        10.0    13    NaN      abc  \n",
       "4         0     0.0         1.0     1    NaN      abc  "
      ]
     },
     "execution_count": 2,
     "metadata": {},
     "output_type": "execute_result"
    }
   ],
   "source": [
    "#Read csv file\n",
    "df = pd.read_csv(\"dirty.data.csv\",encoding=\"unicode_escape\")\n",
    "df.head()"
   ]
  },
  {
   "cell_type": "code",
   "execution_count": 3,
   "id": "8e0953bc",
   "metadata": {},
   "outputs": [
    {
     "data": {
      "text/plain": [
       "(10886, 14)"
      ]
     },
     "execution_count": 3,
     "metadata": {},
     "output_type": "execute_result"
    }
   ],
   "source": [
    "#Get number of rows and columns\n",
    "df.shape"
   ]
  },
  {
   "cell_type": "code",
   "execution_count": 4,
   "id": "ba0fcaa3",
   "metadata": {},
   "outputs": [
    {
     "name": "stdout",
     "output_type": "stream",
     "text": [
      "<class 'pandas.core.frame.DataFrame'>\n",
      "RangeIndex: 10886 entries, 0 to 10885\n",
      "Data columns (total 14 columns):\n",
      " #   Column      Non-Null Count  Dtype  \n",
      "---  ------      --------------  -----  \n",
      " 0   datetime    10882 non-null  object \n",
      " 1   season      10877 non-null  float64\n",
      " 2   holiday     10879 non-null  object \n",
      " 3   workingday  10878 non-null  float64\n",
      " 4   weather     10879 non-null  float64\n",
      " 5   temp        10876 non-null  float64\n",
      " 6   atemp       10879 non-null  float64\n",
      " 7   humidity    10873 non-null  float64\n",
      " 8   windspeed   10874 non-null  object \n",
      " 9   casual      10878 non-null  float64\n",
      " 10  registered  10877 non-null  float64\n",
      " 11  count       10875 non-null  object \n",
      " 12  total       3 non-null      float64\n",
      " 13  Products    10879 non-null  object \n",
      "dtypes: float64(9), object(5)\n",
      "memory usage: 1.2+ MB\n"
     ]
    }
   ],
   "source": [
    "#get info\n",
    "df.info()"
   ]
  },
  {
   "cell_type": "code",
   "execution_count": 5,
   "id": "6875530a",
   "metadata": {},
   "outputs": [
    {
     "name": "stdout",
     "output_type": "stream",
     "text": [
      "datetime          4\n",
      "season            9\n",
      "holiday           7\n",
      "workingday        8\n",
      "weather           7\n",
      "temp             10\n",
      "atemp             7\n",
      "humidity         13\n",
      "windspeed        12\n",
      "casual            8\n",
      "registered        9\n",
      "count            11\n",
      "total         10883\n",
      "Products          7\n",
      "dtype: int64\n"
     ]
    }
   ],
   "source": [
    "#Dealing with null values\n",
    "print(df.isna().sum())"
   ]
  },
  {
   "cell_type": "code",
   "execution_count": 6,
   "id": "b4c29aff",
   "metadata": {},
   "outputs": [
    {
     "data": {
      "text/html": [
       "<div>\n",
       "<style scoped>\n",
       "    .dataframe tbody tr th:only-of-type {\n",
       "        vertical-align: middle;\n",
       "    }\n",
       "\n",
       "    .dataframe tbody tr th {\n",
       "        vertical-align: top;\n",
       "    }\n",
       "\n",
       "    .dataframe thead th {\n",
       "        text-align: right;\n",
       "    }\n",
       "</style>\n",
       "<table border=\"1\" class=\"dataframe\">\n",
       "  <thead>\n",
       "    <tr style=\"text-align: right;\">\n",
       "      <th></th>\n",
       "      <th>datetime</th>\n",
       "      <th>season</th>\n",
       "      <th>holiday</th>\n",
       "      <th>workingday</th>\n",
       "      <th>weather</th>\n",
       "      <th>temp</th>\n",
       "      <th>atemp</th>\n",
       "      <th>humidity</th>\n",
       "      <th>windspeed</th>\n",
       "      <th>casual</th>\n",
       "      <th>registered</th>\n",
       "      <th>count</th>\n",
       "      <th>total</th>\n",
       "      <th>Products</th>\n",
       "    </tr>\n",
       "  </thead>\n",
       "  <tbody>\n",
       "    <tr>\n",
       "      <th>0</th>\n",
       "      <td>False</td>\n",
       "      <td>False</td>\n",
       "      <td>False</td>\n",
       "      <td>False</td>\n",
       "      <td>False</td>\n",
       "      <td>False</td>\n",
       "      <td>False</td>\n",
       "      <td>False</td>\n",
       "      <td>False</td>\n",
       "      <td>False</td>\n",
       "      <td>False</td>\n",
       "      <td>False</td>\n",
       "      <td>False</td>\n",
       "      <td>False</td>\n",
       "    </tr>\n",
       "    <tr>\n",
       "      <th>1</th>\n",
       "      <td>False</td>\n",
       "      <td>False</td>\n",
       "      <td>False</td>\n",
       "      <td>False</td>\n",
       "      <td>False</td>\n",
       "      <td>False</td>\n",
       "      <td>False</td>\n",
       "      <td>False</td>\n",
       "      <td>False</td>\n",
       "      <td>False</td>\n",
       "      <td>False</td>\n",
       "      <td>False</td>\n",
       "      <td>False</td>\n",
       "      <td>False</td>\n",
       "    </tr>\n",
       "    <tr>\n",
       "      <th>2</th>\n",
       "      <td>False</td>\n",
       "      <td>False</td>\n",
       "      <td>False</td>\n",
       "      <td>False</td>\n",
       "      <td>False</td>\n",
       "      <td>False</td>\n",
       "      <td>False</td>\n",
       "      <td>False</td>\n",
       "      <td>False</td>\n",
       "      <td>False</td>\n",
       "      <td>False</td>\n",
       "      <td>False</td>\n",
       "      <td>False</td>\n",
       "      <td>False</td>\n",
       "    </tr>\n",
       "    <tr>\n",
       "      <th>3</th>\n",
       "      <td>False</td>\n",
       "      <td>False</td>\n",
       "      <td>False</td>\n",
       "      <td>False</td>\n",
       "      <td>False</td>\n",
       "      <td>False</td>\n",
       "      <td>False</td>\n",
       "      <td>False</td>\n",
       "      <td>False</td>\n",
       "      <td>False</td>\n",
       "      <td>False</td>\n",
       "      <td>False</td>\n",
       "      <td>True</td>\n",
       "      <td>False</td>\n",
       "    </tr>\n",
       "    <tr>\n",
       "      <th>4</th>\n",
       "      <td>False</td>\n",
       "      <td>False</td>\n",
       "      <td>False</td>\n",
       "      <td>False</td>\n",
       "      <td>False</td>\n",
       "      <td>False</td>\n",
       "      <td>False</td>\n",
       "      <td>False</td>\n",
       "      <td>False</td>\n",
       "      <td>False</td>\n",
       "      <td>False</td>\n",
       "      <td>False</td>\n",
       "      <td>True</td>\n",
       "      <td>False</td>\n",
       "    </tr>\n",
       "    <tr>\n",
       "      <th>...</th>\n",
       "      <td>...</td>\n",
       "      <td>...</td>\n",
       "      <td>...</td>\n",
       "      <td>...</td>\n",
       "      <td>...</td>\n",
       "      <td>...</td>\n",
       "      <td>...</td>\n",
       "      <td>...</td>\n",
       "      <td>...</td>\n",
       "      <td>...</td>\n",
       "      <td>...</td>\n",
       "      <td>...</td>\n",
       "      <td>...</td>\n",
       "      <td>...</td>\n",
       "    </tr>\n",
       "    <tr>\n",
       "      <th>10881</th>\n",
       "      <td>False</td>\n",
       "      <td>True</td>\n",
       "      <td>True</td>\n",
       "      <td>True</td>\n",
       "      <td>True</td>\n",
       "      <td>True</td>\n",
       "      <td>True</td>\n",
       "      <td>True</td>\n",
       "      <td>True</td>\n",
       "      <td>True</td>\n",
       "      <td>True</td>\n",
       "      <td>True</td>\n",
       "      <td>True</td>\n",
       "      <td>True</td>\n",
       "    </tr>\n",
       "    <tr>\n",
       "      <th>10882</th>\n",
       "      <td>False</td>\n",
       "      <td>True</td>\n",
       "      <td>True</td>\n",
       "      <td>True</td>\n",
       "      <td>True</td>\n",
       "      <td>True</td>\n",
       "      <td>True</td>\n",
       "      <td>True</td>\n",
       "      <td>True</td>\n",
       "      <td>True</td>\n",
       "      <td>True</td>\n",
       "      <td>True</td>\n",
       "      <td>True</td>\n",
       "      <td>True</td>\n",
       "    </tr>\n",
       "    <tr>\n",
       "      <th>10883</th>\n",
       "      <td>False</td>\n",
       "      <td>True</td>\n",
       "      <td>True</td>\n",
       "      <td>True</td>\n",
       "      <td>True</td>\n",
       "      <td>True</td>\n",
       "      <td>True</td>\n",
       "      <td>True</td>\n",
       "      <td>True</td>\n",
       "      <td>True</td>\n",
       "      <td>True</td>\n",
       "      <td>True</td>\n",
       "      <td>True</td>\n",
       "      <td>True</td>\n",
       "    </tr>\n",
       "    <tr>\n",
       "      <th>10884</th>\n",
       "      <td>False</td>\n",
       "      <td>True</td>\n",
       "      <td>True</td>\n",
       "      <td>True</td>\n",
       "      <td>True</td>\n",
       "      <td>True</td>\n",
       "      <td>True</td>\n",
       "      <td>True</td>\n",
       "      <td>True</td>\n",
       "      <td>True</td>\n",
       "      <td>True</td>\n",
       "      <td>True</td>\n",
       "      <td>True</td>\n",
       "      <td>True</td>\n",
       "    </tr>\n",
       "    <tr>\n",
       "      <th>10885</th>\n",
       "      <td>False</td>\n",
       "      <td>True</td>\n",
       "      <td>True</td>\n",
       "      <td>True</td>\n",
       "      <td>True</td>\n",
       "      <td>True</td>\n",
       "      <td>True</td>\n",
       "      <td>True</td>\n",
       "      <td>True</td>\n",
       "      <td>True</td>\n",
       "      <td>True</td>\n",
       "      <td>True</td>\n",
       "      <td>True</td>\n",
       "      <td>True</td>\n",
       "    </tr>\n",
       "  </tbody>\n",
       "</table>\n",
       "<p>10886 rows × 14 columns</p>\n",
       "</div>"
      ],
      "text/plain": [
       "       datetime  season  holiday  workingday  weather   temp  atemp  humidity  \\\n",
       "0         False   False    False       False    False  False  False     False   \n",
       "1         False   False    False       False    False  False  False     False   \n",
       "2         False   False    False       False    False  False  False     False   \n",
       "3         False   False    False       False    False  False  False     False   \n",
       "4         False   False    False       False    False  False  False     False   \n",
       "...         ...     ...      ...         ...      ...    ...    ...       ...   \n",
       "10881     False    True     True        True     True   True   True      True   \n",
       "10882     False    True     True        True     True   True   True      True   \n",
       "10883     False    True     True        True     True   True   True      True   \n",
       "10884     False    True     True        True     True   True   True      True   \n",
       "10885     False    True     True        True     True   True   True      True   \n",
       "\n",
       "       windspeed  casual  registered  count  total  Products  \n",
       "0          False   False       False  False  False     False  \n",
       "1          False   False       False  False  False     False  \n",
       "2          False   False       False  False  False     False  \n",
       "3          False   False       False  False   True     False  \n",
       "4          False   False       False  False   True     False  \n",
       "...          ...     ...         ...    ...    ...       ...  \n",
       "10881       True    True        True   True   True      True  \n",
       "10882       True    True        True   True   True      True  \n",
       "10883       True    True        True   True   True      True  \n",
       "10884       True    True        True   True   True      True  \n",
       "10885       True    True        True   True   True      True  \n",
       "\n",
       "[10886 rows x 14 columns]"
      ]
     },
     "execution_count": 6,
     "metadata": {},
     "output_type": "execute_result"
    }
   ],
   "source": [
    "#Dealing with null values\n",
    "df.isna()"
   ]
  },
  {
   "cell_type": "code",
   "execution_count": 7,
   "id": "8eb2970a",
   "metadata": {
    "scrolled": true
   },
   "outputs": [
    {
     "data": {
      "text/plain": [
       "array([False, False, False, ...,  True,  True,  True])"
      ]
     },
     "execution_count": 7,
     "metadata": {},
     "output_type": "execute_result"
    }
   ],
   "source": [
    "#dealing with null values\n",
    "df.isnull().values.any(axis=1)"
   ]
  },
  {
   "cell_type": "code",
   "execution_count": 8,
   "id": "79e0f61c",
   "metadata": {},
   "outputs": [
    {
     "data": {
      "text/plain": [
       "10883"
      ]
     },
     "execution_count": 8,
     "metadata": {},
     "output_type": "execute_result"
    }
   ],
   "source": [
    "df.isnull().any(axis = 1).sum() #total number of rows with missing data"
   ]
  },
  {
   "cell_type": "code",
   "execution_count": 9,
   "id": "3f87fdfe",
   "metadata": {},
   "outputs": [
    {
     "data": {
      "text/plain": [
       "datetime         3.674444\n",
       "season           8.267500\n",
       "holiday          6.430277\n",
       "workingday       7.348888\n",
       "weather          6.430277\n",
       "temp             9.186111\n",
       "atemp            6.430277\n",
       "humidity        11.941944\n",
       "windspeed       11.023333\n",
       "casual           7.348888\n",
       "registered       8.267500\n",
       "count           10.104722\n",
       "total         9997.244167\n",
       "Products         6.430277\n",
       "dtype: float64"
      ]
     },
     "execution_count": 9,
     "metadata": {},
     "output_type": "execute_result"
    }
   ],
   "source": [
    "df.isnull().sum() / df.shape[0] * 10000.00 #missing values as a percentage"
   ]
  },
  {
   "cell_type": "code",
   "execution_count": 10,
   "id": "4a56ad16",
   "metadata": {},
   "outputs": [
    {
     "data": {
      "text/plain": [
       "<AxesSubplot:>"
      ]
     },
     "execution_count": 10,
     "metadata": {},
     "output_type": "execute_result"
    },
    {
     "data": {
      "image/png": "[encoded data removed]",
      "text/plain": [
       "<Figure size 1728x720 with 3 Axes>"
      ]
     },
     "metadata": {
      "needs_background": "light"
     },
     "output_type": "display_data"
    }
   ],
   "source": [
    "msno.bar(df) #visualizing missing values"
   ]
  },
  {
   "cell_type": "code",
   "execution_count": 11,
   "id": "f9d9cb71",
   "metadata": {},
   "outputs": [
    {
     "data": {
      "text/plain": [
       "<AxesSubplot:>"
      ]
     },
     "execution_count": 11,
     "metadata": {},
     "output_type": "execute_result"
    },
    {
     "data": {
      "image/png": "[encoded data removed]",
      "text/plain": [
       "<Figure size 1800x720 with 2 Axes>"
      ]
     },
     "metadata": {
      "needs_background": "light"
     },
     "output_type": "display_data"
    }
   ],
   "source": [
    "# Missing data visualization\n",
    "msno.matrix(df)"
   ]
  },
  {
   "cell_type": "code",
   "execution_count": 12,
   "id": "b2f3960f",
   "metadata": {},
   "outputs": [],
   "source": [
    "#set threshold for columns with missing values\n",
    "max_number_of_nas = 3000\n",
    "df.drop(df.columns[df.isnull().sum(axis=0) > max_number_of_nas], axis=1, inplace=True)"
   ]
  },
  {
   "cell_type": "code",
   "execution_count": 13,
   "id": "768e2aed",
   "metadata": {},
   "outputs": [
    {
     "data": {
      "text/html": [
       "<div>\n",
       "<style scoped>\n",
       "    .dataframe tbody tr th:only-of-type {\n",
       "        vertical-align: middle;\n",
       "    }\n",
       "\n",
       "    .dataframe tbody tr th {\n",
       "        vertical-align: top;\n",
       "    }\n",
       "\n",
       "    .dataframe thead th {\n",
       "        text-align: right;\n",
       "    }\n",
       "</style>\n",
       "<table border=\"1\" class=\"dataframe\">\n",
       "  <thead>\n",
       "    <tr style=\"text-align: right;\">\n",
       "      <th></th>\n",
       "      <th>datetime</th>\n",
       "      <th>season</th>\n",
       "      <th>holiday</th>\n",
       "      <th>workingday</th>\n",
       "      <th>weather</th>\n",
       "      <th>temp</th>\n",
       "      <th>atemp</th>\n",
       "      <th>humidity</th>\n",
       "      <th>windspeed</th>\n",
       "      <th>casual</th>\n",
       "      <th>registered</th>\n",
       "      <th>count</th>\n",
       "      <th>Products</th>\n",
       "    </tr>\n",
       "  </thead>\n",
       "  <tbody>\n",
       "    <tr>\n",
       "      <th>10881</th>\n",
       "      <td>12/19/2012 19:00</td>\n",
       "      <td>NaN</td>\n",
       "      <td>NaN</td>\n",
       "      <td>NaN</td>\n",
       "      <td>NaN</td>\n",
       "      <td>NaN</td>\n",
       "      <td>NaN</td>\n",
       "      <td>NaN</td>\n",
       "      <td>NaN</td>\n",
       "      <td>NaN</td>\n",
       "      <td>NaN</td>\n",
       "      <td>NaN</td>\n",
       "      <td>NaN</td>\n",
       "    </tr>\n",
       "    <tr>\n",
       "      <th>10882</th>\n",
       "      <td>12/19/2012 20:00</td>\n",
       "      <td>NaN</td>\n",
       "      <td>NaN</td>\n",
       "      <td>NaN</td>\n",
       "      <td>NaN</td>\n",
       "      <td>NaN</td>\n",
       "      <td>NaN</td>\n",
       "      <td>NaN</td>\n",
       "      <td>NaN</td>\n",
       "      <td>NaN</td>\n",
       "      <td>NaN</td>\n",
       "      <td>NaN</td>\n",
       "      <td>NaN</td>\n",
       "    </tr>\n",
       "    <tr>\n",
       "      <th>10883</th>\n",
       "      <td>12/19/2012 21:00</td>\n",
       "      <td>NaN</td>\n",
       "      <td>NaN</td>\n",
       "      <td>NaN</td>\n",
       "      <td>NaN</td>\n",
       "      <td>NaN</td>\n",
       "      <td>NaN</td>\n",
       "      <td>NaN</td>\n",
       "      <td>NaN</td>\n",
       "      <td>NaN</td>\n",
       "      <td>NaN</td>\n",
       "      <td>NaN</td>\n",
       "      <td>NaN</td>\n",
       "    </tr>\n",
       "    <tr>\n",
       "      <th>10884</th>\n",
       "      <td>12/19/2012 22:00</td>\n",
       "      <td>NaN</td>\n",
       "      <td>NaN</td>\n",
       "      <td>NaN</td>\n",
       "      <td>NaN</td>\n",
       "      <td>NaN</td>\n",
       "      <td>NaN</td>\n",
       "      <td>NaN</td>\n",
       "      <td>NaN</td>\n",
       "      <td>NaN</td>\n",
       "      <td>NaN</td>\n",
       "      <td>NaN</td>\n",
       "      <td>NaN</td>\n",
       "    </tr>\n",
       "    <tr>\n",
       "      <th>10885</th>\n",
       "      <td>12/19/2012 23:00</td>\n",
       "      <td>NaN</td>\n",
       "      <td>NaN</td>\n",
       "      <td>NaN</td>\n",
       "      <td>NaN</td>\n",
       "      <td>NaN</td>\n",
       "      <td>NaN</td>\n",
       "      <td>NaN</td>\n",
       "      <td>NaN</td>\n",
       "      <td>NaN</td>\n",
       "      <td>NaN</td>\n",
       "      <td>NaN</td>\n",
       "      <td>NaN</td>\n",
       "    </tr>\n",
       "  </tbody>\n",
       "</table>\n",
       "</div>"
      ],
      "text/plain": [
       "               datetime  season holiday  workingday  weather  temp  atemp  \\\n",
       "10881  12/19/2012 19:00     NaN     NaN         NaN      NaN   NaN    NaN   \n",
       "10882  12/19/2012 20:00     NaN     NaN         NaN      NaN   NaN    NaN   \n",
       "10883  12/19/2012 21:00     NaN     NaN         NaN      NaN   NaN    NaN   \n",
       "10884  12/19/2012 22:00     NaN     NaN         NaN      NaN   NaN    NaN   \n",
       "10885  12/19/2012 23:00     NaN     NaN         NaN      NaN   NaN    NaN   \n",
       "\n",
       "       humidity windspeed  casual  registered count Products  \n",
       "10881       NaN       NaN     NaN         NaN   NaN      NaN  \n",
       "10882       NaN       NaN     NaN         NaN   NaN      NaN  \n",
       "10883       NaN       NaN     NaN         NaN   NaN      NaN  \n",
       "10884       NaN       NaN     NaN         NaN   NaN      NaN  \n",
       "10885       NaN       NaN     NaN         NaN   NaN      NaN  "
      ]
     },
     "execution_count": 13,
     "metadata": {},
     "output_type": "execute_result"
    }
   ],
   "source": [
    "#set threshold for rows with missing values\n",
    "def remove_column_missing_val(df, thr):\n",
    "    perc = thr\n",
    "    min_count =  int(((100-perc)/100)*df.shape[1] + 1)\n",
    "    mod_df = df.dropna( axis=1, thresh=min_count)\n",
    "    return mod_df\n",
    "\n",
    "missing = remove_column_missing_val(df,10)\n",
    "missing.tail()"
   ]
  },
  {
   "cell_type": "code",
   "execution_count": 14,
   "id": "963a3844",
   "metadata": {},
   "outputs": [],
   "source": [
    "# Only columns with missing values, the total number along with the %age\n",
    "def missing_values_table(df):\n",
    "        # Total missing values\n",
    "        mis_val = df.isnull().sum()\n",
    "        \n",
    "        # Percentage of missing values\n",
    "        mis_val_percent = 100 * df.isnull().sum() / len(df)\n",
    "        \n",
    "        # Make a table with the results\n",
    "        mis_val_table = pd.concat([mis_val, mis_val_percent], axis=1)\n",
    "        \n",
    "        # Rename the columns\n",
    "        mis_val_table_ren_columns = mis_val_table.rename(\n",
    "        columns = {0 : 'Missing Values', 1 : '% of Total Values'})\n",
    "        \n",
    "        # Sort the table by percentage of missing descending\n",
    "        mis_val_table_ren_columns = mis_val_table_ren_columns[\n",
    "            mis_val_table_ren_columns.iloc[:,1] != 0].sort_values(\n",
    "        '% of Total Values', ascending=False).round(1)\n",
    "        \n",
    "        # Print some summary information\n",
    "        print (\"Your selected dataframe has \" + str(df.shape[1]) + \" columns.\\n\"      \n",
    "            \"There are \" + str(mis_val_table_ren_columns.shape[0]) +\n",
    "              \" columns that have missing values.\")\n",
    "        \n",
    "        # Return the dataframe with missing information\n",
    "        return mis_val_table_ren_columns"
   ]
  },
  {
   "cell_type": "code",
   "execution_count": 15,
   "id": "f17f7f04",
   "metadata": {},
   "outputs": [
    {
     "name": "stdout",
     "output_type": "stream",
     "text": [
      "Your selected dataframe has 13 columns.\n",
      "There are 13 columns that have missing values.\n",
      "            Missing Values  % of Total Values\n",
      "humidity                13                0.1\n",
      "windspeed               12                0.1\n",
      "count                   11                0.1\n",
      "temp                    10                0.1\n",
      "season                   9                0.1\n",
      "registered               9                0.1\n",
      "workingday               8                0.1\n",
      "casual                   8                0.1\n",
      "holiday                  7                0.1\n",
      "weather                  7                0.1\n",
      "atemp                    7                0.1\n",
      "Products                 7                0.1\n",
      "datetime                 4                0.0\n"
     ]
    }
   ],
   "source": [
    "#call the function\n",
    "xyz = missing_values_table(df)\n",
    "print(xyz)"
   ]
  },
  {
   "cell_type": "code",
   "execution_count": 16,
   "id": "bdeefb8e",
   "metadata": {
    "scrolled": true
   },
   "outputs": [
    {
     "data": {
      "text/html": [
       "<div>\n",
       "<style scoped>\n",
       "    .dataframe tbody tr th:only-of-type {\n",
       "        vertical-align: middle;\n",
       "    }\n",
       "\n",
       "    .dataframe tbody tr th {\n",
       "        vertical-align: top;\n",
       "    }\n",
       "\n",
       "    .dataframe thead th {\n",
       "        text-align: right;\n",
       "    }\n",
       "</style>\n",
       "<table border=\"1\" class=\"dataframe\">\n",
       "  <thead>\n",
       "    <tr style=\"text-align: right;\">\n",
       "      <th></th>\n",
       "      <th>datetime</th>\n",
       "      <th>season</th>\n",
       "      <th>holiday</th>\n",
       "      <th>workingday</th>\n",
       "      <th>weather</th>\n",
       "      <th>temp</th>\n",
       "      <th>atemp</th>\n",
       "      <th>humidity</th>\n",
       "      <th>windspeed</th>\n",
       "      <th>casual</th>\n",
       "      <th>registered</th>\n",
       "      <th>count</th>\n",
       "      <th>Products</th>\n",
       "    </tr>\n",
       "  </thead>\n",
       "  <tbody>\n",
       "    <tr>\n",
       "      <th>10874</th>\n",
       "      <td>12/19/2012 12:00</td>\n",
       "      <td>4.0</td>\n",
       "      <td>0</td>\n",
       "      <td>1.0</td>\n",
       "      <td>1.0</td>\n",
       "      <td>16.40</td>\n",
       "      <td>20.455</td>\n",
       "      <td>54.0</td>\n",
       "      <td>19.0012</td>\n",
       "      <td>33.0</td>\n",
       "      <td>203.0</td>\n",
       "      <td>236</td>\n",
       "      <td>stu</td>\n",
       "    </tr>\n",
       "    <tr>\n",
       "      <th>10875</th>\n",
       "      <td>12/19/2012 13:00</td>\n",
       "      <td>4.0</td>\n",
       "      <td>0</td>\n",
       "      <td>1.0</td>\n",
       "      <td>1.0</td>\n",
       "      <td>17.22</td>\n",
       "      <td>21.210</td>\n",
       "      <td>50.0</td>\n",
       "      <td>12.998</td>\n",
       "      <td>30.0</td>\n",
       "      <td>183.0</td>\n",
       "      <td>213</td>\n",
       "      <td>stu</td>\n",
       "    </tr>\n",
       "    <tr>\n",
       "      <th>10876</th>\n",
       "      <td>12/19/2012 14:00</td>\n",
       "      <td>4.0</td>\n",
       "      <td>0</td>\n",
       "      <td>1.0</td>\n",
       "      <td>1.0</td>\n",
       "      <td>17.22</td>\n",
       "      <td>21.210</td>\n",
       "      <td>50.0</td>\n",
       "      <td>12.998</td>\n",
       "      <td>33.0</td>\n",
       "      <td>185.0</td>\n",
       "      <td>218</td>\n",
       "      <td>stu</td>\n",
       "    </tr>\n",
       "    <tr>\n",
       "      <th>10877</th>\n",
       "      <td>12/19/2012 15:00</td>\n",
       "      <td>4.0</td>\n",
       "      <td>0</td>\n",
       "      <td>1.0</td>\n",
       "      <td>1.0</td>\n",
       "      <td>17.22</td>\n",
       "      <td>21.210</td>\n",
       "      <td>50.0</td>\n",
       "      <td>19.0012</td>\n",
       "      <td>28.0</td>\n",
       "      <td>209.0</td>\n",
       "      <td>237</td>\n",
       "      <td>stu</td>\n",
       "    </tr>\n",
       "    <tr>\n",
       "      <th>10878</th>\n",
       "      <td>12/19/2012 16:00</td>\n",
       "      <td>4.0</td>\n",
       "      <td>0</td>\n",
       "      <td>1.0</td>\n",
       "      <td>1.0</td>\n",
       "      <td>17.22</td>\n",
       "      <td>21.210</td>\n",
       "      <td>50.0</td>\n",
       "      <td>23.9994</td>\n",
       "      <td>37.0</td>\n",
       "      <td>297.0</td>\n",
       "      <td>334</td>\n",
       "      <td>stu</td>\n",
       "    </tr>\n",
       "  </tbody>\n",
       "</table>\n",
       "</div>"
      ],
      "text/plain": [
       "               datetime  season holiday  workingday  weather   temp   atemp  \\\n",
       "10874  12/19/2012 12:00     4.0       0         1.0      1.0  16.40  20.455   \n",
       "10875  12/19/2012 13:00     4.0       0         1.0      1.0  17.22  21.210   \n",
       "10876  12/19/2012 14:00     4.0       0         1.0      1.0  17.22  21.210   \n",
       "10877  12/19/2012 15:00     4.0       0         1.0      1.0  17.22  21.210   \n",
       "10878  12/19/2012 16:00     4.0       0         1.0      1.0  17.22  21.210   \n",
       "\n",
       "       humidity windspeed  casual  registered count Products  \n",
       "10874      54.0   19.0012    33.0       203.0   236      stu  \n",
       "10875      50.0    12.998    30.0       183.0   213      stu  \n",
       "10876      50.0    12.998    33.0       185.0   218      stu  \n",
       "10877      50.0   19.0012    28.0       209.0   237      stu  \n",
       "10878      50.0   23.9994    37.0       297.0   334      stu  "
      ]
     },
     "execution_count": 16,
     "metadata": {},
     "output_type": "execute_result"
    }
   ],
   "source": [
    "# Remove rows based on a missing value threshold\n",
    "def remove_row_missing_val(df, thr):\n",
    "    perc = thr\n",
    "    min_count =  int(((100-perc)/100)*df.shape[1] + 1)\n",
    "    mod_df = df.dropna( axis=0, thresh=min_count)\n",
    "    return mod_df\n",
    "\n",
    "missing = remove_row_missing_val(df,10)\n",
    "missing.tail()"
   ]
  },
  {
   "cell_type": "code",
   "execution_count": 17,
   "id": "f362f3db",
   "metadata": {},
   "outputs": [
    {
     "data": {
      "text/plain": [
       "<AxesSubplot:>"
      ]
     },
     "execution_count": 17,
     "metadata": {},
     "output_type": "execute_result"
    },
    {
     "data": {
      "image/png": "[encoded data removed]",
      "text/plain": [
       "<Figure size 1440x864 with 1 Axes>"
      ]
     },
     "metadata": {
      "needs_background": "light"
     },
     "output_type": "display_data"
    }
   ],
   "source": [
    "msno.heatmap(df)"
   ]
  },
  {
   "cell_type": "code",
   "execution_count": 18,
   "id": "62e7e966",
   "metadata": {},
   "outputs": [
    {
     "data": {
      "text/plain": [
       "<AxesSubplot:>"
      ]
     },
     "execution_count": 18,
     "metadata": {},
     "output_type": "execute_result"
    },
    {
     "data": {
      "image/png": "[encoded data removed]",
      "text/plain": [
       "<Figure size 1800x720 with 1 Axes>"
      ]
     },
     "metadata": {
      "needs_background": "light"
     },
     "output_type": "display_data"
    }
   ],
   "source": [
    "msno.dendrogram(df)"
   ]
  },
  {
   "cell_type": "code",
   "execution_count": 19,
   "id": "be19e16a",
   "metadata": {},
   "outputs": [
    {
     "name": "stdout",
     "output_type": "stream",
     "text": [
      "['season', 'workingday', 'weather', 'temp', 'atemp', 'humidity', 'casual', 'registered']\n"
     ]
    }
   ],
   "source": [
    "#return numeric columns\n",
    "def get_num_cols(df):\n",
    "    types_map = df.dtypes.to_dict()\n",
    "    num_columns = []\n",
    "    for k,v in types_map.items():\n",
    "        if np.issubdtype(np.int64, v) or np.issubdtype(np.float64, v):\n",
    "            num_columns.append(k)\n",
    "\n",
    "    #print(num_columns)\n",
    "    return num_columns\n",
    "numeric_columns = get_num_cols(df)\n",
    "print(numeric_columns)"
   ]
  },
  {
   "cell_type": "code",
   "execution_count": 20,
   "id": "ac9a0a6b",
   "metadata": {},
   "outputs": [
    {
     "name": "stdout",
     "output_type": "stream",
     "text": [
      "['datetime', 'holiday', 'windspeed', 'count', 'Products']\n"
     ]
    }
   ],
   "source": [
    "#return categorical columns\n",
    "def get_cat_cols(df):\n",
    "    types_map = df.dtypes.to_dict()\n",
    "    cat_columns = []\n",
    "    for k,v in types_map.items():\n",
    "        if not( np.issubdtype(np.int64, v) or np.issubdtype(np.float64, v)):\n",
    "            cat_columns.append(k)\n",
    "\n",
    "    #print(cat_columns)\n",
    "    return cat_columns\n",
    "categorical = get_cat_cols(df)\n",
    "print(categorical)"
   ]
  },
  {
   "cell_type": "code",
   "execution_count": 21,
   "id": "2417fd69",
   "metadata": {},
   "outputs": [
    {
     "name": "stdout",
     "output_type": "stream",
     "text": [
      "1/1/2011 0:00       1\n",
      "5/1/2012 22:00      1\n",
      "5/1/2012 14:00      1\n",
      "5/1/2012 15:00      1\n",
      "5/1/2012 16:00      1\n",
      "                   ..\n",
      "9/2/2011 7:00       1\n",
      "9/2/2011 8:00       1\n",
      "9/2/2011 9:00       1\n",
      "9/2/2011 10:00      1\n",
      "12/19/2012 23:00    1\n",
      "Name: datetime, Length: 10882, dtype: int64\n",
      "\n",
      "0        10567\n",
      "1          311\n",
      "hello        1\n",
      "Name: holiday, dtype: int64\n",
      "\n",
      "0          1312\n",
      "8.9981     1119\n",
      "11.0014    1057\n",
      "12.998     1042\n",
      "7.0015     1032\n",
      "15.0013     959\n",
      "6.0032      871\n",
      "16.9979     823\n",
      "19.0012     676\n",
      "19.9995     492\n",
      "22.0028     372\n",
      "23.9994     272\n",
      "26.0027     232\n",
      "27.9993     187\n",
      "30.0026     111\n",
      "31.0009      89\n",
      "32.9975      80\n",
      "35.0008      58\n",
      "39.0007      27\n",
      "36.9974      22\n",
      "43.0006      12\n",
      "40.9973      11\n",
      "43.9989       8\n",
      "46.0022       3\n",
      "56.9969       2\n",
      "47.9988       2\n",
      "51.9987       1\n",
      "50.0021       1\n",
      "why not       1\n",
      "Name: windspeed, dtype: int64\n",
      "\n",
      "5      169\n",
      "4      149\n",
      "3      144\n",
      "6      135\n",
      "2      132\n",
      "      ... \n",
      "831      1\n",
      "793      1\n",
      "700      1\n",
      "869      1\n",
      "636      1\n",
      "Name: count, Length: 823, dtype: int64\n",
      "\n",
      "pqr    4057\n",
      "abc    3553\n",
      "def    2398\n",
      "stu     870\n",
      "xyz       1\n",
      "Name: Products, dtype: int64\n",
      "\n",
      "2.0    2733\n",
      "3.0    2733\n",
      "4.0    2727\n",
      "1.0    2684\n",
      "Name: season, dtype: int64\n",
      "\n",
      "1.0    7405\n",
      "0.0    3473\n",
      "Name: workingday, dtype: int64\n",
      "\n",
      "1.0    7185\n",
      "2.0    2834\n",
      "3.0     859\n",
      "4.0       1\n",
      "Name: weather, dtype: int64\n",
      "\n",
      " 14.76     465\n",
      " 26.24     453\n",
      " 28.70     427\n",
      " 13.94     411\n",
      " 18.86     406\n",
      " 25.42     403\n",
      " 22.14     403\n",
      " 16.40     399\n",
      " 22.96     395\n",
      " 27.06     394\n",
      " 24.60     390\n",
      " 12.30     384\n",
      " 21.32     362\n",
      " 17.22     355\n",
      " 13.12     355\n",
      " 29.52     353\n",
      " 10.66     332\n",
      " 18.04     328\n",
      " 20.50     327\n",
      " 30.34     299\n",
      " 9.84      294\n",
      " 15.58     253\n",
      " 9.02      248\n",
      " 31.16     242\n",
      " 8.20      229\n",
      " 27.88     224\n",
      " 23.78     203\n",
      " 32.80     202\n",
      " 11.48     181\n",
      " 19.68     170\n",
      " 6.56      144\n",
      " 33.62     130\n",
      " 5.74      107\n",
      " 7.38      106\n",
      " 31.98      98\n",
      " 34.44      80\n",
      " 35.26      76\n",
      " 4.92       60\n",
      " 36.90      46\n",
      " 4.10       44\n",
      " 37.72      34\n",
      " 36.08      23\n",
      " 3.28       11\n",
      " 38.54       7\n",
      " 0.82        7\n",
      " 39.36       6\n",
      " 2.46        5\n",
      " 1.64        2\n",
      "-100.00      1\n",
      "-200.00      1\n",
      " 41.00       1\n",
      "Name: temp, dtype: int64\n",
      "\n",
      "31.060    671\n",
      "25.760    423\n",
      "22.725    406\n",
      "20.455    399\n",
      "26.515    395\n",
      "16.665    380\n",
      "25.000    365\n",
      "33.335    364\n",
      "21.210    356\n",
      "30.305    350\n",
      "15.150    338\n",
      "21.970    328\n",
      "24.240    327\n",
      "17.425    312\n",
      "31.820    299\n",
      "34.850    283\n",
      "27.275    282\n",
      "32.575    272\n",
      "11.365    271\n",
      "14.395    269\n",
      "29.545    257\n",
      "15.910    253\n",
      "19.695    253\n",
      "12.880    247\n",
      "13.635    237\n",
      "34.090    224\n",
      "12.120    195\n",
      "28.790    175\n",
      "23.485    170\n",
      "10.605    166\n",
      "35.605    159\n",
      "9.850     127\n",
      "18.180    123\n",
      "36.365    123\n",
      "37.120    118\n",
      "9.090     107\n",
      "37.880     97\n",
      "28.030     80\n",
      "7.575      75\n",
      "38.635     74\n",
      "6.060      73\n",
      "39.395     67\n",
      "6.820      63\n",
      "8.335      63\n",
      "18.940     45\n",
      "40.150     45\n",
      "40.910     39\n",
      "5.305      25\n",
      "42.425     24\n",
      "41.665     23\n",
      "3.790      16\n",
      "4.545      11\n",
      "3.030       7\n",
      "43.940      7\n",
      "2.275       7\n",
      "43.180      7\n",
      "44.695      3\n",
      "0.760       2\n",
      "1.515       1\n",
      "45.455      1\n",
      "Name: atemp, dtype: int64\n",
      "\n",
      "88.0    368\n",
      "94.0    324\n",
      "83.0    316\n",
      "87.0    289\n",
      "70.0    259\n",
      "       ... \n",
      "8.0       1\n",
      "10.0      1\n",
      "97.0      1\n",
      "96.0      1\n",
      "91.0      1\n",
      "Name: humidity, Length: 89, dtype: int64\n",
      "\n",
      "0.0      986\n",
      "1.0      667\n",
      "2.0      487\n",
      "3.0      438\n",
      "4.0      352\n",
      "        ... \n",
      "332.0      1\n",
      "361.0      1\n",
      "356.0      1\n",
      "331.0      1\n",
      "304.0      1\n",
      "Name: casual, Length: 309, dtype: int64\n",
      "\n",
      "3.0      195\n",
      "4.0      190\n",
      "5.0      177\n",
      "6.0      155\n",
      "2.0      150\n",
      "        ... \n",
      "570.0      1\n",
      "522.0      1\n",
      "678.0      1\n",
      "494.0      1\n",
      "636.0      1\n",
      "Name: registered, Length: 731, dtype: int64\n",
      "\n"
     ]
    }
   ],
   "source": [
    "#print counts\n",
    "for col in categorical:\n",
    "    print(df[col].value_counts())\n",
    "    print()\n",
    "    \n",
    "for col in numeric_columns:\n",
    "    print(df[col].value_counts())\n",
    "    print()"
   ]
  },
  {
   "cell_type": "code",
   "execution_count": 22,
   "id": "ceb22d85",
   "metadata": {},
   "outputs": [
    {
     "name": "stdout",
     "output_type": "stream",
     "text": [
      "       season  workingday  weather  temp   atemp  humidity  casual  registered\n",
      "0         1.0         0.0      1.0  9.84  14.395      81.0     3.0        13.0\n",
      "1         1.0         0.0      1.0  9.02  13.635      80.0     8.0        32.0\n",
      "2         1.0         0.0      1.0  9.02  13.635      80.0     5.0        27.0\n",
      "3         1.0         0.0      1.0  9.84  14.395      75.0     3.0        10.0\n",
      "4         1.0         0.0      1.0  9.84  14.395      75.0     0.0         1.0\n",
      "...       ...         ...      ...   ...     ...       ...     ...         ...\n",
      "10881     NaN         NaN      NaN   NaN     NaN       NaN     NaN         NaN\n",
      "10882     NaN         NaN      NaN   NaN     NaN       NaN     NaN         NaN\n",
      "10883     NaN         NaN      NaN   NaN     NaN       NaN     NaN         NaN\n",
      "10884     NaN         NaN      NaN   NaN     NaN       NaN     NaN         NaN\n",
      "10885     NaN         NaN      NaN   NaN     NaN       NaN     NaN         NaN\n",
      "\n",
      "[10886 rows x 8 columns]\n",
      "               datetime holiday windspeed count Products\n",
      "0         1/1/2011 0:00       0         0    16      abc\n",
      "1         1/1/2011 1:00       0         0    40      abc\n",
      "2         1/1/2011 2:00       0         0    32      abc\n",
      "3         1/1/2011 3:00       0         0    13      abc\n",
      "4         1/1/2011 4:00       0         0     1      abc\n",
      "...                 ...     ...       ...   ...      ...\n",
      "10881  12/19/2012 19:00     NaN       NaN   NaN      NaN\n",
      "10882  12/19/2012 20:00     NaN       NaN   NaN      NaN\n",
      "10883  12/19/2012 21:00     NaN       NaN   NaN      NaN\n",
      "10884  12/19/2012 22:00     NaN       NaN   NaN      NaN\n",
      "10885  12/19/2012 23:00     NaN       NaN   NaN      NaN\n",
      "\n",
      "[10886 rows x 5 columns]\n"
     ]
    }
   ],
   "source": [
    "#check\n",
    "numeric_data = df.select_dtypes(include=[np.number])\n",
    "categorical_data = df.select_dtypes(exclude=[np.number])\n",
    "\n",
    "print(numeric_data)\n",
    "print(categorical_data)\n"
   ]
  },
  {
   "cell_type": "code",
   "execution_count": 23,
   "id": "37f48953",
   "metadata": {},
   "outputs": [],
   "source": [
    "# Changing data type of columns. (Based on inuition)\n",
    "new_df = df.astype({'holiday': 'object', 'weather': 'object'})"
   ]
  },
  {
   "cell_type": "markdown",
   "id": "bffaae84",
   "metadata": {},
   "source": [
    "Descriptive stats"
   ]
  },
  {
   "cell_type": "code",
   "execution_count": 24,
   "id": "0f1afa0f",
   "metadata": {},
   "outputs": [],
   "source": [
    "# Box Plot\n",
    "def box_plots(num_cols, df):\n",
    "    for i in range(len(num_cols)-1):\n",
    "        plt.figure(figsize=(10, 5), dpi = 100)\n",
    "        sns.boxplot(x = df[num_cols[i]])\n",
    "\n",
    "# Distribution plots\n",
    "def dis_plots(num_cols, df): \n",
    "    for i in range(len(num_cols)-1):\n",
    "        plt.figure(figsize=(10, 5), dpi = 100)\n",
    "        sns.displot(x = df[num_cols[i]])"
   ]
  },
  {
   "cell_type": "code",
   "execution_count": 25,
   "id": "5df581a2",
   "metadata": {},
   "outputs": [
    {
     "data": {
      "image/png": "[encoded data removed]",
      "text/plain": [
       "<Figure size 1000x500 with 1 Axes>"
      ]
     },
     "metadata": {
      "needs_background": "light"
     },
     "output_type": "display_data"
    },
    {
     "data": {
      "image/png": "[encoded data removed]",
      "text/plain": [
       "<Figure size 1000x500 with 1 Axes>"
      ]
     },
     "metadata": {
      "needs_background": "light"
     },
     "output_type": "display_data"
    },
    {
     "data": {
      "image/png": "[encoded data removed]",
      "text/plain": [
       "<Figure size 1000x500 with 1 Axes>"
      ]
     },
     "metadata": {
      "needs_background": "light"
     },
     "output_type": "display_data"
    },
    {
     "data": {
      "image/png": "[encoded data removed]",
      "text/plain": [
       "<Figure size 1000x500 with 1 Axes>"
      ]
     },
     "metadata": {
      "needs_background": "light"
     },
     "output_type": "display_data"
    },
    {
     "data": {
      "image/png": "[encoded data removed]",
      "text/plain": [
       "<Figure size 1000x500 with 1 Axes>"
      ]
     },
     "metadata": {
      "needs_background": "light"
     },
     "output_type": "display_data"
    },
    {
     "data": {
      "image/png": "[encoded data removed]",
      "text/plain": [
       "<Figure size 1000x500 with 1 Axes>"
      ]
     },
     "metadata": {
      "needs_background": "light"
     },
     "output_type": "display_data"
    },
    {
     "data": {
      "image/png": "[encoded data removed]",
      "text/plain": [
       "<Figure size 1000x500 with 1 Axes>"
      ]
     },
     "metadata": {
      "needs_background": "light"
     },
     "output_type": "display_data"
    }
   ],
   "source": [
    "box_plots(numeric_columns, df)"
   ]
  },
  {
   "cell_type": "code",
   "execution_count": 26,
   "id": "1ba06b22",
   "metadata": {},
   "outputs": [
    {
     "data": {
      "text/plain": [
       "<Figure size 1000x500 with 0 Axes>"
      ]
     },
     "metadata": {},
     "output_type": "display_data"
    },
    {
     "data": {
      "image/png": "[encoded data removed]",
      "text/plain": [
       "<Figure size 360x360 with 1 Axes>"
      ]
     },
     "metadata": {
      "needs_background": "light"
     },
     "output_type": "display_data"
    },
    {
     "data": {
      "text/plain": [
       "<Figure size 1000x500 with 0 Axes>"
      ]
     },
     "metadata": {},
     "output_type": "display_data"
    },
    {
     "data": {
      "image/png": "[encoded data removed]",
      "text/plain": [
       "<Figure size 360x360 with 1 Axes>"
      ]
     },
     "metadata": {
      "needs_background": "light"
     },
     "output_type": "display_data"
    },
    {
     "data": {
      "text/plain": [
       "<Figure size 1000x500 with 0 Axes>"
      ]
     },
     "metadata": {},
     "output_type": "display_data"
    },
    {
     "data": {
      "image/png": "[encoded data removed]",
      "text/plain": [
       "<Figure size 360x360 with 1 Axes>"
      ]
     },
     "metadata": {
      "needs_background": "light"
     },
     "output_type": "display_data"
    },
    {
     "data": {
      "text/plain": [
       "<Figure size 1000x500 with 0 Axes>"
      ]
     },
     "metadata": {},
     "output_type": "display_data"
    },
    {
     "data": {
      "image/png": "[encoded data removed]",
      "text/plain": [
       "<Figure size 360x360 with 1 Axes>"
      ]
     },
     "metadata": {
      "needs_background": "light"
     },
     "output_type": "display_data"
    },
    {
     "data": {
      "text/plain": [
       "<Figure size 1000x500 with 0 Axes>"
      ]
     },
     "metadata": {},
     "output_type": "display_data"
    },
    {
     "data": {
      "image/png": "[encoded data removed]",
      "text/plain": [
       "<Figure size 360x360 with 1 Axes>"
      ]
     },
     "metadata": {
      "needs_background": "light"
     },
     "output_type": "display_data"
    },
    {
     "data": {
      "text/plain": [
       "<Figure size 1000x500 with 0 Axes>"
      ]
     },
     "metadata": {},
     "output_type": "display_data"
    },
    {
     "data": {
      "image/png": "[encoded data removed]",
      "text/plain": [
       "<Figure size 360x360 with 1 Axes>"
      ]
     },
     "metadata": {
      "needs_background": "light"
     },
     "output_type": "display_data"
    },
    {
     "data": {
      "text/plain": [
       "<Figure size 1000x500 with 0 Axes>"
      ]
     },
     "metadata": {},
     "output_type": "display_data"
    },
    {
     "data": {
      "image/png": "[encoded data removed]",
      "text/plain": [
       "<Figure size 360x360 with 1 Axes>"
      ]
     },
     "metadata": {
      "needs_background": "light"
     },
     "output_type": "display_data"
    }
   ],
   "source": [
    "dis_plots(numeric_columns, df)"
   ]
  },
  {
   "cell_type": "code",
   "execution_count": 27,
   "id": "7a8e391a",
   "metadata": {},
   "outputs": [
    {
     "data": {
      "text/plain": [
       "<AxesSubplot:>"
      ]
     },
     "execution_count": 27,
     "metadata": {},
     "output_type": "execute_result"
    },
    {
     "data": {
      "image/png": "[encoded data removed]",
      "text/plain": [
       "<Figure size 1080x576 with 2 Axes>"
      ]
     },
     "metadata": {
      "needs_background": "light"
     },
     "output_type": "display_data"
    }
   ],
   "source": [
    "#heatmap for correlation\n",
    "fig, ax = plt.subplots(figsize=(15,8))         # Sample figsize in inches\n",
    "sns.heatmap(df.corr(), cmap= 'coolwarm')"
   ]
  },
  {
   "cell_type": "code",
   "execution_count": 28,
   "id": "2af0bca1",
   "metadata": {},
   "outputs": [
    {
     "data": {
      "text/html": [
       "<div>\n",
       "<style scoped>\n",
       "    .dataframe tbody tr th:only-of-type {\n",
       "        vertical-align: middle;\n",
       "    }\n",
       "\n",
       "    .dataframe tbody tr th {\n",
       "        vertical-align: top;\n",
       "    }\n",
       "\n",
       "    .dataframe thead th {\n",
       "        text-align: right;\n",
       "    }\n",
       "</style>\n",
       "<table border=\"1\" class=\"dataframe\">\n",
       "  <thead>\n",
       "    <tr style=\"text-align: right;\">\n",
       "      <th></th>\n",
       "      <th>datetime</th>\n",
       "      <th>season</th>\n",
       "      <th>holiday</th>\n",
       "      <th>workingday</th>\n",
       "      <th>weather</th>\n",
       "      <th>temp</th>\n",
       "      <th>atemp</th>\n",
       "      <th>humidity</th>\n",
       "      <th>windspeed</th>\n",
       "      <th>casual</th>\n",
       "      <th>registered</th>\n",
       "      <th>count</th>\n",
       "      <th>Products</th>\n",
       "    </tr>\n",
       "  </thead>\n",
       "  <tbody>\n",
       "    <tr>\n",
       "      <th>0</th>\n",
       "      <td>1/1/2011 0:00</td>\n",
       "      <td>1.0</td>\n",
       "      <td>0</td>\n",
       "      <td>0.0</td>\n",
       "      <td>1.0</td>\n",
       "      <td>9.84</td>\n",
       "      <td>14.395</td>\n",
       "      <td>81.0</td>\n",
       "      <td>0</td>\n",
       "      <td>3.0</td>\n",
       "      <td>13.0</td>\n",
       "      <td>16</td>\n",
       "      <td>abc</td>\n",
       "    </tr>\n",
       "    <tr>\n",
       "      <th>1</th>\n",
       "      <td>1/1/2011 1:00</td>\n",
       "      <td>1.0</td>\n",
       "      <td>0</td>\n",
       "      <td>0.0</td>\n",
       "      <td>1.0</td>\n",
       "      <td>9.02</td>\n",
       "      <td>13.635</td>\n",
       "      <td>80.0</td>\n",
       "      <td>0</td>\n",
       "      <td>8.0</td>\n",
       "      <td>32.0</td>\n",
       "      <td>40</td>\n",
       "      <td>abc</td>\n",
       "    </tr>\n",
       "    <tr>\n",
       "      <th>2</th>\n",
       "      <td>1/1/2011 2:00</td>\n",
       "      <td>1.0</td>\n",
       "      <td>0</td>\n",
       "      <td>0.0</td>\n",
       "      <td>1.0</td>\n",
       "      <td>9.02</td>\n",
       "      <td>13.635</td>\n",
       "      <td>80.0</td>\n",
       "      <td>0</td>\n",
       "      <td>5.0</td>\n",
       "      <td>27.0</td>\n",
       "      <td>32</td>\n",
       "      <td>abc</td>\n",
       "    </tr>\n",
       "    <tr>\n",
       "      <th>3</th>\n",
       "      <td>1/1/2011 3:00</td>\n",
       "      <td>1.0</td>\n",
       "      <td>0</td>\n",
       "      <td>0.0</td>\n",
       "      <td>1.0</td>\n",
       "      <td>9.84</td>\n",
       "      <td>14.395</td>\n",
       "      <td>75.0</td>\n",
       "      <td>0</td>\n",
       "      <td>3.0</td>\n",
       "      <td>10.0</td>\n",
       "      <td>13</td>\n",
       "      <td>abc</td>\n",
       "    </tr>\n",
       "    <tr>\n",
       "      <th>4</th>\n",
       "      <td>1/1/2011 4:00</td>\n",
       "      <td>1.0</td>\n",
       "      <td>0</td>\n",
       "      <td>0.0</td>\n",
       "      <td>1.0</td>\n",
       "      <td>9.84</td>\n",
       "      <td>14.395</td>\n",
       "      <td>75.0</td>\n",
       "      <td>0</td>\n",
       "      <td>0.0</td>\n",
       "      <td>1.0</td>\n",
       "      <td>1</td>\n",
       "      <td>abc</td>\n",
       "    </tr>\n",
       "    <tr>\n",
       "      <th>...</th>\n",
       "      <td>...</td>\n",
       "      <td>...</td>\n",
       "      <td>...</td>\n",
       "      <td>...</td>\n",
       "      <td>...</td>\n",
       "      <td>...</td>\n",
       "      <td>...</td>\n",
       "      <td>...</td>\n",
       "      <td>...</td>\n",
       "      <td>...</td>\n",
       "      <td>...</td>\n",
       "      <td>...</td>\n",
       "      <td>...</td>\n",
       "    </tr>\n",
       "    <tr>\n",
       "      <th>10881</th>\n",
       "      <td>12/19/2012 19:00</td>\n",
       "      <td>4.0</td>\n",
       "      <td>NaN</td>\n",
       "      <td>1.0</td>\n",
       "      <td>1.0</td>\n",
       "      <td>17.22</td>\n",
       "      <td>21.210</td>\n",
       "      <td>50.0</td>\n",
       "      <td>NaN</td>\n",
       "      <td>37.0</td>\n",
       "      <td>297.0</td>\n",
       "      <td>NaN</td>\n",
       "      <td>NaN</td>\n",
       "    </tr>\n",
       "    <tr>\n",
       "      <th>10882</th>\n",
       "      <td>12/19/2012 20:00</td>\n",
       "      <td>4.0</td>\n",
       "      <td>NaN</td>\n",
       "      <td>1.0</td>\n",
       "      <td>1.0</td>\n",
       "      <td>17.22</td>\n",
       "      <td>21.210</td>\n",
       "      <td>50.0</td>\n",
       "      <td>NaN</td>\n",
       "      <td>37.0</td>\n",
       "      <td>297.0</td>\n",
       "      <td>NaN</td>\n",
       "      <td>NaN</td>\n",
       "    </tr>\n",
       "    <tr>\n",
       "      <th>10883</th>\n",
       "      <td>12/19/2012 21:00</td>\n",
       "      <td>4.0</td>\n",
       "      <td>NaN</td>\n",
       "      <td>1.0</td>\n",
       "      <td>1.0</td>\n",
       "      <td>17.22</td>\n",
       "      <td>21.210</td>\n",
       "      <td>50.0</td>\n",
       "      <td>NaN</td>\n",
       "      <td>37.0</td>\n",
       "      <td>297.0</td>\n",
       "      <td>NaN</td>\n",
       "      <td>NaN</td>\n",
       "    </tr>\n",
       "    <tr>\n",
       "      <th>10884</th>\n",
       "      <td>12/19/2012 22:00</td>\n",
       "      <td>4.0</td>\n",
       "      <td>NaN</td>\n",
       "      <td>1.0</td>\n",
       "      <td>1.0</td>\n",
       "      <td>17.22</td>\n",
       "      <td>21.210</td>\n",
       "      <td>50.0</td>\n",
       "      <td>NaN</td>\n",
       "      <td>37.0</td>\n",
       "      <td>297.0</td>\n",
       "      <td>NaN</td>\n",
       "      <td>NaN</td>\n",
       "    </tr>\n",
       "    <tr>\n",
       "      <th>10885</th>\n",
       "      <td>12/19/2012 23:00</td>\n",
       "      <td>4.0</td>\n",
       "      <td>NaN</td>\n",
       "      <td>1.0</td>\n",
       "      <td>1.0</td>\n",
       "      <td>17.22</td>\n",
       "      <td>21.210</td>\n",
       "      <td>50.0</td>\n",
       "      <td>NaN</td>\n",
       "      <td>37.0</td>\n",
       "      <td>297.0</td>\n",
       "      <td>NaN</td>\n",
       "      <td>NaN</td>\n",
       "    </tr>\n",
       "  </tbody>\n",
       "</table>\n",
       "<p>10886 rows × 13 columns</p>\n",
       "</div>"
      ],
      "text/plain": [
       "               datetime  season holiday  workingday  weather   temp   atemp  \\\n",
       "0         1/1/2011 0:00     1.0       0         0.0      1.0   9.84  14.395   \n",
       "1         1/1/2011 1:00     1.0       0         0.0      1.0   9.02  13.635   \n",
       "2         1/1/2011 2:00     1.0       0         0.0      1.0   9.02  13.635   \n",
       "3         1/1/2011 3:00     1.0       0         0.0      1.0   9.84  14.395   \n",
       "4         1/1/2011 4:00     1.0       0         0.0      1.0   9.84  14.395   \n",
       "...                 ...     ...     ...         ...      ...    ...     ...   \n",
       "10881  12/19/2012 19:00     4.0     NaN         1.0      1.0  17.22  21.210   \n",
       "10882  12/19/2012 20:00     4.0     NaN         1.0      1.0  17.22  21.210   \n",
       "10883  12/19/2012 21:00     4.0     NaN         1.0      1.0  17.22  21.210   \n",
       "10884  12/19/2012 22:00     4.0     NaN         1.0      1.0  17.22  21.210   \n",
       "10885  12/19/2012 23:00     4.0     NaN         1.0      1.0  17.22  21.210   \n",
       "\n",
       "       humidity windspeed  casual  registered count Products  \n",
       "0          81.0         0     3.0        13.0    16      abc  \n",
       "1          80.0         0     8.0        32.0    40      abc  \n",
       "2          80.0         0     5.0        27.0    32      abc  \n",
       "3          75.0         0     3.0        10.0    13      abc  \n",
       "4          75.0         0     0.0         1.0     1      abc  \n",
       "...         ...       ...     ...         ...   ...      ...  \n",
       "10881      50.0       NaN    37.0       297.0   NaN      NaN  \n",
       "10882      50.0       NaN    37.0       297.0   NaN      NaN  \n",
       "10883      50.0       NaN    37.0       297.0   NaN      NaN  \n",
       "10884      50.0       NaN    37.0       297.0   NaN      NaN  \n",
       "10885      50.0       NaN    37.0       297.0   NaN      NaN  \n",
       "\n",
       "[10886 rows x 13 columns]"
      ]
     },
     "execution_count": 28,
     "metadata": {},
     "output_type": "execute_result"
    }
   ],
   "source": [
    "#use interpolation for numeric columns\n",
    "df.interpolate(method ='linear', limit_direction ='forward')"
   ]
  },
  {
   "cell_type": "code",
   "execution_count": 29,
   "id": "116fd9b6",
   "metadata": {},
   "outputs": [],
   "source": [
    "#user mode for cetgorical\n",
    "df=df.fillna(df.mode().iloc[0])"
   ]
  },
  {
   "cell_type": "code",
   "execution_count": 30,
   "id": "cf78b5f7",
   "metadata": {},
   "outputs": [
    {
     "data": {
      "text/html": [
       "<div>\n",
       "<style scoped>\n",
       "    .dataframe tbody tr th:only-of-type {\n",
       "        vertical-align: middle;\n",
       "    }\n",
       "\n",
       "    .dataframe tbody tr th {\n",
       "        vertical-align: top;\n",
       "    }\n",
       "\n",
       "    .dataframe thead th {\n",
       "        text-align: right;\n",
       "    }\n",
       "</style>\n",
       "<table border=\"1\" class=\"dataframe\">\n",
       "  <thead>\n",
       "    <tr style=\"text-align: right;\">\n",
       "      <th></th>\n",
       "      <th>count</th>\n",
       "      <th>mean</th>\n",
       "      <th>std</th>\n",
       "      <th>min</th>\n",
       "      <th>25%</th>\n",
       "      <th>50%</th>\n",
       "      <th>75%</th>\n",
       "      <th>max</th>\n",
       "    </tr>\n",
       "  </thead>\n",
       "  <tbody>\n",
       "    <tr>\n",
       "      <th>season</th>\n",
       "      <td>10886.0</td>\n",
       "      <td>2.505512</td>\n",
       "      <td>1.115439</td>\n",
       "      <td>1.00</td>\n",
       "      <td>2.000</td>\n",
       "      <td>3.00</td>\n",
       "      <td>4.00</td>\n",
       "      <td>4.000</td>\n",
       "    </tr>\n",
       "    <tr>\n",
       "      <th>workingday</th>\n",
       "      <td>10886.0</td>\n",
       "      <td>0.680966</td>\n",
       "      <td>0.466124</td>\n",
       "      <td>0.00</td>\n",
       "      <td>0.000</td>\n",
       "      <td>1.00</td>\n",
       "      <td>1.00</td>\n",
       "      <td>1.000</td>\n",
       "    </tr>\n",
       "    <tr>\n",
       "      <th>weather</th>\n",
       "      <td>10886.0</td>\n",
       "      <td>1.418427</td>\n",
       "      <td>0.633839</td>\n",
       "      <td>1.00</td>\n",
       "      <td>1.000</td>\n",
       "      <td>1.00</td>\n",
       "      <td>2.00</td>\n",
       "      <td>4.000</td>\n",
       "    </tr>\n",
       "    <tr>\n",
       "      <th>temp</th>\n",
       "      <td>10886.0</td>\n",
       "      <td>20.202096</td>\n",
       "      <td>8.152036</td>\n",
       "      <td>-200.00</td>\n",
       "      <td>13.940</td>\n",
       "      <td>20.50</td>\n",
       "      <td>26.24</td>\n",
       "      <td>41.000</td>\n",
       "    </tr>\n",
       "    <tr>\n",
       "      <th>atemp</th>\n",
       "      <td>10886.0</td>\n",
       "      <td>23.663365</td>\n",
       "      <td>8.475441</td>\n",
       "      <td>0.76</td>\n",
       "      <td>16.665</td>\n",
       "      <td>24.24</td>\n",
       "      <td>31.06</td>\n",
       "      <td>45.455</td>\n",
       "    </tr>\n",
       "    <tr>\n",
       "      <th>humidity</th>\n",
       "      <td>10886.0</td>\n",
       "      <td>61.930277</td>\n",
       "      <td>19.260352</td>\n",
       "      <td>0.00</td>\n",
       "      <td>47.000</td>\n",
       "      <td>62.00</td>\n",
       "      <td>77.00</td>\n",
       "      <td>100.000</td>\n",
       "    </tr>\n",
       "    <tr>\n",
       "      <th>casual</th>\n",
       "      <td>10886.0</td>\n",
       "      <td>36.009921</td>\n",
       "      <td>49.965884</td>\n",
       "      <td>0.00</td>\n",
       "      <td>4.000</td>\n",
       "      <td>17.00</td>\n",
       "      <td>49.00</td>\n",
       "      <td>367.000</td>\n",
       "    </tr>\n",
       "    <tr>\n",
       "      <th>registered</th>\n",
       "      <td>10886.0</td>\n",
       "      <td>155.351828</td>\n",
       "      <td>150.993513</td>\n",
       "      <td>0.00</td>\n",
       "      <td>36.000</td>\n",
       "      <td>118.00</td>\n",
       "      <td>222.00</td>\n",
       "      <td>886.000</td>\n",
       "    </tr>\n",
       "  </tbody>\n",
       "</table>\n",
       "</div>"
      ],
      "text/plain": [
       "              count        mean         std     min     25%     50%     75%  \\\n",
       "season      10886.0    2.505512    1.115439    1.00   2.000    3.00    4.00   \n",
       "workingday  10886.0    0.680966    0.466124    0.00   0.000    1.00    1.00   \n",
       "weather     10886.0    1.418427    0.633839    1.00   1.000    1.00    2.00   \n",
       "temp        10886.0   20.202096    8.152036 -200.00  13.940   20.50   26.24   \n",
       "atemp       10886.0   23.663365    8.475441    0.76  16.665   24.24   31.06   \n",
       "humidity    10886.0   61.930277   19.260352    0.00  47.000   62.00   77.00   \n",
       "casual      10886.0   36.009921   49.965884    0.00   4.000   17.00   49.00   \n",
       "registered  10886.0  155.351828  150.993513    0.00  36.000  118.00  222.00   \n",
       "\n",
       "                max  \n",
       "season        4.000  \n",
       "workingday    1.000  \n",
       "weather       4.000  \n",
       "temp         41.000  \n",
       "atemp        45.455  \n",
       "humidity    100.000  \n",
       "casual      367.000  \n",
       "registered  886.000  "
      ]
     },
     "execution_count": 30,
     "metadata": {},
     "output_type": "execute_result"
    }
   ],
   "source": [
    "#describe the data\n",
    "df.describe().T"
   ]
  },
  {
   "cell_type": "code",
   "execution_count": 31,
   "id": "94440f06",
   "metadata": {},
   "outputs": [],
   "source": [
    "def bar_charts(num_cols, cat_cols, df):\n",
    "    for i in range(3):     #(len(numeric_columns)-1):\n",
    "        for j in range(3): #(len(categorical_columns)-1):\n",
    "            pvt = df.pivot_table(columns=[categorical[j]], values=numeric_columns[i], aggfunc='mean').round(2)\n",
    "            pvt.plot.bar()"
   ]
  },
  {
   "cell_type": "code",
   "execution_count": null,
   "id": "6d980fd3",
   "metadata": {},
   "outputs": [
    {
     "name": "stderr",
     "output_type": "stream",
     "text": [
      "C:\\Users\\Abdullah\\anaconda3\\lib\\site-packages\\matplotlib\\backends\\backend_agg.py:240: RuntimeWarning: Glyph 146 missing from current font.\n",
      "  font.set_text(s, 0.0, flags=flags)\n"
     ]
    }
   ],
   "source": [
    "bar_charts(numeric_columns, categorical, df)"
   ]
  },
  {
   "cell_type": "code",
   "execution_count": null,
   "id": "c4b7e996",
   "metadata": {},
   "outputs": [],
   "source": [
    "# Extracting Year, Quarter, Month, Day from the Date column\n",
    "#df['Year'] = df['datetime'].dt.year\n",
    "#df['Quarter'] = df['datetime'].dt.quarter\n",
    "#df['Month'] = df['datetime'].dt.month\n",
    "#df['Day'] = df['datetime'].dt.day"
   ]
  },
  {
   "cell_type": "code",
   "execution_count": null,
   "id": "a6853228",
   "metadata": {},
   "outputs": [],
   "source": []
  },
  {
   "cell_type": "markdown",
   "id": "4751fc7b",
   "metadata": {},
   "source": [
    "# Inferential Testing"
   ]
  },
  {
   "cell_type": "code",
   "execution_count": null,
   "id": "cda5b251",
   "metadata": {},
   "outputs": [],
   "source": [
    "# T-Test\n",
    "\n",
    "def get_num_cols(df):\n",
    "    types_map = df.dtypes.to_dict()\n",
    "    num_columns = []\n",
    "    for k,v in types_map.items():\n",
    "        if np.issubdtype(np.int64, v) or np.issubdtype(np.float64, v):\n",
    "            num_columns.append(k)\n",
    "\n",
    "    print(num_columns)\n",
    "    return num_columns\n",
    "\n",
    "def t_test(df):\n",
    "    num_columns = get_num_cols(df)\n",
    "    for i in range(len(num_columns)-1):\n",
    "        print(\"\\n --------\"+num_columns[i]+\"--------\")\n",
    "        for j in range(i+1,len(num_columns)):\n",
    "            col1 = num_columns[i]\n",
    "            col2 = num_columns[j]\n",
    "            t_val, p_val = stats.ttest_ind(df[col1], df[col2])\n",
    "            print(\"(%s,%s) => t-value=%s, p-value=%s\" % (num_columns[i], num_columns[j], str(t_val), str(p_val)))\n",
    "            # interpret p-value\n",
    "            alpha = 0.05\n",
    "            #print('significance=%.3f, p=%.3f' % (alpha, p_val))\n",
    "            if p_val <= alpha:\n",
    "                print('Dependent (reject H0)')\n",
    "            else:\n",
    "                print('Independent (fail to reject H0)')\n"
   ]
  },
  {
   "cell_type": "code",
   "execution_count": null,
   "id": "4aac1b8f",
   "metadata": {},
   "outputs": [],
   "source": [
    "t_test(df)"
   ]
  },
  {
   "cell_type": "code",
   "execution_count": null,
   "id": "eef12666",
   "metadata": {},
   "outputs": [],
   "source": [
    "from scipy.stats import chi2_contingency\n",
    "from scipy.stats import chi2\n",
    "\n",
    "def chi_square_test(cat_cols, df):\n",
    "    for i in range(len(cat_cols)-1):\n",
    "        print(\"\\n\\t --------\"+cat_cols[i]+\"--------\")\n",
    "        for j in range(i+1,len(cat_cols)):\n",
    "            cat_var1 = cat_cols[i]\n",
    "            cat_var2 = cat_cols[j]\n",
    "            data_crosstab = pd.crosstab(df[cat_var1], df[cat_var2], margins = False) \n",
    "            print(data_crosstab) \n",
    "\n",
    "            stat, p, dof, expected = chi2_contingency(data_crosstab)\n",
    "            print('dof=%d' % dof)\n",
    "            print(expected)\n",
    "\n",
    "    # interpret p-value\n",
    "            alpha = 0.05\n",
    "            print('significance=%.3f, p=%.3f' % (alpha, p))\n",
    "            if p <= alpha:\n",
    "                print('Dependent (reject H0)')\n",
    "            else:\n",
    "                print('Independent (fail to reject H0)')\n",
    "            print(\"\\n\")"
   ]
  },
  {
   "cell_type": "code",
   "execution_count": null,
   "id": "4b96e30d",
   "metadata": {},
   "outputs": [],
   "source": [
    "import statsmodels.api as sm\n",
    "from statsmodels.formula.api import ols\n",
    "\n",
    "def anova_test(num_cols, cat_cols, df):\n",
    "    for i in range(len(num_cols)-1):   \n",
    "        num_col = num_cols[i]\n",
    "        for j in range(len(cat_cols)-1):\n",
    "            cat_col = cat_cols[j]\n",
    "            mod = ols(num_col+\" ~ \"+cat_col,data=df).fit()\n",
    "            aov_table=sm.stats.anova_lm(mod, typ=2)\n",
    "            print (\"\\nANOVA => \"+num_col+\" - \"+cat_col)\n",
    "            print(aov_table)\n",
    "            print()"
   ]
  },
  {
   "cell_type": "code",
   "execution_count": null,
   "id": "e87658db",
   "metadata": {},
   "outputs": [],
   "source": [
    "from statsmodels.stats.multicomp import pairwise_tukeyhsd\n",
    "\n",
    "\n",
    "def tukeyhsd_test(num_cols, cat_cols, df):\n",
    "    for i in range(len(num_cols)-1):\n",
    "        num_var = num_cols[i]\n",
    "        print(\"\\t-------------\"+num_var+\"-------------\")\n",
    "        for j in range(len(cat_cols)-1):\n",
    "            cat_var = cat_cols[j]\n",
    "            tukey = pairwise_tukeyhsd(endog=df[num_var], groups=df[cat_var], alpha=0.05)\n",
    "            #display results\n",
    "            \n",
    "            print(cat_var)\n",
    "            print(tukey)\n",
    "            print()"
   ]
  },
  {
   "cell_type": "code",
   "execution_count": null,
   "id": "18d37566",
   "metadata": {},
   "outputs": [],
   "source": []
  }
 ],
 "metadata": {
  "kernelspec": {
   "display_name": "Python 3 (ipykernel)",
   "language": "python",
   "name": "python3"
  },
  "language_info": {
   "codemirror_mode": {
    "name": "ipython",
    "version": 3
   },
   "file_extension": ".py",
   "mimetype": "text/x-python",
   "name": "python",
   "nbconvert_exporter": "python",
   "pygments_lexer": "ipython3",
   "version": "3.9.7"
  }
 },
 "nbformat": 4,
 "nbformat_minor": 5
}
