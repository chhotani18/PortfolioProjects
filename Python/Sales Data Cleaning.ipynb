{
 "cells": [
  {
   "cell_type": "markdown",
   "id": "0758fffe",
   "metadata": {},
   "source": [
    "## Pipeline:\n",
    "\n",
    "##### 1. Dealing with data entry enrrors \n",
    "   \n",
    "\n",
    "\n",
    "##### 2. Missing Values \n",
    "    Categorical\n",
    "    Numerical\n",
    "    DateTime\n",
    "\n",
    "##### 3. Data Types\n",
    "    Numerical\n",
    "    Categorical\n",
    "\n",
    "##### 4. Transformation\n",
    "    Row deletion with respect to threshold\n",
    "    Filling missing values of both categorical and numeric data\n",
    "    Changing column types\n",
    "\n",
    "##### 5. Outliers\n",
    "    Dist Plots\n",
    "    Box Plots\n",
    "\n",
    "##### 6. Descrpitive Stats\n",
    "\n",
    "    Bar charts\n",
    "    Distribution \n",
    "    Heatmaps\n",
    "    Scatter Plots\n",
    "##### 7. Inferential Analysis\n",
    "\n",
    "    T-Test\n",
    "    Chi-Square Test\n",
    "    ANOVA\n",
    "    Tukey Test\n",
    "\n",
    "##### 7. Inferential Analysis\n",
    "\n",
    "    T\n",
    "    Chi-Square Test\n",
    "    ANOVA\n",
    "    Tukey Test"
   ]
  },
  {
   "cell_type": "code",
   "execution_count": 1,
   "id": "de82c3b9",
   "metadata": {},
   "outputs": [],
   "source": [
    "import pandas as pd\n",
    "import numpy as np\n",
    "from matplotlib import pyplot as plt\n",
    "import seaborn as sns\n",
    "import missingno as msno\n",
    "from scipy import stats"
   ]
  },
  {
   "cell_type": "code",
   "execution_count": 2,
   "id": "2f4e433d",
   "metadata": {},
   "outputs": [
    {
     "data": {
      "text/html": [
       "<div>\n",
       "<style scoped>\n",
       "    .dataframe tbody tr th:only-of-type {\n",
       "        vertical-align: middle;\n",
       "    }\n",
       "\n",
       "    .dataframe tbody tr th {\n",
       "        vertical-align: top;\n",
       "    }\n",
       "\n",
       "    .dataframe thead th {\n",
       "        text-align: right;\n",
       "    }\n",
       "</style>\n",
       "<table border=\"1\" class=\"dataframe\">\n",
       "  <thead>\n",
       "    <tr style=\"text-align: right;\">\n",
       "      <th></th>\n",
       "      <th>Invoice ID</th>\n",
       "      <th>Branch</th>\n",
       "      <th>City</th>\n",
       "      <th>Customer type</th>\n",
       "      <th>Gender</th>\n",
       "      <th>Product line</th>\n",
       "      <th>Unit price</th>\n",
       "      <th>Quantity</th>\n",
       "      <th>Tax 5%</th>\n",
       "      <th>Total</th>\n",
       "      <th>Date</th>\n",
       "      <th>Time</th>\n",
       "      <th>Payment</th>\n",
       "      <th>cogs</th>\n",
       "      <th>gross margin percentage</th>\n",
       "      <th>gross income</th>\n",
       "      <th>Rating</th>\n",
       "    </tr>\n",
       "  </thead>\n",
       "  <tbody>\n",
       "    <tr>\n",
       "      <th>0</th>\n",
       "      <td>750-67-8428</td>\n",
       "      <td>A</td>\n",
       "      <td>Yangon</td>\n",
       "      <td>Member</td>\n",
       "      <td>Female</td>\n",
       "      <td>Health and beauty</td>\n",
       "      <td>74.69</td>\n",
       "      <td>7</td>\n",
       "      <td>26.1415</td>\n",
       "      <td>548.9715</td>\n",
       "      <td>1/5/2019</td>\n",
       "      <td>13:08</td>\n",
       "      <td>Ewallet</td>\n",
       "      <td>522.83</td>\n",
       "      <td>4.761904762</td>\n",
       "      <td>26.1415</td>\n",
       "      <td>9.1</td>\n",
       "    </tr>\n",
       "    <tr>\n",
       "      <th>1</th>\n",
       "      <td>226-31-3081</td>\n",
       "      <td>C</td>\n",
       "      <td>Naypyitaw</td>\n",
       "      <td>Normal</td>\n",
       "      <td>Female</td>\n",
       "      <td>Electronic accessories</td>\n",
       "      <td>15.28</td>\n",
       "      <td>5</td>\n",
       "      <td>3.8200</td>\n",
       "      <td>80.22</td>\n",
       "      <td>3/8/2019</td>\n",
       "      <td>10:29</td>\n",
       "      <td>Cash</td>\n",
       "      <td>76.40</td>\n",
       "      <td>4.761904762</td>\n",
       "      <td>3.82</td>\n",
       "      <td>9.6</td>\n",
       "    </tr>\n",
       "    <tr>\n",
       "      <th>2</th>\n",
       "      <td>631-41-3108</td>\n",
       "      <td>A</td>\n",
       "      <td>Yangon</td>\n",
       "      <td>Normal</td>\n",
       "      <td>Male</td>\n",
       "      <td>Home and lifestyle</td>\n",
       "      <td>46.33</td>\n",
       "      <td>7</td>\n",
       "      <td>16.2155</td>\n",
       "      <td>340.5255</td>\n",
       "      <td>3/3/2019</td>\n",
       "      <td>13:23</td>\n",
       "      <td>Credit card</td>\n",
       "      <td>324.31</td>\n",
       "      <td>4.761904762</td>\n",
       "      <td>16.2155</td>\n",
       "      <td>7.4</td>\n",
       "    </tr>\n",
       "    <tr>\n",
       "      <th>3</th>\n",
       "      <td>123-19-1176</td>\n",
       "      <td>A</td>\n",
       "      <td>Yangon</td>\n",
       "      <td>Member</td>\n",
       "      <td>Male</td>\n",
       "      <td>Health and beauty</td>\n",
       "      <td>58.22</td>\n",
       "      <td>8</td>\n",
       "      <td>23.2880</td>\n",
       "      <td>489.048</td>\n",
       "      <td>1/27/2019</td>\n",
       "      <td>20:33</td>\n",
       "      <td>Ewallet</td>\n",
       "      <td>465.76</td>\n",
       "      <td>4.761904762</td>\n",
       "      <td>23.288</td>\n",
       "      <td>8.4</td>\n",
       "    </tr>\n",
       "    <tr>\n",
       "      <th>4</th>\n",
       "      <td>373-73-7910</td>\n",
       "      <td>A</td>\n",
       "      <td>Yangon</td>\n",
       "      <td>Normal</td>\n",
       "      <td>Male</td>\n",
       "      <td>Sports and travel</td>\n",
       "      <td>86.31</td>\n",
       "      <td>7</td>\n",
       "      <td>30.2085</td>\n",
       "      <td>634.3785</td>\n",
       "      <td>2/8/2019</td>\n",
       "      <td>NaN</td>\n",
       "      <td>Ewallet</td>\n",
       "      <td>604.17</td>\n",
       "      <td>4.761904762</td>\n",
       "      <td>30.2085</td>\n",
       "      <td>5.3</td>\n",
       "    </tr>\n",
       "  </tbody>\n",
       "</table>\n",
       "</div>"
      ],
      "text/plain": [
       "    Invoice ID Branch       City Customer type  Gender  \\\n",
       "0  750-67-8428      A     Yangon        Member  Female   \n",
       "1  226-31-3081      C  Naypyitaw        Normal  Female   \n",
       "2  631-41-3108      A     Yangon        Normal    Male   \n",
       "3  123-19-1176      A     Yangon        Member    Male   \n",
       "4  373-73-7910      A     Yangon        Normal    Male   \n",
       "\n",
       "             Product line  Unit price Quantity   Tax 5%     Total       Date  \\\n",
       "0       Health and beauty       74.69        7  26.1415  548.9715   1/5/2019   \n",
       "1  Electronic accessories       15.28        5   3.8200     80.22   3/8/2019   \n",
       "2      Home and lifestyle       46.33        7  16.2155  340.5255   3/3/2019   \n",
       "3       Health and beauty       58.22        8  23.2880   489.048  1/27/2019   \n",
       "4       Sports and travel       86.31        7  30.2085  634.3785   2/8/2019   \n",
       "\n",
       "    Time      Payment    cogs gross margin percentage gross income  Rating  \n",
       "0  13:08      Ewallet  522.83             4.761904762      26.1415     9.1  \n",
       "1  10:29         Cash   76.40             4.761904762         3.82     9.6  \n",
       "2  13:23  Credit card  324.31             4.761904762      16.2155     7.4  \n",
       "3  20:33      Ewallet  465.76             4.761904762       23.288     8.4  \n",
       "4    NaN      Ewallet  604.17             4.761904762      30.2085     5.3  "
      ]
     },
     "execution_count": 2,
     "metadata": {},
     "output_type": "execute_result"
    }
   ],
   "source": [
    "#Read csv file\n",
    "df = pd.read_csv(\"supermarket_sales_dirty.csv\",encoding=\"unicode_escape\")\n",
    "df.head()"
   ]
  },
  {
   "cell_type": "code",
   "execution_count": 3,
   "id": "8e0953bc",
   "metadata": {},
   "outputs": [
    {
     "data": {
      "text/plain": [
       "(1000, 17)"
      ]
     },
     "execution_count": 3,
     "metadata": {},
     "output_type": "execute_result"
    }
   ],
   "source": [
    "#Get number of rows and columns\n",
    "df.shape"
   ]
  },
  {
   "cell_type": "code",
   "execution_count": 4,
   "id": "ba0fcaa3",
   "metadata": {},
   "outputs": [
    {
     "name": "stdout",
     "output_type": "stream",
     "text": [
      "<class 'pandas.core.frame.DataFrame'>\n",
      "RangeIndex: 1000 entries, 0 to 999\n",
      "Data columns (total 17 columns):\n",
      " #   Column                   Non-Null Count  Dtype  \n",
      "---  ------                   --------------  -----  \n",
      " 0   Invoice ID               905 non-null    object \n",
      " 1   Branch                   981 non-null    object \n",
      " 2   City                     996 non-null    object \n",
      " 3   Customer type            1000 non-null   object \n",
      " 4   Gender                   991 non-null    object \n",
      " 5   Product line             995 non-null    object \n",
      " 6   Unit price               992 non-null    float64\n",
      " 7   Quantity                 996 non-null    object \n",
      " 8   Tax 5%                   1000 non-null   float64\n",
      " 9   Total                    997 non-null    object \n",
      " 10  Date                     1000 non-null   object \n",
      " 11  Time                     965 non-null    object \n",
      " 12  Payment                  991 non-null    object \n",
      " 13  cogs                     989 non-null    float64\n",
      " 14  gross margin percentage  991 non-null    object \n",
      " 15  gross income             1000 non-null   object \n",
      " 16  Rating                   994 non-null    float64\n",
      "dtypes: float64(4), object(13)\n",
      "memory usage: 132.9+ KB\n"
     ]
    }
   ],
   "source": [
    "#get info\n",
    "df.info()"
   ]
  },
  {
   "cell_type": "markdown",
   "id": "ea63695e",
   "metadata": {},
   "source": [
    "# Dropping columns not useful for BI"
   ]
  },
  {
   "cell_type": "code",
   "execution_count": 5,
   "id": "8cf264bb",
   "metadata": {},
   "outputs": [],
   "source": [
    "#Dropping columns not useful for BI\n",
    "#Dropping invoice ID since it provides no insight\n",
    "#Dropping gross income as the column is repeated\n",
    "#gross margin income is the same everywhere\n",
    "#Time column has too many missing values\n",
    "df.drop('Invoice ID', inplace=True, axis=1)\n",
    "df.drop('gross income', inplace=True, axis=1)\n",
    "df.drop('gross margin percentage', inplace=True, axis=1)\n",
    "df.drop('Time', inplace=True, axis=1)"
   ]
  },
  {
   "cell_type": "markdown",
   "id": "00b092a9",
   "metadata": {},
   "source": [
    "# Dealing with data entry error"
   ]
  },
  {
   "cell_type": "code",
   "execution_count": 6,
   "id": "160519ba",
   "metadata": {},
   "outputs": [
    {
     "name": "stdout",
     "output_type": "stream",
     "text": [
      "Float64Index([ 49.65,  49.49,  49.26,  48.75,  48.69, 48.685, 48.605,  47.79,\n",
      "               47.72, 45.325,\n",
      "              ...\n",
      "              0.8875,  0.814,  0.775, 0.7715,  0.767,  0.699,  0.639,  0.627,\n",
      "              0.6045, 0.5085],\n",
      "             dtype='float64', length=990)\n",
      "Index(['9', '8', '7', '6', '5', '4', '3', '2', '10', '1'], dtype='object')\n"
     ]
    }
   ],
   "source": [
    "print(df['Tax 5%'].value_counts().index.sort_values(ascending = False))\n",
    "df['Quantity'].replace(['few%&','*(()','few','%*&'],np.nan,inplace = True)\n",
    "print(df['Quantity'].value_counts().index.sort_values(ascending = False))"
   ]
  },
  {
   "cell_type": "code",
   "execution_count": 7,
   "id": "1732f46a",
   "metadata": {},
   "outputs": [
    {
     "name": "stdout",
     "output_type": "stream",
     "text": [
      "Index(['whoa', 'very high', 'toolow', '99.9075', '99.75', '99.54', '99.33',\n",
      "       '98.049', '98.028', '97.881',\n",
      "       ...\n",
      "       '101.808', '101.64', '1003.59', '1002.12', '100.9155', '100.485',\n",
      "       '100.128', '10.6785', '$$$$$$$', '#####'],\n",
      "      dtype='object', length=987)\n",
      "Index(['99.9075', '99.75', '99.54', '99.33', '98.049', '98.028', '97.881',\n",
      "       '97.818', '97.419', '96.642',\n",
      "       ...\n",
      "       '102.396', '102.018', '101.808', '101.64', '1003.59', '1002.12',\n",
      "       '100.9155', '100.485', '100.128', '10.6785'],\n",
      "      dtype='object', length=982)\n"
     ]
    }
   ],
   "source": [
    "print(df['Total'].value_counts().index.sort_values(ascending = False))\n",
    "df['Total'].replace(['whoa','very high','toolow','$$$$$$$','#####'],np.nan,inplace = True)\n",
    "print(df['Total'].value_counts().index.sort_values(ascending = False))"
   ]
  },
  {
   "cell_type": "code",
   "execution_count": 8,
   "id": "d8d3131c",
   "metadata": {},
   "outputs": [
    {
     "name": "stdout",
     "output_type": "stream",
     "text": [
      "Float64Index([993.0, 989.8, 985.2, 975.0, 973.8, 973.7, 972.1, 955.8, 954.4,\n",
      "              906.5,\n",
      "              ...\n",
      "              17.75, 16.28,  15.5, 15.43, 15.34, 13.98, 12.78, 12.54, 12.09,\n",
      "              10.17],\n",
      "             dtype='float64', length=980)\n"
     ]
    }
   ],
   "source": [
    "print(df['cogs'].value_counts().index.sort_values(ascending = False))"
   ]
  },
  {
   "cell_type": "code",
   "execution_count": 9,
   "id": "f2a4cdb8",
   "metadata": {},
   "outputs": [
    {
     "name": "stdout",
     "output_type": "stream",
     "text": [
      "Float64Index([10.0,  9.9,  9.8,  9.7,  9.6,  9.5,  9.4,  9.3,  9.2,  9.1,  9.0,\n",
      "               8.9,  8.8,  8.7,  8.6,  8.5,  8.4,  8.3,  8.2,  8.1,  8.0,  7.9,\n",
      "               7.8,  7.7,  7.6,  7.5,  7.4,  7.3,  7.2,  7.1,  7.0,  6.9,  6.8,\n",
      "               6.7,  6.6,  6.5,  6.4,  6.3,  6.2,  6.1,  6.0,  5.9,  5.8,  5.7,\n",
      "               5.6,  5.5,  5.4,  5.3,  5.2,  5.1,  5.0,  4.9,  4.8,  4.7,  4.6,\n",
      "               4.5,  4.4,  4.3,  4.2,  4.1,  4.0],\n",
      "             dtype='float64')\n"
     ]
    }
   ],
   "source": [
    "print(df['Rating'].value_counts().index.sort_values(ascending = False))"
   ]
  },
  {
   "cell_type": "code",
   "execution_count": 10,
   "id": "4ebbf302",
   "metadata": {},
   "outputs": [
    {
     "name": "stdout",
     "output_type": "stream",
     "text": [
      "Float64Index([99.96, 99.92, 99.89, 99.83, 99.82, 99.79, 99.78, 99.73, 99.71,\n",
      "               99.7,\n",
      "              ...\n",
      "              10.75, 10.69, 10.59, 10.56, 10.53, 10.18, 10.17, 10.16, 10.13,\n",
      "              10.08],\n",
      "             dtype='float64', length=935)\n"
     ]
    }
   ],
   "source": [
    "print(df['Unit price'].value_counts().index.sort_values(ascending = False))\n"
   ]
  },
  {
   "cell_type": "code",
   "execution_count": 11,
   "id": "42423ff5",
   "metadata": {},
   "outputs": [
    {
     "name": "stdout",
     "output_type": "stream",
     "text": [
      "Index(['123', '332', '444', '98', 'Cash', 'Credit card', 'Ewallet'], dtype='object')\n",
      "Index(['Cash', 'Credit card', 'Ewallet'], dtype='object')\n"
     ]
    }
   ],
   "source": [
    "print(df['Payment'].value_counts().index.sort_values(ascending = True))\n",
    "df['Payment'].replace(['123','332','444','98'],np.nan,inplace = True)\n",
    "print(df['Payment'].value_counts().index.sort_values(ascending = True))"
   ]
  },
  {
   "cell_type": "markdown",
   "id": "03c73f0c",
   "metadata": {},
   "source": [
    "# Changing data type and renaming columns"
   ]
  },
  {
   "cell_type": "code",
   "execution_count": 12,
   "id": "c3b40089",
   "metadata": {},
   "outputs": [],
   "source": [
    "#Quantity and total are numeric columns\n",
    "df[\"Quantity\"] = df.Quantity.astype(float)\n",
    "df[\"Total\"] = df.Total.astype(float)"
   ]
  },
  {
   "cell_type": "code",
   "execution_count": 13,
   "id": "0b868a0f",
   "metadata": {},
   "outputs": [
    {
     "name": "stdout",
     "output_type": "stream",
     "text": [
      "<class 'pandas.core.frame.DataFrame'>\n",
      "RangeIndex: 1000 entries, 0 to 999\n",
      "Data columns (total 13 columns):\n",
      " #   Column         Non-Null Count  Dtype  \n",
      "---  ------         --------------  -----  \n",
      " 0   Branch         981 non-null    object \n",
      " 1   City           996 non-null    object \n",
      " 2   Customer type  1000 non-null   object \n",
      " 3   Gender         991 non-null    object \n",
      " 4   Product line   995 non-null    object \n",
      " 5   Unit price     992 non-null    float64\n",
      " 6   Quantity       992 non-null    float64\n",
      " 7   Tax 5%         1000 non-null   float64\n",
      " 8   Total          992 non-null    float64\n",
      " 9   Date           1000 non-null   object \n",
      " 10  Payment        987 non-null    object \n",
      " 11  cogs           989 non-null    float64\n",
      " 12  Rating         994 non-null    float64\n",
      "dtypes: float64(6), object(7)\n",
      "memory usage: 101.7+ KB\n"
     ]
    }
   ],
   "source": [
    "df.info()"
   ]
  },
  {
   "cell_type": "code",
   "execution_count": 14,
   "id": "282f22c7",
   "metadata": {},
   "outputs": [],
   "source": [
    "#Tax and Fross income are the same so we are keeping one of them\n",
    "df = df.rename(columns={'Tax 5%': 'Gross income'})\n",
    "df = df.rename(columns={'cogs': 'Cost of goods sold'})"
   ]
  },
  {
   "cell_type": "code",
   "execution_count": 15,
   "id": "e6b66644",
   "metadata": {},
   "outputs": [
    {
     "data": {
      "text/html": [
       "<div>\n",
       "<style scoped>\n",
       "    .dataframe tbody tr th:only-of-type {\n",
       "        vertical-align: middle;\n",
       "    }\n",
       "\n",
       "    .dataframe tbody tr th {\n",
       "        vertical-align: top;\n",
       "    }\n",
       "\n",
       "    .dataframe thead th {\n",
       "        text-align: right;\n",
       "    }\n",
       "</style>\n",
       "<table border=\"1\" class=\"dataframe\">\n",
       "  <thead>\n",
       "    <tr style=\"text-align: right;\">\n",
       "      <th></th>\n",
       "      <th>Branch</th>\n",
       "      <th>City</th>\n",
       "      <th>Customer type</th>\n",
       "      <th>Gender</th>\n",
       "      <th>Product line</th>\n",
       "      <th>Unit price</th>\n",
       "      <th>Quantity</th>\n",
       "      <th>Gross income</th>\n",
       "      <th>Total</th>\n",
       "      <th>Date</th>\n",
       "      <th>Payment</th>\n",
       "      <th>Cost of goods sold</th>\n",
       "      <th>Rating</th>\n",
       "    </tr>\n",
       "  </thead>\n",
       "  <tbody>\n",
       "    <tr>\n",
       "      <th>Branch</th>\n",
       "      <td>1.000000</td>\n",
       "      <td>0.832118</td>\n",
       "      <td>-0.016495</td>\n",
       "      <td>-0.021603</td>\n",
       "      <td>0.019944</td>\n",
       "      <td>0.003848</td>\n",
       "      <td>0.035102</td>\n",
       "      <td>-0.010435</td>\n",
       "      <td>-0.004535</td>\n",
       "      <td>0.005660</td>\n",
       "      <td>0.014796</td>\n",
       "      <td>-0.002255</td>\n",
       "      <td>-0.014184</td>\n",
       "    </tr>\n",
       "    <tr>\n",
       "      <th>City</th>\n",
       "      <td>0.832118</td>\n",
       "      <td>1.000000</td>\n",
       "      <td>0.001157</td>\n",
       "      <td>-0.007284</td>\n",
       "      <td>0.021962</td>\n",
       "      <td>-0.017618</td>\n",
       "      <td>0.035577</td>\n",
       "      <td>-0.036147</td>\n",
       "      <td>-0.029569</td>\n",
       "      <td>-0.007672</td>\n",
       "      <td>0.045453</td>\n",
       "      <td>-0.029989</td>\n",
       "      <td>-0.015313</td>\n",
       "    </tr>\n",
       "    <tr>\n",
       "      <th>Customer type</th>\n",
       "      <td>-0.016495</td>\n",
       "      <td>0.001157</td>\n",
       "      <td>1.000000</td>\n",
       "      <td>0.032801</td>\n",
       "      <td>-0.006069</td>\n",
       "      <td>-0.031447</td>\n",
       "      <td>-0.043015</td>\n",
       "      <td>-0.023232</td>\n",
       "      <td>-0.031326</td>\n",
       "      <td>-0.054447</td>\n",
       "      <td>-0.070737</td>\n",
       "      <td>-0.023803</td>\n",
       "      <td>-0.012000</td>\n",
       "    </tr>\n",
       "    <tr>\n",
       "      <th>Gender</th>\n",
       "      <td>-0.021603</td>\n",
       "      <td>-0.007284</td>\n",
       "      <td>0.032801</td>\n",
       "      <td>1.000000</td>\n",
       "      <td>-0.047812</td>\n",
       "      <td>-0.048562</td>\n",
       "      <td>0.016474</td>\n",
       "      <td>-0.043849</td>\n",
       "      <td>-0.041922</td>\n",
       "      <td>0.018380</td>\n",
       "      <td>-0.058124</td>\n",
       "      <td>-0.040665</td>\n",
       "      <td>0.033463</td>\n",
       "    </tr>\n",
       "    <tr>\n",
       "      <th>Product line</th>\n",
       "      <td>0.019944</td>\n",
       "      <td>0.021962</td>\n",
       "      <td>-0.006069</td>\n",
       "      <td>-0.047812</td>\n",
       "      <td>1.000000</td>\n",
       "      <td>-0.043675</td>\n",
       "      <td>0.038927</td>\n",
       "      <td>-0.041397</td>\n",
       "      <td>-0.039355</td>\n",
       "      <td>0.041367</td>\n",
       "      <td>0.010798</td>\n",
       "      <td>-0.042004</td>\n",
       "      <td>-0.050189</td>\n",
       "    </tr>\n",
       "    <tr>\n",
       "      <th>Unit price</th>\n",
       "      <td>0.003848</td>\n",
       "      <td>-0.017618</td>\n",
       "      <td>-0.031447</td>\n",
       "      <td>-0.048562</td>\n",
       "      <td>-0.043675</td>\n",
       "      <td>1.000000</td>\n",
       "      <td>0.006249</td>\n",
       "      <td>0.914121</td>\n",
       "      <td>0.905853</td>\n",
       "      <td>0.130221</td>\n",
       "      <td>-0.025071</td>\n",
       "      <td>0.894756</td>\n",
       "      <td>0.102974</td>\n",
       "    </tr>\n",
       "    <tr>\n",
       "      <th>Quantity</th>\n",
       "      <td>0.035102</td>\n",
       "      <td>0.035577</td>\n",
       "      <td>-0.043015</td>\n",
       "      <td>0.016474</td>\n",
       "      <td>0.038927</td>\n",
       "      <td>0.006249</td>\n",
       "      <td>1.000000</td>\n",
       "      <td>0.035128</td>\n",
       "      <td>0.041833</td>\n",
       "      <td>0.110341</td>\n",
       "      <td>-0.007186</td>\n",
       "      <td>0.030738</td>\n",
       "      <td>-0.016396</td>\n",
       "    </tr>\n",
       "    <tr>\n",
       "      <th>Gross income</th>\n",
       "      <td>-0.010435</td>\n",
       "      <td>-0.036147</td>\n",
       "      <td>-0.023232</td>\n",
       "      <td>-0.043849</td>\n",
       "      <td>-0.041397</td>\n",
       "      <td>0.914121</td>\n",
       "      <td>0.035128</td>\n",
       "      <td>1.000000</td>\n",
       "      <td>0.992040</td>\n",
       "      <td>0.162407</td>\n",
       "      <td>-0.040061</td>\n",
       "      <td>0.980894</td>\n",
       "      <td>0.094778</td>\n",
       "    </tr>\n",
       "    <tr>\n",
       "      <th>Total</th>\n",
       "      <td>-0.004535</td>\n",
       "      <td>-0.029569</td>\n",
       "      <td>-0.031326</td>\n",
       "      <td>-0.041922</td>\n",
       "      <td>-0.039355</td>\n",
       "      <td>0.905853</td>\n",
       "      <td>0.041833</td>\n",
       "      <td>0.992040</td>\n",
       "      <td>1.000000</td>\n",
       "      <td>0.156044</td>\n",
       "      <td>-0.035156</td>\n",
       "      <td>0.972944</td>\n",
       "      <td>0.090345</td>\n",
       "    </tr>\n",
       "    <tr>\n",
       "      <th>Date</th>\n",
       "      <td>0.005660</td>\n",
       "      <td>-0.007672</td>\n",
       "      <td>-0.054447</td>\n",
       "      <td>0.018380</td>\n",
       "      <td>0.041367</td>\n",
       "      <td>0.130221</td>\n",
       "      <td>0.110341</td>\n",
       "      <td>0.162407</td>\n",
       "      <td>0.156044</td>\n",
       "      <td>1.000000</td>\n",
       "      <td>-0.029299</td>\n",
       "      <td>0.159085</td>\n",
       "      <td>0.047727</td>\n",
       "    </tr>\n",
       "    <tr>\n",
       "      <th>Payment</th>\n",
       "      <td>0.014796</td>\n",
       "      <td>0.045453</td>\n",
       "      <td>-0.070737</td>\n",
       "      <td>-0.058124</td>\n",
       "      <td>0.010798</td>\n",
       "      <td>-0.025071</td>\n",
       "      <td>-0.007186</td>\n",
       "      <td>-0.040061</td>\n",
       "      <td>-0.035156</td>\n",
       "      <td>-0.029299</td>\n",
       "      <td>1.000000</td>\n",
       "      <td>-0.044510</td>\n",
       "      <td>0.009883</td>\n",
       "    </tr>\n",
       "    <tr>\n",
       "      <th>Cost of goods sold</th>\n",
       "      <td>-0.002255</td>\n",
       "      <td>-0.029989</td>\n",
       "      <td>-0.023803</td>\n",
       "      <td>-0.040665</td>\n",
       "      <td>-0.042004</td>\n",
       "      <td>0.894756</td>\n",
       "      <td>0.030738</td>\n",
       "      <td>0.980894</td>\n",
       "      <td>0.972944</td>\n",
       "      <td>0.159085</td>\n",
       "      <td>-0.044510</td>\n",
       "      <td>1.000000</td>\n",
       "      <td>0.090217</td>\n",
       "    </tr>\n",
       "    <tr>\n",
       "      <th>Rating</th>\n",
       "      <td>-0.014184</td>\n",
       "      <td>-0.015313</td>\n",
       "      <td>-0.012000</td>\n",
       "      <td>0.033463</td>\n",
       "      <td>-0.050189</td>\n",
       "      <td>0.102974</td>\n",
       "      <td>-0.016396</td>\n",
       "      <td>0.094778</td>\n",
       "      <td>0.090345</td>\n",
       "      <td>0.047727</td>\n",
       "      <td>0.009883</td>\n",
       "      <td>0.090217</td>\n",
       "      <td>1.000000</td>\n",
       "    </tr>\n",
       "  </tbody>\n",
       "</table>\n",
       "</div>"
      ],
      "text/plain": [
       "                      Branch      City  Customer type    Gender  Product line  \\\n",
       "Branch              1.000000  0.832118      -0.016495 -0.021603      0.019944   \n",
       "City                0.832118  1.000000       0.001157 -0.007284      0.021962   \n",
       "Customer type      -0.016495  0.001157       1.000000  0.032801     -0.006069   \n",
       "Gender             -0.021603 -0.007284       0.032801  1.000000     -0.047812   \n",
       "Product line        0.019944  0.021962      -0.006069 -0.047812      1.000000   \n",
       "Unit price          0.003848 -0.017618      -0.031447 -0.048562     -0.043675   \n",
       "Quantity            0.035102  0.035577      -0.043015  0.016474      0.038927   \n",
       "Gross income       -0.010435 -0.036147      -0.023232 -0.043849     -0.041397   \n",
       "Total              -0.004535 -0.029569      -0.031326 -0.041922     -0.039355   \n",
       "Date                0.005660 -0.007672      -0.054447  0.018380      0.041367   \n",
       "Payment             0.014796  0.045453      -0.070737 -0.058124      0.010798   \n",
       "Cost of goods sold -0.002255 -0.029989      -0.023803 -0.040665     -0.042004   \n",
       "Rating             -0.014184 -0.015313      -0.012000  0.033463     -0.050189   \n",
       "\n",
       "                    Unit price  Quantity  Gross income     Total      Date  \\\n",
       "Branch                0.003848  0.035102     -0.010435 -0.004535  0.005660   \n",
       "City                 -0.017618  0.035577     -0.036147 -0.029569 -0.007672   \n",
       "Customer type        -0.031447 -0.043015     -0.023232 -0.031326 -0.054447   \n",
       "Gender               -0.048562  0.016474     -0.043849 -0.041922  0.018380   \n",
       "Product line         -0.043675  0.038927     -0.041397 -0.039355  0.041367   \n",
       "Unit price            1.000000  0.006249      0.914121  0.905853  0.130221   \n",
       "Quantity              0.006249  1.000000      0.035128  0.041833  0.110341   \n",
       "Gross income          0.914121  0.035128      1.000000  0.992040  0.162407   \n",
       "Total                 0.905853  0.041833      0.992040  1.000000  0.156044   \n",
       "Date                  0.130221  0.110341      0.162407  0.156044  1.000000   \n",
       "Payment              -0.025071 -0.007186     -0.040061 -0.035156 -0.029299   \n",
       "Cost of goods sold    0.894756  0.030738      0.980894  0.972944  0.159085   \n",
       "Rating                0.102974 -0.016396      0.094778  0.090345  0.047727   \n",
       "\n",
       "                     Payment  Cost of goods sold    Rating  \n",
       "Branch              0.014796           -0.002255 -0.014184  \n",
       "City                0.045453           -0.029989 -0.015313  \n",
       "Customer type      -0.070737           -0.023803 -0.012000  \n",
       "Gender             -0.058124           -0.040665  0.033463  \n",
       "Product line        0.010798           -0.042004 -0.050189  \n",
       "Unit price         -0.025071            0.894756  0.102974  \n",
       "Quantity           -0.007186            0.030738 -0.016396  \n",
       "Gross income       -0.040061            0.980894  0.094778  \n",
       "Total              -0.035156            0.972944  0.090345  \n",
       "Date               -0.029299            0.159085  0.047727  \n",
       "Payment             1.000000           -0.044510  0.009883  \n",
       "Cost of goods sold -0.044510            1.000000  0.090217  \n",
       "Rating              0.009883            0.090217  1.000000  "
      ]
     },
     "execution_count": 15,
     "metadata": {},
     "output_type": "execute_result"
    }
   ],
   "source": [
    "#Checking correlation between columns to help in filling null values\n",
    "df.apply(lambda x: x.factorize()[0]).corr()"
   ]
  },
  {
   "cell_type": "code",
   "execution_count": 16,
   "id": "7a8e391a",
   "metadata": {},
   "outputs": [
    {
     "data": {
      "text/plain": [
       "<AxesSubplot:>"
      ]
     },
     "execution_count": 16,
     "metadata": {},
     "output_type": "execute_result"
    },
    {
     "data": {
      "image/png": "[encoded data removed]",
      "text/plain": [
       "<Figure size 1080x576 with 2 Axes>"
      ]
     },
     "metadata": {
      "needs_background": "light"
     },
     "output_type": "display_data"
    }
   ],
   "source": [
    "#heatmap for correlation\n",
    "fig, ax = plt.subplots(figsize=(15,8))         # Sample figsize in inches\n",
    "sns.heatmap(df.corr(), cmap= 'coolwarm')"
   ]
  },
  {
   "cell_type": "markdown",
   "id": "393b0e9a",
   "metadata": {},
   "source": [
    "# Dealing with null values"
   ]
  },
  {
   "cell_type": "code",
   "execution_count": 17,
   "id": "ccda78e9",
   "metadata": {},
   "outputs": [
    {
     "data": {
      "text/plain": [
       "Branch                19\n",
       "City                   4\n",
       "Customer type          0\n",
       "Gender                 9\n",
       "Product line           5\n",
       "Unit price             8\n",
       "Quantity               8\n",
       "Gross income           0\n",
       "Total                  8\n",
       "Date                   0\n",
       "Payment               13\n",
       "Cost of goods sold    11\n",
       "Rating                 6\n",
       "dtype: int64"
      ]
     },
     "execution_count": 17,
     "metadata": {},
     "output_type": "execute_result"
    }
   ],
   "source": [
    "df.isnull().sum()"
   ]
  },
  {
   "cell_type": "code",
   "execution_count": 18,
   "id": "6c0e1cca",
   "metadata": {},
   "outputs": [
    {
     "data": {
      "text/plain": [
       "<AxesSubplot:>"
      ]
     },
     "execution_count": 18,
     "metadata": {},
     "output_type": "execute_result"
    },
    {
     "data": {
      "image/png": "[encoded data removed]",
      "text/plain": [
       "<Figure size 1440x864 with 1 Axes>"
      ]
     },
     "metadata": {
      "needs_background": "light"
     },
     "output_type": "display_data"
    }
   ],
   "source": [
    "msno.heatmap(df)"
   ]
  },
  {
   "cell_type": "code",
   "execution_count": 19,
   "id": "b4c29aff",
   "metadata": {},
   "outputs": [
    {
     "data": {
      "text/html": [
       "<div>\n",
       "<style scoped>\n",
       "    .dataframe tbody tr th:only-of-type {\n",
       "        vertical-align: middle;\n",
       "    }\n",
       "\n",
       "    .dataframe tbody tr th {\n",
       "        vertical-align: top;\n",
       "    }\n",
       "\n",
       "    .dataframe thead th {\n",
       "        text-align: right;\n",
       "    }\n",
       "</style>\n",
       "<table border=\"1\" class=\"dataframe\">\n",
       "  <thead>\n",
       "    <tr style=\"text-align: right;\">\n",
       "      <th></th>\n",
       "      <th>Branch</th>\n",
       "      <th>City</th>\n",
       "      <th>Customer type</th>\n",
       "      <th>Gender</th>\n",
       "      <th>Product line</th>\n",
       "      <th>Unit price</th>\n",
       "      <th>Quantity</th>\n",
       "      <th>Gross income</th>\n",
       "      <th>Total</th>\n",
       "      <th>Date</th>\n",
       "      <th>Payment</th>\n",
       "      <th>Cost of goods sold</th>\n",
       "      <th>Rating</th>\n",
       "    </tr>\n",
       "  </thead>\n",
       "  <tbody>\n",
       "    <tr>\n",
       "      <th>0</th>\n",
       "      <td>False</td>\n",
       "      <td>False</td>\n",
       "      <td>False</td>\n",
       "      <td>False</td>\n",
       "      <td>False</td>\n",
       "      <td>False</td>\n",
       "      <td>False</td>\n",
       "      <td>False</td>\n",
       "      <td>False</td>\n",
       "      <td>False</td>\n",
       "      <td>False</td>\n",
       "      <td>False</td>\n",
       "      <td>False</td>\n",
       "    </tr>\n",
       "    <tr>\n",
       "      <th>1</th>\n",
       "      <td>False</td>\n",
       "      <td>False</td>\n",
       "      <td>False</td>\n",
       "      <td>False</td>\n",
       "      <td>False</td>\n",
       "      <td>False</td>\n",
       "      <td>False</td>\n",
       "      <td>False</td>\n",
       "      <td>False</td>\n",
       "      <td>False</td>\n",
       "      <td>False</td>\n",
       "      <td>False</td>\n",
       "      <td>False</td>\n",
       "    </tr>\n",
       "    <tr>\n",
       "      <th>2</th>\n",
       "      <td>False</td>\n",
       "      <td>False</td>\n",
       "      <td>False</td>\n",
       "      <td>False</td>\n",
       "      <td>False</td>\n",
       "      <td>False</td>\n",
       "      <td>False</td>\n",
       "      <td>False</td>\n",
       "      <td>False</td>\n",
       "      <td>False</td>\n",
       "      <td>False</td>\n",
       "      <td>False</td>\n",
       "      <td>False</td>\n",
       "    </tr>\n",
       "    <tr>\n",
       "      <th>3</th>\n",
       "      <td>False</td>\n",
       "      <td>False</td>\n",
       "      <td>False</td>\n",
       "      <td>False</td>\n",
       "      <td>False</td>\n",
       "      <td>False</td>\n",
       "      <td>False</td>\n",
       "      <td>False</td>\n",
       "      <td>False</td>\n",
       "      <td>False</td>\n",
       "      <td>False</td>\n",
       "      <td>False</td>\n",
       "      <td>False</td>\n",
       "    </tr>\n",
       "    <tr>\n",
       "      <th>4</th>\n",
       "      <td>False</td>\n",
       "      <td>False</td>\n",
       "      <td>False</td>\n",
       "      <td>False</td>\n",
       "      <td>False</td>\n",
       "      <td>False</td>\n",
       "      <td>False</td>\n",
       "      <td>False</td>\n",
       "      <td>False</td>\n",
       "      <td>False</td>\n",
       "      <td>False</td>\n",
       "      <td>False</td>\n",
       "      <td>False</td>\n",
       "    </tr>\n",
       "    <tr>\n",
       "      <th>...</th>\n",
       "      <td>...</td>\n",
       "      <td>...</td>\n",
       "      <td>...</td>\n",
       "      <td>...</td>\n",
       "      <td>...</td>\n",
       "      <td>...</td>\n",
       "      <td>...</td>\n",
       "      <td>...</td>\n",
       "      <td>...</td>\n",
       "      <td>...</td>\n",
       "      <td>...</td>\n",
       "      <td>...</td>\n",
       "      <td>...</td>\n",
       "    </tr>\n",
       "    <tr>\n",
       "      <th>995</th>\n",
       "      <td>False</td>\n",
       "      <td>False</td>\n",
       "      <td>False</td>\n",
       "      <td>False</td>\n",
       "      <td>False</td>\n",
       "      <td>False</td>\n",
       "      <td>False</td>\n",
       "      <td>False</td>\n",
       "      <td>False</td>\n",
       "      <td>False</td>\n",
       "      <td>True</td>\n",
       "      <td>False</td>\n",
       "      <td>False</td>\n",
       "    </tr>\n",
       "    <tr>\n",
       "      <th>996</th>\n",
       "      <td>False</td>\n",
       "      <td>False</td>\n",
       "      <td>False</td>\n",
       "      <td>False</td>\n",
       "      <td>False</td>\n",
       "      <td>False</td>\n",
       "      <td>False</td>\n",
       "      <td>False</td>\n",
       "      <td>False</td>\n",
       "      <td>False</td>\n",
       "      <td>True</td>\n",
       "      <td>False</td>\n",
       "      <td>False</td>\n",
       "    </tr>\n",
       "    <tr>\n",
       "      <th>997</th>\n",
       "      <td>False</td>\n",
       "      <td>False</td>\n",
       "      <td>False</td>\n",
       "      <td>False</td>\n",
       "      <td>False</td>\n",
       "      <td>False</td>\n",
       "      <td>False</td>\n",
       "      <td>False</td>\n",
       "      <td>False</td>\n",
       "      <td>False</td>\n",
       "      <td>True</td>\n",
       "      <td>False</td>\n",
       "      <td>False</td>\n",
       "    </tr>\n",
       "    <tr>\n",
       "      <th>998</th>\n",
       "      <td>False</td>\n",
       "      <td>False</td>\n",
       "      <td>False</td>\n",
       "      <td>False</td>\n",
       "      <td>False</td>\n",
       "      <td>True</td>\n",
       "      <td>False</td>\n",
       "      <td>False</td>\n",
       "      <td>False</td>\n",
       "      <td>False</td>\n",
       "      <td>True</td>\n",
       "      <td>False</td>\n",
       "      <td>False</td>\n",
       "    </tr>\n",
       "    <tr>\n",
       "      <th>999</th>\n",
       "      <td>False</td>\n",
       "      <td>False</td>\n",
       "      <td>False</td>\n",
       "      <td>False</td>\n",
       "      <td>False</td>\n",
       "      <td>True</td>\n",
       "      <td>False</td>\n",
       "      <td>False</td>\n",
       "      <td>False</td>\n",
       "      <td>False</td>\n",
       "      <td>True</td>\n",
       "      <td>False</td>\n",
       "      <td>False</td>\n",
       "    </tr>\n",
       "  </tbody>\n",
       "</table>\n",
       "<p>1000 rows × 13 columns</p>\n",
       "</div>"
      ],
      "text/plain": [
       "     Branch   City  Customer type  Gender  Product line  Unit price  Quantity  \\\n",
       "0     False  False          False   False         False       False     False   \n",
       "1     False  False          False   False         False       False     False   \n",
       "2     False  False          False   False         False       False     False   \n",
       "3     False  False          False   False         False       False     False   \n",
       "4     False  False          False   False         False       False     False   \n",
       "..      ...    ...            ...     ...           ...         ...       ...   \n",
       "995   False  False          False   False         False       False     False   \n",
       "996   False  False          False   False         False       False     False   \n",
       "997   False  False          False   False         False       False     False   \n",
       "998   False  False          False   False         False        True     False   \n",
       "999   False  False          False   False         False        True     False   \n",
       "\n",
       "     Gross income  Total   Date  Payment  Cost of goods sold  Rating  \n",
       "0           False  False  False    False               False   False  \n",
       "1           False  False  False    False               False   False  \n",
       "2           False  False  False    False               False   False  \n",
       "3           False  False  False    False               False   False  \n",
       "4           False  False  False    False               False   False  \n",
       "..            ...    ...    ...      ...                 ...     ...  \n",
       "995         False  False  False     True               False   False  \n",
       "996         False  False  False     True               False   False  \n",
       "997         False  False  False     True               False   False  \n",
       "998         False  False  False     True               False   False  \n",
       "999         False  False  False     True               False   False  \n",
       "\n",
       "[1000 rows x 13 columns]"
      ]
     },
     "execution_count": 19,
     "metadata": {},
     "output_type": "execute_result"
    }
   ],
   "source": [
    "#Checking null values\n",
    "df.isna()"
   ]
  },
  {
   "cell_type": "code",
   "execution_count": 20,
   "id": "8bede56a",
   "metadata": {
    "scrolled": true
   },
   "outputs": [],
   "source": [
    "#As city and branch number signify same thing, we eliminate the branch column.\n",
    "#We fill the missing values in City through branch\n",
    "df['City'].fillna(df['Branch'], inplace=True)\n",
    "df['Branch'].fillna(df['City'], inplace=True)\n",
    "df[\"City\"].replace({\"A\": \"Yangon\", \"B\": \"Mandalay\", \"C\": \"Naypyitaw\"}, inplace=True)"
   ]
  },
  {
   "cell_type": "code",
   "execution_count": 21,
   "id": "7798472a",
   "metadata": {},
   "outputs": [],
   "source": [
    "#We do not need branch as city does same thing as branch\n",
    "df.drop('Branch', inplace=True, axis=1)"
   ]
  },
  {
   "cell_type": "code",
   "execution_count": 22,
   "id": "e80bb14f",
   "metadata": {},
   "outputs": [
    {
     "data": {
      "text/plain": [
       "<AxesSubplot:>"
      ]
     },
     "execution_count": 22,
     "metadata": {},
     "output_type": "execute_result"
    },
    {
     "data": {
      "image/png": "[encoded data removed]",
      "text/plain": [
       "<Figure size 1728x720 with 3 Axes>"
      ]
     },
     "metadata": {
      "needs_background": "light"
     },
     "output_type": "display_data"
    }
   ],
   "source": [
    "msno.bar(df)"
   ]
  },
  {
   "cell_type": "markdown",
   "id": "b28cd629",
   "metadata": {},
   "source": [
    "# Used highly correlated columns to fill missing values"
   ]
  },
  {
   "cell_type": "code",
   "execution_count": 23,
   "id": "a0bb556e",
   "metadata": {},
   "outputs": [
    {
     "data": {
      "text/plain": [
       "0    Male\n",
       "dtype: object"
      ]
     },
     "execution_count": 23,
     "metadata": {},
     "output_type": "execute_result"
    }
   ],
   "source": [
    "#In the lines below, we have filled out null values according to the mode of the highly correlated columns\n",
    "df[(df['Product line'] == 'Home and lifestyle')]['Gender'].mode()"
   ]
  },
  {
   "cell_type": "code",
   "execution_count": 24,
   "id": "739fc333",
   "metadata": {},
   "outputs": [],
   "source": [
    "df['Gender'] = df['Gender'].mask((df['Gender'].isnull()) & (df['Product line'] == 'Home and lifestyle'), 'Male')"
   ]
  },
  {
   "cell_type": "code",
   "execution_count": 25,
   "id": "71fec94f",
   "metadata": {},
   "outputs": [
    {
     "data": {
      "text/plain": [
       "0    Female\n",
       "dtype: object"
      ]
     },
     "execution_count": 25,
     "metadata": {},
     "output_type": "execute_result"
    }
   ],
   "source": [
    "df[(df['Product line'] == 'Food and beverages')]['Gender'].mode()"
   ]
  },
  {
   "cell_type": "code",
   "execution_count": 26,
   "id": "96042fd9",
   "metadata": {},
   "outputs": [],
   "source": [
    "df['Gender'] = df['Gender'].mask((df['Gender'].isnull()) & (df['Product line'] == 'Food and beverages'), 'Female')"
   ]
  },
  {
   "cell_type": "code",
   "execution_count": 27,
   "id": "8ef8bd93",
   "metadata": {},
   "outputs": [
    {
     "data": {
      "text/plain": [
       "0    Male\n",
       "dtype: object"
      ]
     },
     "execution_count": 27,
     "metadata": {},
     "output_type": "execute_result"
    }
   ],
   "source": [
    "df[(df['Product line'] == 'Health and beauty')]['Gender'].mode()"
   ]
  },
  {
   "cell_type": "code",
   "execution_count": 28,
   "id": "1e64f062",
   "metadata": {},
   "outputs": [],
   "source": [
    "df['Gender'] = df['Gender'].mask((df['Gender'].isnull()) & (df['Product line'] == 'Health and beauty'), 'Male')"
   ]
  },
  {
   "cell_type": "code",
   "execution_count": 29,
   "id": "94613774",
   "metadata": {},
   "outputs": [
    {
     "data": {
      "text/plain": [
       "0    Male\n",
       "dtype: object"
      ]
     },
     "execution_count": 29,
     "metadata": {},
     "output_type": "execute_result"
    }
   ],
   "source": [
    "df[(df['Product line'] == 'Electronic accessories')]['Gender'].mode()"
   ]
  },
  {
   "cell_type": "code",
   "execution_count": 30,
   "id": "54d3481a",
   "metadata": {},
   "outputs": [],
   "source": [
    "df['Gender'] = df['Gender'].mask((df['Gender'].isnull()) & (df['Product line'] == 'Electronic accessories'), 'Male')"
   ]
  },
  {
   "cell_type": "code",
   "execution_count": 31,
   "id": "d5ec1145",
   "metadata": {},
   "outputs": [
    {
     "data": {
      "text/plain": [
       "0    Male\n",
       "dtype: object"
      ]
     },
     "execution_count": 31,
     "metadata": {},
     "output_type": "execute_result"
    }
   ],
   "source": [
    "df[(df['Product line'] == 'Electronic accessories')]['Gender'].mode()"
   ]
  },
  {
   "cell_type": "code",
   "execution_count": 32,
   "id": "318c86bb",
   "metadata": {},
   "outputs": [
    {
     "data": {
      "text/plain": [
       "0    Health and beauty\n",
       "dtype: object"
      ]
     },
     "execution_count": 32,
     "metadata": {},
     "output_type": "execute_result"
    }
   ],
   "source": [
    "#city ke hisab se\n",
    "df[(df['Gender'] == 'Male')]['Product line'].mode()"
   ]
  },
  {
   "cell_type": "code",
   "execution_count": 33,
   "id": "b567e4a6",
   "metadata": {},
   "outputs": [],
   "source": [
    "df['Product line'] = df['Product line'].mask((df['Product line'].isnull()) & (df['Gender'] == 'Male'), 'Health and beauty')"
   ]
  },
  {
   "cell_type": "code",
   "execution_count": 34,
   "id": "4ec5ce9f",
   "metadata": {},
   "outputs": [
    {
     "data": {
      "text/plain": [
       "0    Fashion accessories\n",
       "dtype: object"
      ]
     },
     "execution_count": 34,
     "metadata": {},
     "output_type": "execute_result"
    }
   ],
   "source": [
    "#city ke hisab se\n",
    "df[(df['Gender'] == 'Female')]['Product line'].mode()"
   ]
  },
  {
   "cell_type": "code",
   "execution_count": 35,
   "id": "532c2cb6",
   "metadata": {},
   "outputs": [],
   "source": [
    "df['Product line'] = df['Product line'].mask((df['Product line'].isnull()) & (df['Gender'] == 'Female'), 'Fashion accessories')"
   ]
  },
  {
   "cell_type": "markdown",
   "id": "f7071e04",
   "metadata": {},
   "source": [
    "# Dealing with missing values in numeric columns through calculation"
   ]
  },
  {
   "cell_type": "code",
   "execution_count": 36,
   "id": "9b5f1547",
   "metadata": {},
   "outputs": [
    {
     "name": "stdout",
     "output_type": "stream",
     "text": [
      "[142, 143, 144, 450, 451, 452, 453, 454, 842, 843, 844]\n"
     ]
    }
   ],
   "source": [
    "#These are the indexes where Cost of goods sold column has null values\n",
    "cost = df[df['Cost of goods sold'].isnull()].index.tolist()\n",
    "print(cost)\n",
    "# replacing the null values with calculated values using corresponding row index\n",
    "for index in cost:\n",
    "    df.loc[index,'Cost of goods sold'] = ((df.loc[index,'Total'])*(df.loc[index,'Gross income']))"
   ]
  },
  {
   "cell_type": "code",
   "execution_count": 37,
   "id": "6b2d40fe",
   "metadata": {},
   "outputs": [
    {
     "name": "stdout",
     "output_type": "stream",
     "text": [
      "[]\n"
     ]
    }
   ],
   "source": [
    "#These are the indexes where Gross income column has null values\n",
    "income = df[df['Gross income'].isnull()].index.tolist()\n",
    "print(income)\n",
    "# replacing the null values with calculated values using corresponding row index\n",
    "for index in income:\n",
    "    df.loc[index,'Gross income'] = ((df.loc[index,'Total'])-(df.loc[index,'cogs']))\n"
   ]
  },
  {
   "cell_type": "code",
   "execution_count": 38,
   "id": "e8450477",
   "metadata": {},
   "outputs": [
    {
     "name": "stdout",
     "output_type": "stream",
     "text": [
      "[8, 9, 484, 485, 979, 980, 998, 999]\n"
     ]
    }
   ],
   "source": [
    "unit = df[df['Unit price'].isnull()].index.tolist()\n",
    "print(unit)\n",
    "for index in unit:\n",
    "    df.loc[index,'Unit price'] = (df.loc[index,'Total']/(df.loc[index,'Quantity']))"
   ]
  },
  {
   "cell_type": "code",
   "execution_count": 39,
   "id": "f28db63e",
   "metadata": {},
   "outputs": [
    {
     "name": "stdout",
     "output_type": "stream",
     "text": [
      "[57, 58, 59, 60, 223, 244, 357, 381]\n"
     ]
    }
   ],
   "source": [
    "quant = df[df['Quantity'].isnull()].index.tolist()\n",
    "print(quant)\n",
    "for index in quant:\n",
    "    df.loc[index,'Quantity'] = (df.loc[index,'Total']/(df.loc[index,'Unit price']))"
   ]
  },
  {
   "cell_type": "code",
   "execution_count": 40,
   "id": "99031dc3",
   "metadata": {},
   "outputs": [
    {
     "name": "stdout",
     "output_type": "stream",
     "text": [
      "[306, 391, 394, 395, 396, 412, 433, 518]\n"
     ]
    }
   ],
   "source": [
    "total = df[df['Total'].isnull()].index.tolist()\n",
    "print(total)\n",
    "for index in total:\n",
    "    df.loc[index,'Total'] = ((df.loc[index,'Quantity'])*(df.loc[index,'Unit price']))"
   ]
  },
  {
   "cell_type": "markdown",
   "id": "9e6b6319",
   "metadata": {},
   "source": [
    "# Dealing with other columns"
   ]
  },
  {
   "cell_type": "code",
   "execution_count": 41,
   "id": "7544e6d2",
   "metadata": {},
   "outputs": [],
   "source": [
    "#Rating is better to be filled with mean\n",
    "df['Rating'].fillna((df['Rating'].mean()), inplace=True)"
   ]
  },
  {
   "cell_type": "code",
   "execution_count": 42,
   "id": "c80a9e06",
   "metadata": {},
   "outputs": [],
   "source": [
    "#payment being a categorical variable should be filled with mode\n",
    "df['Payment'].fillna(df['Payment'].mode()[0], inplace=True)"
   ]
  },
  {
   "cell_type": "code",
   "execution_count": 43,
   "id": "79e0f61c",
   "metadata": {},
   "outputs": [
    {
     "data": {
      "text/plain": [
       "0"
      ]
     },
     "execution_count": 43,
     "metadata": {},
     "output_type": "execute_result"
    }
   ],
   "source": [
    "df.isnull().any(axis = 1).sum() #total number of rows with missing data"
   ]
  },
  {
   "cell_type": "code",
   "execution_count": 44,
   "id": "3f87fdfe",
   "metadata": {},
   "outputs": [
    {
     "data": {
      "text/plain": [
       "City                  0\n",
       "Customer type         0\n",
       "Gender                0\n",
       "Product line          0\n",
       "Unit price            0\n",
       "Quantity              0\n",
       "Gross income          0\n",
       "Total                 0\n",
       "Date                  0\n",
       "Payment               0\n",
       "Cost of goods sold    0\n",
       "Rating                0\n",
       "dtype: int64"
      ]
     },
     "execution_count": 44,
     "metadata": {},
     "output_type": "execute_result"
    }
   ],
   "source": [
    "df.isnull().sum()"
   ]
  },
  {
   "cell_type": "markdown",
   "id": "02735d45",
   "metadata": {},
   "source": [
    "# Dealing with Date"
   ]
  },
  {
   "cell_type": "code",
   "execution_count": 45,
   "id": "4a56ad16",
   "metadata": {},
   "outputs": [
    {
     "data": {
      "text/html": [
       "<div>\n",
       "<style scoped>\n",
       "    .dataframe tbody tr th:only-of-type {\n",
       "        vertical-align: middle;\n",
       "    }\n",
       "\n",
       "    .dataframe tbody tr th {\n",
       "        vertical-align: top;\n",
       "    }\n",
       "\n",
       "    .dataframe thead th {\n",
       "        text-align: right;\n",
       "    }\n",
       "</style>\n",
       "<table border=\"1\" class=\"dataframe\">\n",
       "  <thead>\n",
       "    <tr style=\"text-align: right;\">\n",
       "      <th></th>\n",
       "      <th>City</th>\n",
       "      <th>Customer type</th>\n",
       "      <th>Gender</th>\n",
       "      <th>Product line</th>\n",
       "      <th>Unit price</th>\n",
       "      <th>Quantity</th>\n",
       "      <th>Gross income</th>\n",
       "      <th>Total</th>\n",
       "      <th>Date</th>\n",
       "      <th>Payment</th>\n",
       "      <th>Cost of goods sold</th>\n",
       "      <th>Rating</th>\n",
       "      <th>Month</th>\n",
       "      <th>Day</th>\n",
       "      <th>Year</th>\n",
       "    </tr>\n",
       "  </thead>\n",
       "  <tbody>\n",
       "    <tr>\n",
       "      <th>0</th>\n",
       "      <td>Yangon</td>\n",
       "      <td>Member</td>\n",
       "      <td>Female</td>\n",
       "      <td>Health and beauty</td>\n",
       "      <td>74.69</td>\n",
       "      <td>7.0</td>\n",
       "      <td>26.1415</td>\n",
       "      <td>548.9715</td>\n",
       "      <td>1/5/2019</td>\n",
       "      <td>Ewallet</td>\n",
       "      <td>522.83</td>\n",
       "      <td>9.1</td>\n",
       "      <td>1</td>\n",
       "      <td>5</td>\n",
       "      <td>2019</td>\n",
       "    </tr>\n",
       "    <tr>\n",
       "      <th>1</th>\n",
       "      <td>Naypyitaw</td>\n",
       "      <td>Normal</td>\n",
       "      <td>Female</td>\n",
       "      <td>Electronic accessories</td>\n",
       "      <td>15.28</td>\n",
       "      <td>5.0</td>\n",
       "      <td>3.8200</td>\n",
       "      <td>80.2200</td>\n",
       "      <td>3/8/2019</td>\n",
       "      <td>Cash</td>\n",
       "      <td>76.40</td>\n",
       "      <td>9.6</td>\n",
       "      <td>3</td>\n",
       "      <td>8</td>\n",
       "      <td>2019</td>\n",
       "    </tr>\n",
       "    <tr>\n",
       "      <th>2</th>\n",
       "      <td>Yangon</td>\n",
       "      <td>Normal</td>\n",
       "      <td>Male</td>\n",
       "      <td>Home and lifestyle</td>\n",
       "      <td>46.33</td>\n",
       "      <td>7.0</td>\n",
       "      <td>16.2155</td>\n",
       "      <td>340.5255</td>\n",
       "      <td>3/3/2019</td>\n",
       "      <td>Credit card</td>\n",
       "      <td>324.31</td>\n",
       "      <td>7.4</td>\n",
       "      <td>3</td>\n",
       "      <td>3</td>\n",
       "      <td>2019</td>\n",
       "    </tr>\n",
       "    <tr>\n",
       "      <th>3</th>\n",
       "      <td>Yangon</td>\n",
       "      <td>Member</td>\n",
       "      <td>Male</td>\n",
       "      <td>Health and beauty</td>\n",
       "      <td>58.22</td>\n",
       "      <td>8.0</td>\n",
       "      <td>23.2880</td>\n",
       "      <td>489.0480</td>\n",
       "      <td>1/27/2019</td>\n",
       "      <td>Ewallet</td>\n",
       "      <td>465.76</td>\n",
       "      <td>8.4</td>\n",
       "      <td>1</td>\n",
       "      <td>27</td>\n",
       "      <td>2019</td>\n",
       "    </tr>\n",
       "    <tr>\n",
       "      <th>4</th>\n",
       "      <td>Yangon</td>\n",
       "      <td>Normal</td>\n",
       "      <td>Male</td>\n",
       "      <td>Sports and travel</td>\n",
       "      <td>86.31</td>\n",
       "      <td>7.0</td>\n",
       "      <td>30.2085</td>\n",
       "      <td>634.3785</td>\n",
       "      <td>2/8/2019</td>\n",
       "      <td>Ewallet</td>\n",
       "      <td>604.17</td>\n",
       "      <td>5.3</td>\n",
       "      <td>2</td>\n",
       "      <td>8</td>\n",
       "      <td>2019</td>\n",
       "    </tr>\n",
       "  </tbody>\n",
       "</table>\n",
       "</div>"
      ],
      "text/plain": [
       "        City Customer type  Gender            Product line  Unit price  \\\n",
       "0     Yangon        Member  Female       Health and beauty       74.69   \n",
       "1  Naypyitaw        Normal  Female  Electronic accessories       15.28   \n",
       "2     Yangon        Normal    Male      Home and lifestyle       46.33   \n",
       "3     Yangon        Member    Male       Health and beauty       58.22   \n",
       "4     Yangon        Normal    Male       Sports and travel       86.31   \n",
       "\n",
       "   Quantity  Gross income     Total       Date      Payment  \\\n",
       "0       7.0       26.1415  548.9715   1/5/2019      Ewallet   \n",
       "1       5.0        3.8200   80.2200   3/8/2019         Cash   \n",
       "2       7.0       16.2155  340.5255   3/3/2019  Credit card   \n",
       "3       8.0       23.2880  489.0480  1/27/2019      Ewallet   \n",
       "4       7.0       30.2085  634.3785   2/8/2019      Ewallet   \n",
       "\n",
       "   Cost of goods sold  Rating Month Day  Year  \n",
       "0              522.83     9.1     1   5  2019  \n",
       "1               76.40     9.6     3   8  2019  \n",
       "2              324.31     7.4     3   3  2019  \n",
       "3              465.76     8.4     1  27  2019  \n",
       "4              604.17     5.3     2   8  2019  "
      ]
     },
     "execution_count": 45,
     "metadata": {},
     "output_type": "execute_result"
    }
   ],
   "source": [
    "#Splitting date to fill missing values\n",
    "df[['Month', 'Day', 'Year']] = df['Date'].str.split('/', expand=True)\n",
    "df.head()"
   ]
  },
  {
   "cell_type": "code",
   "execution_count": 46,
   "id": "2e542ed4",
   "metadata": {},
   "outputs": [
    {
     "data": {
      "text/plain": [
       "City                  0\n",
       "Customer type         0\n",
       "Gender                0\n",
       "Product line          0\n",
       "Unit price            0\n",
       "Quantity              0\n",
       "Gross income          0\n",
       "Total                 0\n",
       "Date                  0\n",
       "Payment               0\n",
       "Cost of goods sold    0\n",
       "Rating                0\n",
       "Month                 1\n",
       "Day                   3\n",
       "Year                  3\n",
       "dtype: int64"
      ]
     },
     "execution_count": 46,
     "metadata": {},
     "output_type": "execute_result"
    }
   ],
   "source": [
    "#Replacing missing values with np.nan\n",
    "df['Month'].replace('',np.nan,inplace = True)\n",
    "df['Day'].replace('',np.nan,inplace = True)\n",
    "df['Year'].replace('',np.nan,inplace = True)\n",
    "df.isnull().sum()"
   ]
  },
  {
   "cell_type": "code",
   "execution_count": 47,
   "id": "3c7a7ac7",
   "metadata": {},
   "outputs": [],
   "source": [
    "#replacing with year in data set\n",
    "df['Year'].replace(np.nan,'2019',inplace = True)"
   ]
  },
  {
   "cell_type": "code",
   "execution_count": 48,
   "id": "750f9c97",
   "metadata": {},
   "outputs": [],
   "source": [
    "df['Day'].fillna(df['Day'].mode()[0], inplace=True)\n",
    "df['Month'].fillna(df['Year'].mode()[0], inplace=True)"
   ]
  },
  {
   "cell_type": "code",
   "execution_count": 49,
   "id": "136738d3",
   "metadata": {},
   "outputs": [],
   "source": [
    "#joining date in datetime format\n",
    "df['Date']=(df[['Year', 'Month','Day']].T.agg('-'.join))"
   ]
  },
  {
   "cell_type": "code",
   "execution_count": 50,
   "id": "73e992cd",
   "metadata": {},
   "outputs": [],
   "source": [
    "#Dropping splitted columns\n",
    "df.drop('Year', inplace=True, axis=1)\n",
    "df.drop('Month', inplace=True, axis=1)\n",
    "df.drop('Day', inplace=True, axis=1)\n",
    "#df.drop('Time', inplace=True, axis=1)"
   ]
  },
  {
   "cell_type": "code",
   "execution_count": 51,
   "id": "1331956a",
   "metadata": {},
   "outputs": [],
   "source": [
    "#Fixing date\n",
    "df.at[391,'Date']='2019-2-26'\n",
    "df['Date'] = pd.to_datetime(df['Date'])"
   ]
  },
  {
   "cell_type": "code",
   "execution_count": 52,
   "id": "ddaadb82",
   "metadata": {},
   "outputs": [],
   "source": [
    "df=df.round(decimals = 1)"
   ]
  },
  {
   "cell_type": "code",
   "execution_count": 53,
   "id": "7e400870",
   "metadata": {},
   "outputs": [
    {
     "data": {
      "text/html": [
       "<div>\n",
       "<style scoped>\n",
       "    .dataframe tbody tr th:only-of-type {\n",
       "        vertical-align: middle;\n",
       "    }\n",
       "\n",
       "    .dataframe tbody tr th {\n",
       "        vertical-align: top;\n",
       "    }\n",
       "\n",
       "    .dataframe thead th {\n",
       "        text-align: right;\n",
       "    }\n",
       "</style>\n",
       "<table border=\"1\" class=\"dataframe\">\n",
       "  <thead>\n",
       "    <tr style=\"text-align: right;\">\n",
       "      <th></th>\n",
       "      <th>City</th>\n",
       "      <th>Customer type</th>\n",
       "      <th>Gender</th>\n",
       "      <th>Product line</th>\n",
       "      <th>Unit price</th>\n",
       "      <th>Quantity</th>\n",
       "      <th>Gross income</th>\n",
       "      <th>Total</th>\n",
       "      <th>Date</th>\n",
       "      <th>Payment</th>\n",
       "      <th>Cost of goods sold</th>\n",
       "      <th>Rating</th>\n",
       "    </tr>\n",
       "  </thead>\n",
       "  <tbody>\n",
       "    <tr>\n",
       "      <th>0</th>\n",
       "      <td>Yangon</td>\n",
       "      <td>Member</td>\n",
       "      <td>Female</td>\n",
       "      <td>Health and beauty</td>\n",
       "      <td>74.7</td>\n",
       "      <td>7.0</td>\n",
       "      <td>26.1</td>\n",
       "      <td>549.0</td>\n",
       "      <td>2019-01-05</td>\n",
       "      <td>Ewallet</td>\n",
       "      <td>522.8</td>\n",
       "      <td>9.1</td>\n",
       "    </tr>\n",
       "    <tr>\n",
       "      <th>1</th>\n",
       "      <td>Naypyitaw</td>\n",
       "      <td>Normal</td>\n",
       "      <td>Female</td>\n",
       "      <td>Electronic accessories</td>\n",
       "      <td>15.3</td>\n",
       "      <td>5.0</td>\n",
       "      <td>3.8</td>\n",
       "      <td>80.2</td>\n",
       "      <td>2019-03-08</td>\n",
       "      <td>Cash</td>\n",
       "      <td>76.4</td>\n",
       "      <td>9.6</td>\n",
       "    </tr>\n",
       "    <tr>\n",
       "      <th>2</th>\n",
       "      <td>Yangon</td>\n",
       "      <td>Normal</td>\n",
       "      <td>Male</td>\n",
       "      <td>Home and lifestyle</td>\n",
       "      <td>46.3</td>\n",
       "      <td>7.0</td>\n",
       "      <td>16.2</td>\n",
       "      <td>340.5</td>\n",
       "      <td>2019-03-03</td>\n",
       "      <td>Credit card</td>\n",
       "      <td>324.3</td>\n",
       "      <td>7.4</td>\n",
       "    </tr>\n",
       "    <tr>\n",
       "      <th>3</th>\n",
       "      <td>Yangon</td>\n",
       "      <td>Member</td>\n",
       "      <td>Male</td>\n",
       "      <td>Health and beauty</td>\n",
       "      <td>58.2</td>\n",
       "      <td>8.0</td>\n",
       "      <td>23.3</td>\n",
       "      <td>489.0</td>\n",
       "      <td>2019-01-27</td>\n",
       "      <td>Ewallet</td>\n",
       "      <td>465.8</td>\n",
       "      <td>8.4</td>\n",
       "    </tr>\n",
       "    <tr>\n",
       "      <th>4</th>\n",
       "      <td>Yangon</td>\n",
       "      <td>Normal</td>\n",
       "      <td>Male</td>\n",
       "      <td>Sports and travel</td>\n",
       "      <td>86.3</td>\n",
       "      <td>7.0</td>\n",
       "      <td>30.2</td>\n",
       "      <td>634.4</td>\n",
       "      <td>2019-02-08</td>\n",
       "      <td>Ewallet</td>\n",
       "      <td>604.2</td>\n",
       "      <td>5.3</td>\n",
       "    </tr>\n",
       "  </tbody>\n",
       "</table>\n",
       "</div>"
      ],
      "text/plain": [
       "        City Customer type  Gender            Product line  Unit price  \\\n",
       "0     Yangon        Member  Female       Health and beauty        74.7   \n",
       "1  Naypyitaw        Normal  Female  Electronic accessories        15.3   \n",
       "2     Yangon        Normal    Male      Home and lifestyle        46.3   \n",
       "3     Yangon        Member    Male       Health and beauty        58.2   \n",
       "4     Yangon        Normal    Male       Sports and travel        86.3   \n",
       "\n",
       "   Quantity  Gross income  Total       Date      Payment  Cost of goods sold  \\\n",
       "0       7.0          26.1  549.0 2019-01-05      Ewallet               522.8   \n",
       "1       5.0           3.8   80.2 2019-03-08         Cash                76.4   \n",
       "2       7.0          16.2  340.5 2019-03-03  Credit card               324.3   \n",
       "3       8.0          23.3  489.0 2019-01-27      Ewallet               465.8   \n",
       "4       7.0          30.2  634.4 2019-02-08      Ewallet               604.2   \n",
       "\n",
       "   Rating  \n",
       "0     9.1  \n",
       "1     9.6  \n",
       "2     7.4  \n",
       "3     8.4  \n",
       "4     5.3  "
      ]
     },
     "execution_count": 53,
     "metadata": {},
     "output_type": "execute_result"
    }
   ],
   "source": [
    "df.head()"
   ]
  },
  {
   "cell_type": "code",
   "execution_count": 54,
   "id": "ee469183",
   "metadata": {},
   "outputs": [],
   "source": [
    "df['Quarter'] = df['Date'].apply(lambda x: x.quarter)\n",
    "df['Year'] = df['Date'].apply(lambda x: x.year)\n",
    "df['Month'] = df['Date'].apply(lambda x: x.month)\n",
    "df['Week'] = df['Date'].apply(lambda x: x.week)\n",
    "df['Day'] = df['Date'].apply(lambda x: x.day)"
   ]
  },
  {
   "cell_type": "code",
   "execution_count": 55,
   "id": "93e049e8",
   "metadata": {},
   "outputs": [],
   "source": [
    "df['Quarter'] = df['Quarter'].replace(1,\"Q1\")\n",
    "df['Quarter'] = df['Quarter'].replace(2,\"Q2\")\n",
    "df['Quarter'] = df['Quarter'].replace(3,\"Q3\")\n",
    "df['Quarter'] = df['Quarter'].replace(4,\"Q4\")"
   ]
  },
  {
   "cell_type": "code",
   "execution_count": 56,
   "id": "693eb508",
   "metadata": {},
   "outputs": [
    {
     "data": {
      "text/html": [
       "<div>\n",
       "<style scoped>\n",
       "    .dataframe tbody tr th:only-of-type {\n",
       "        vertical-align: middle;\n",
       "    }\n",
       "\n",
       "    .dataframe tbody tr th {\n",
       "        vertical-align: top;\n",
       "    }\n",
       "\n",
       "    .dataframe thead th {\n",
       "        text-align: right;\n",
       "    }\n",
       "</style>\n",
       "<table border=\"1\" class=\"dataframe\">\n",
       "  <thead>\n",
       "    <tr style=\"text-align: right;\">\n",
       "      <th></th>\n",
       "      <th>City</th>\n",
       "      <th>Customer type</th>\n",
       "      <th>Gender</th>\n",
       "      <th>Product line</th>\n",
       "      <th>Unit price</th>\n",
       "      <th>Quantity</th>\n",
       "      <th>Gross income</th>\n",
       "      <th>Total</th>\n",
       "      <th>Date</th>\n",
       "      <th>Payment</th>\n",
       "      <th>Cost of goods sold</th>\n",
       "      <th>Rating</th>\n",
       "      <th>Quarter</th>\n",
       "      <th>Year</th>\n",
       "      <th>Month</th>\n",
       "      <th>Week</th>\n",
       "      <th>Day</th>\n",
       "    </tr>\n",
       "  </thead>\n",
       "  <tbody>\n",
       "    <tr>\n",
       "      <th>0</th>\n",
       "      <td>Yangon</td>\n",
       "      <td>Member</td>\n",
       "      <td>Female</td>\n",
       "      <td>Health and beauty</td>\n",
       "      <td>74.7</td>\n",
       "      <td>7.0</td>\n",
       "      <td>26.1</td>\n",
       "      <td>549.0</td>\n",
       "      <td>2019-01-05</td>\n",
       "      <td>Ewallet</td>\n",
       "      <td>522.8</td>\n",
       "      <td>9.1</td>\n",
       "      <td>Q1</td>\n",
       "      <td>2019</td>\n",
       "      <td>1</td>\n",
       "      <td>1</td>\n",
       "      <td>5</td>\n",
       "    </tr>\n",
       "    <tr>\n",
       "      <th>1</th>\n",
       "      <td>Naypyitaw</td>\n",
       "      <td>Normal</td>\n",
       "      <td>Female</td>\n",
       "      <td>Electronic accessories</td>\n",
       "      <td>15.3</td>\n",
       "      <td>5.0</td>\n",
       "      <td>3.8</td>\n",
       "      <td>80.2</td>\n",
       "      <td>2019-03-08</td>\n",
       "      <td>Cash</td>\n",
       "      <td>76.4</td>\n",
       "      <td>9.6</td>\n",
       "      <td>Q1</td>\n",
       "      <td>2019</td>\n",
       "      <td>3</td>\n",
       "      <td>10</td>\n",
       "      <td>8</td>\n",
       "    </tr>\n",
       "    <tr>\n",
       "      <th>2</th>\n",
       "      <td>Yangon</td>\n",
       "      <td>Normal</td>\n",
       "      <td>Male</td>\n",
       "      <td>Home and lifestyle</td>\n",
       "      <td>46.3</td>\n",
       "      <td>7.0</td>\n",
       "      <td>16.2</td>\n",
       "      <td>340.5</td>\n",
       "      <td>2019-03-03</td>\n",
       "      <td>Credit card</td>\n",
       "      <td>324.3</td>\n",
       "      <td>7.4</td>\n",
       "      <td>Q1</td>\n",
       "      <td>2019</td>\n",
       "      <td>3</td>\n",
       "      <td>9</td>\n",
       "      <td>3</td>\n",
       "    </tr>\n",
       "    <tr>\n",
       "      <th>3</th>\n",
       "      <td>Yangon</td>\n",
       "      <td>Member</td>\n",
       "      <td>Male</td>\n",
       "      <td>Health and beauty</td>\n",
       "      <td>58.2</td>\n",
       "      <td>8.0</td>\n",
       "      <td>23.3</td>\n",
       "      <td>489.0</td>\n",
       "      <td>2019-01-27</td>\n",
       "      <td>Ewallet</td>\n",
       "      <td>465.8</td>\n",
       "      <td>8.4</td>\n",
       "      <td>Q1</td>\n",
       "      <td>2019</td>\n",
       "      <td>1</td>\n",
       "      <td>4</td>\n",
       "      <td>27</td>\n",
       "    </tr>\n",
       "    <tr>\n",
       "      <th>4</th>\n",
       "      <td>Yangon</td>\n",
       "      <td>Normal</td>\n",
       "      <td>Male</td>\n",
       "      <td>Sports and travel</td>\n",
       "      <td>86.3</td>\n",
       "      <td>7.0</td>\n",
       "      <td>30.2</td>\n",
       "      <td>634.4</td>\n",
       "      <td>2019-02-08</td>\n",
       "      <td>Ewallet</td>\n",
       "      <td>604.2</td>\n",
       "      <td>5.3</td>\n",
       "      <td>Q1</td>\n",
       "      <td>2019</td>\n",
       "      <td>2</td>\n",
       "      <td>6</td>\n",
       "      <td>8</td>\n",
       "    </tr>\n",
       "  </tbody>\n",
       "</table>\n",
       "</div>"
      ],
      "text/plain": [
       "        City Customer type  Gender            Product line  Unit price  \\\n",
       "0     Yangon        Member  Female       Health and beauty        74.7   \n",
       "1  Naypyitaw        Normal  Female  Electronic accessories        15.3   \n",
       "2     Yangon        Normal    Male      Home and lifestyle        46.3   \n",
       "3     Yangon        Member    Male       Health and beauty        58.2   \n",
       "4     Yangon        Normal    Male       Sports and travel        86.3   \n",
       "\n",
       "   Quantity  Gross income  Total       Date      Payment  Cost of goods sold  \\\n",
       "0       7.0          26.1  549.0 2019-01-05      Ewallet               522.8   \n",
       "1       5.0           3.8   80.2 2019-03-08         Cash                76.4   \n",
       "2       7.0          16.2  340.5 2019-03-03  Credit card               324.3   \n",
       "3       8.0          23.3  489.0 2019-01-27      Ewallet               465.8   \n",
       "4       7.0          30.2  634.4 2019-02-08      Ewallet               604.2   \n",
       "\n",
       "   Rating Quarter  Year  Month  Week  Day  \n",
       "0     9.1      Q1  2019      1     1    5  \n",
       "1     9.6      Q1  2019      3    10    8  \n",
       "2     7.4      Q1  2019      3     9    3  \n",
       "3     8.4      Q1  2019      1     4   27  \n",
       "4     5.3      Q1  2019      2     6    8  "
      ]
     },
     "execution_count": 56,
     "metadata": {},
     "output_type": "execute_result"
    }
   ],
   "source": [
    "df.head()"
   ]
  },
  {
   "cell_type": "code",
   "execution_count": 57,
   "id": "5e784c50",
   "metadata": {},
   "outputs": [],
   "source": [
    "#df.to_csv('hello.csv')"
   ]
  },
  {
   "cell_type": "markdown",
   "id": "a87aff0a",
   "metadata": {},
   "source": [
    "# Outlier analysis and handling"
   ]
  },
  {
   "cell_type": "code",
   "execution_count": 58,
   "id": "04d9cda3",
   "metadata": {},
   "outputs": [
    {
     "data": {
      "text/html": [
       "<div>\n",
       "<style scoped>\n",
       "    .dataframe tbody tr th:only-of-type {\n",
       "        vertical-align: middle;\n",
       "    }\n",
       "\n",
       "    .dataframe tbody tr th {\n",
       "        vertical-align: top;\n",
       "    }\n",
       "\n",
       "    .dataframe thead th {\n",
       "        text-align: right;\n",
       "    }\n",
       "</style>\n",
       "<table border=\"1\" class=\"dataframe\">\n",
       "  <thead>\n",
       "    <tr style=\"text-align: right;\">\n",
       "      <th></th>\n",
       "      <th>City</th>\n",
       "      <th>Customer type</th>\n",
       "      <th>Gender</th>\n",
       "      <th>Product line</th>\n",
       "      <th>Unit price</th>\n",
       "      <th>Quantity</th>\n",
       "      <th>Gross income</th>\n",
       "      <th>Total</th>\n",
       "      <th>Date</th>\n",
       "      <th>Payment</th>\n",
       "      <th>Cost of goods sold</th>\n",
       "      <th>Rating</th>\n",
       "      <th>Quarter</th>\n",
       "      <th>Year</th>\n",
       "      <th>Month</th>\n",
       "      <th>Week</th>\n",
       "      <th>Day</th>\n",
       "    </tr>\n",
       "  </thead>\n",
       "  <tbody>\n",
       "    <tr>\n",
       "      <th>0</th>\n",
       "      <td>Yangon</td>\n",
       "      <td>Member</td>\n",
       "      <td>Female</td>\n",
       "      <td>Health and beauty</td>\n",
       "      <td>74.7</td>\n",
       "      <td>7.0</td>\n",
       "      <td>26.1</td>\n",
       "      <td>549.0</td>\n",
       "      <td>2019-01-05</td>\n",
       "      <td>Ewallet</td>\n",
       "      <td>522.8</td>\n",
       "      <td>9.1</td>\n",
       "      <td>Q1</td>\n",
       "      <td>2019</td>\n",
       "      <td>1</td>\n",
       "      <td>1</td>\n",
       "      <td>5</td>\n",
       "    </tr>\n",
       "    <tr>\n",
       "      <th>1</th>\n",
       "      <td>Naypyitaw</td>\n",
       "      <td>Normal</td>\n",
       "      <td>Female</td>\n",
       "      <td>Electronic accessories</td>\n",
       "      <td>15.3</td>\n",
       "      <td>5.0</td>\n",
       "      <td>3.8</td>\n",
       "      <td>80.2</td>\n",
       "      <td>2019-03-08</td>\n",
       "      <td>Cash</td>\n",
       "      <td>76.4</td>\n",
       "      <td>9.6</td>\n",
       "      <td>Q1</td>\n",
       "      <td>2019</td>\n",
       "      <td>3</td>\n",
       "      <td>10</td>\n",
       "      <td>8</td>\n",
       "    </tr>\n",
       "    <tr>\n",
       "      <th>2</th>\n",
       "      <td>Yangon</td>\n",
       "      <td>Normal</td>\n",
       "      <td>Male</td>\n",
       "      <td>Home and lifestyle</td>\n",
       "      <td>46.3</td>\n",
       "      <td>7.0</td>\n",
       "      <td>16.2</td>\n",
       "      <td>340.5</td>\n",
       "      <td>2019-03-03</td>\n",
       "      <td>Credit card</td>\n",
       "      <td>324.3</td>\n",
       "      <td>7.4</td>\n",
       "      <td>Q1</td>\n",
       "      <td>2019</td>\n",
       "      <td>3</td>\n",
       "      <td>9</td>\n",
       "      <td>3</td>\n",
       "    </tr>\n",
       "    <tr>\n",
       "      <th>3</th>\n",
       "      <td>Yangon</td>\n",
       "      <td>Member</td>\n",
       "      <td>Male</td>\n",
       "      <td>Health and beauty</td>\n",
       "      <td>58.2</td>\n",
       "      <td>8.0</td>\n",
       "      <td>23.3</td>\n",
       "      <td>489.0</td>\n",
       "      <td>2019-01-27</td>\n",
       "      <td>Ewallet</td>\n",
       "      <td>465.8</td>\n",
       "      <td>8.4</td>\n",
       "      <td>Q1</td>\n",
       "      <td>2019</td>\n",
       "      <td>1</td>\n",
       "      <td>4</td>\n",
       "      <td>27</td>\n",
       "    </tr>\n",
       "    <tr>\n",
       "      <th>4</th>\n",
       "      <td>Yangon</td>\n",
       "      <td>Normal</td>\n",
       "      <td>Male</td>\n",
       "      <td>Sports and travel</td>\n",
       "      <td>86.3</td>\n",
       "      <td>7.0</td>\n",
       "      <td>30.2</td>\n",
       "      <td>634.4</td>\n",
       "      <td>2019-02-08</td>\n",
       "      <td>Ewallet</td>\n",
       "      <td>604.2</td>\n",
       "      <td>5.3</td>\n",
       "      <td>Q1</td>\n",
       "      <td>2019</td>\n",
       "      <td>2</td>\n",
       "      <td>6</td>\n",
       "      <td>8</td>\n",
       "    </tr>\n",
       "  </tbody>\n",
       "</table>\n",
       "</div>"
      ],
      "text/plain": [
       "        City Customer type  Gender            Product line  Unit price  \\\n",
       "0     Yangon        Member  Female       Health and beauty        74.7   \n",
       "1  Naypyitaw        Normal  Female  Electronic accessories        15.3   \n",
       "2     Yangon        Normal    Male      Home and lifestyle        46.3   \n",
       "3     Yangon        Member    Male       Health and beauty        58.2   \n",
       "4     Yangon        Normal    Male       Sports and travel        86.3   \n",
       "\n",
       "   Quantity  Gross income  Total       Date      Payment  Cost of goods sold  \\\n",
       "0       7.0          26.1  549.0 2019-01-05      Ewallet               522.8   \n",
       "1       5.0           3.8   80.2 2019-03-08         Cash                76.4   \n",
       "2       7.0          16.2  340.5 2019-03-03  Credit card               324.3   \n",
       "3       8.0          23.3  489.0 2019-01-27      Ewallet               465.8   \n",
       "4       7.0          30.2  634.4 2019-02-08      Ewallet               604.2   \n",
       "\n",
       "   Rating Quarter  Year  Month  Week  Day  \n",
       "0     9.1      Q1  2019      1     1    5  \n",
       "1     9.6      Q1  2019      3    10    8  \n",
       "2     7.4      Q1  2019      3     9    3  \n",
       "3     8.4      Q1  2019      1     4   27  \n",
       "4     5.3      Q1  2019      2     6    8  "
      ]
     },
     "execution_count": 58,
     "metadata": {},
     "output_type": "execute_result"
    }
   ],
   "source": [
    "df.head()"
   ]
  },
  {
   "cell_type": "code",
   "execution_count": 59,
   "id": "f7a907a8",
   "metadata": {},
   "outputs": [
    {
     "name": "stdout",
     "output_type": "stream",
     "text": [
      "['Unit price', 'Quantity', 'Gross income', 'Total', 'Cost of goods sold', 'Rating']\n",
      "['Unit price', 'Quantity', 'Gross income', 'Total', 'Cost of goods sold', 'Rating']\n"
     ]
    }
   ],
   "source": [
    "def get_num_cols(df):\n",
    "    types_map = df.dtypes.to_dict()\n",
    "    num_columns = []\n",
    "    for k,v in types_map.items():\n",
    "        if np.issubdtype(np.float64, v):\n",
    "            num_columns.append(k)\n",
    "\n",
    "    print(num_columns)\n",
    "    return num_columns\n",
    "numeric = get_num_cols(df)\n",
    "print(numeric)"
   ]
  },
  {
   "cell_type": "code",
   "execution_count": 60,
   "id": "0f1afa0f",
   "metadata": {},
   "outputs": [],
   "source": [
    "def box_plots(numeric, df):\n",
    "    for i in range(len(numeric)-1):\n",
    "        plt.figure(figsize=(10, 5), dpi = 100)\n",
    "        sns.boxplot(x = df[numeric[i]])\n",
    "# Distribution plots\n",
    "def dis_plots(numeric, df): \n",
    "    for i in range(len(numeric)-1):\n",
    "        plt.figure(figsize=(10, 5), dpi = 100)\n",
    "        sns.scatterplot(x = df[numeric[i]])"
   ]
  },
  {
   "cell_type": "code",
   "execution_count": 61,
   "id": "fe34f88e",
   "metadata": {},
   "outputs": [
    {
     "data": {
      "image/png": "[encoded data removed]",
      "text/plain": [
       "<Figure size 1000x500 with 1 Axes>"
      ]
     },
     "metadata": {
      "needs_background": "light"
     },
     "output_type": "display_data"
    },
    {
     "data": {
      "image/png": "[encoded data removed]",
      "text/plain": [
       "<Figure size 1000x500 with 1 Axes>"
      ]
     },
     "metadata": {
      "needs_background": "light"
     },
     "output_type": "display_data"
    },
    {
     "data": {
      "image/png": "[encoded data removed]",
      "text/plain": [
       "<Figure size 1000x500 with 1 Axes>"
      ]
     },
     "metadata": {
      "needs_background": "light"
     },
     "output_type": "display_data"
    },
    {
     "data": {
      "image/png": "[encoded data removed]",
      "text/plain": [
       "<Figure size 1000x500 with 1 Axes>"
      ]
     },
     "metadata": {
      "needs_background": "light"
     },
     "output_type": "display_data"
    },
    {
     "data": {
      "image/png": "[encoded data removed]",
      "text/plain": [
       "<Figure size 1000x500 with 1 Axes>"
      ]
     },
     "metadata": {
      "needs_background": "light"
     },
     "output_type": "display_data"
    },
    {
     "data": {
      "image/png": "[encoded data removed]",
      "text/plain": [
       "<Figure size 1000x500 with 1 Axes>"
      ]
     },
     "metadata": {
      "needs_background": "light"
     },
     "output_type": "display_data"
    },
    {
     "data": {
      "image/png": "[encoded data removed]",
      "text/plain": [
       "<Figure size 1000x500 with 1 Axes>"
      ]
     },
     "metadata": {
      "needs_background": "light"
     },
     "output_type": "display_data"
    },
    {
     "data": {
      "image/png": "[encoded data removed]",
      "text/plain": [
       "<Figure size 1000x500 with 1 Axes>"
      ]
     },
     "metadata": {
      "needs_background": "light"
     },
     "output_type": "display_data"
    },
    {
     "data": {
      "image/png": "[encoded data removed]",
      "text/plain": [
       "<Figure size 1000x500 with 1 Axes>"
      ]
     },
     "metadata": {
      "needs_background": "light"
     },
     "output_type": "display_data"
    },
    {
     "data": {
      "image/png": "[encoded data removed]",
      "text/plain": [
       "<Figure size 1000x500 with 1 Axes>"
      ]
     },
     "metadata": {
      "needs_background": "light"
     },
     "output_type": "display_data"
    }
   ],
   "source": [
    "box_plots(numeric,df)\n",
    "dis_plots(numeric,df)"
   ]
  },
  {
   "cell_type": "code",
   "execution_count": 62,
   "id": "111850f9",
   "metadata": {},
   "outputs": [
    {
     "data": {
      "text/plain": [
       "19     12121555.0\n",
       "18        12234.0\n",
       "350        1042.6\n",
       "167        1039.3\n",
       "557        1034.5\n",
       "699        1023.8\n",
       "996        1022.5\n",
       "792        1022.4\n",
       "422        1020.7\n",
       "166        1003.6\n",
       "Name: Total, dtype: float64"
      ]
     },
     "execution_count": 62,
     "metadata": {},
     "output_type": "execute_result"
    }
   ],
   "source": [
    "#To fix the plot of 'Total'\n",
    "df['Total'].nlargest(10)\n",
    "#df.head()"
   ]
  },
  {
   "cell_type": "code",
   "execution_count": 63,
   "id": "ab8dd2a5",
   "metadata": {},
   "outputs": [
    {
     "data": {
      "text/html": [
       "<div>\n",
       "<style scoped>\n",
       "    .dataframe tbody tr th:only-of-type {\n",
       "        vertical-align: middle;\n",
       "    }\n",
       "\n",
       "    .dataframe tbody tr th {\n",
       "        vertical-align: top;\n",
       "    }\n",
       "\n",
       "    .dataframe thead th {\n",
       "        text-align: right;\n",
       "    }\n",
       "</style>\n",
       "<table border=\"1\" class=\"dataframe\">\n",
       "  <thead>\n",
       "    <tr style=\"text-align: right;\">\n",
       "      <th></th>\n",
       "      <th>City</th>\n",
       "      <th>Customer type</th>\n",
       "      <th>Gender</th>\n",
       "      <th>Product line</th>\n",
       "      <th>Unit price</th>\n",
       "      <th>Quantity</th>\n",
       "      <th>Gross income</th>\n",
       "      <th>Total</th>\n",
       "      <th>Date</th>\n",
       "      <th>Payment</th>\n",
       "      <th>Cost of goods sold</th>\n",
       "      <th>Rating</th>\n",
       "      <th>Quarter</th>\n",
       "      <th>Year</th>\n",
       "      <th>Month</th>\n",
       "      <th>Week</th>\n",
       "      <th>Day</th>\n",
       "    </tr>\n",
       "  </thead>\n",
       "  <tbody>\n",
       "    <tr>\n",
       "      <th>18</th>\n",
       "      <td>Yangon0</td>\n",
       "      <td>Normal</td>\n",
       "      <td>Male</td>\n",
       "      <td>Food and beverages</td>\n",
       "      <td>54.7</td>\n",
       "      <td>3.0</td>\n",
       "      <td>8.2</td>\n",
       "      <td>12234.0</td>\n",
       "      <td>2019-01-21</td>\n",
       "      <td>Credit card</td>\n",
       "      <td>164.0</td>\n",
       "      <td>8.6</td>\n",
       "      <td>Q1</td>\n",
       "      <td>2019</td>\n",
       "      <td>1</td>\n",
       "      <td>4</td>\n",
       "      <td>21</td>\n",
       "    </tr>\n",
       "    <tr>\n",
       "      <th>19</th>\n",
       "      <td>Mandalay</td>\n",
       "      <td>Normal</td>\n",
       "      <td>Female</td>\n",
       "      <td>Home and lifestyle</td>\n",
       "      <td>40.3</td>\n",
       "      <td>2.0</td>\n",
       "      <td>4.0</td>\n",
       "      <td>12121555.0</td>\n",
       "      <td>2019-03-11</td>\n",
       "      <td>Ewallet</td>\n",
       "      <td>80.6</td>\n",
       "      <td>4.4</td>\n",
       "      <td>Q1</td>\n",
       "      <td>2019</td>\n",
       "      <td>3</td>\n",
       "      <td>11</td>\n",
       "      <td>11</td>\n",
       "    </tr>\n",
       "  </tbody>\n",
       "</table>\n",
       "</div>"
      ],
      "text/plain": [
       "        City Customer type  Gender        Product line  Unit price  Quantity  \\\n",
       "18   Yangon0        Normal    Male  Food and beverages        54.7       3.0   \n",
       "19  Mandalay        Normal  Female  Home and lifestyle        40.3       2.0   \n",
       "\n",
       "    Gross income       Total       Date      Payment  Cost of goods sold  \\\n",
       "18           8.2     12234.0 2019-01-21  Credit card               164.0   \n",
       "19           4.0  12121555.0 2019-03-11      Ewallet                80.6   \n",
       "\n",
       "    Rating Quarter  Year  Month  Week  Day  \n",
       "18     8.6      Q1  2019      1     4   21  \n",
       "19     4.4      Q1  2019      3    11   11  "
      ]
     },
     "execution_count": 63,
     "metadata": {},
     "output_type": "execute_result"
    }
   ],
   "source": [
    "df.loc[(df['Total']==12121555.0) | (df['Total'] == 12234.0)]"
   ]
  },
  {
   "cell_type": "code",
   "execution_count": 64,
   "id": "9ba53d99",
   "metadata": {},
   "outputs": [],
   "source": [
    "df.loc[18,'Total']=(df.loc[18,'Unit price']*df.loc[18,'Quantity'])+df.loc[18,'Gross income']\n",
    "df.loc[19,'Total']=(df.loc[19,'Unit price']*df.loc[19,'Quantity'])+df.loc[19,'Gross income']"
   ]
  },
  {
   "cell_type": "code",
   "execution_count": 65,
   "id": "445ba565",
   "metadata": {},
   "outputs": [],
   "source": [
    "df['Cost of goods sold'].mask(df['Cost of goods sold'] > 5000, np.nan, inplace=True)\n",
    "for index in cost:\n",
    "    df.loc[index,'Cost of goods sold'] = ((df.loc[index,'Total'])*(df.loc[index,'Gross income']))"
   ]
  },
  {
   "cell_type": "code",
   "execution_count": 66,
   "id": "cf78b5f7",
   "metadata": {},
   "outputs": [
    {
     "data": {
      "text/html": [
       "<div>\n",
       "<style scoped>\n",
       "    .dataframe tbody tr th:only-of-type {\n",
       "        vertical-align: middle;\n",
       "    }\n",
       "\n",
       "    .dataframe tbody tr th {\n",
       "        vertical-align: top;\n",
       "    }\n",
       "\n",
       "    .dataframe thead th {\n",
       "        text-align: right;\n",
       "    }\n",
       "</style>\n",
       "<table border=\"1\" class=\"dataframe\">\n",
       "  <thead>\n",
       "    <tr style=\"text-align: right;\">\n",
       "      <th></th>\n",
       "      <th>count</th>\n",
       "      <th>mean</th>\n",
       "      <th>std</th>\n",
       "      <th>min</th>\n",
       "      <th>25%</th>\n",
       "      <th>50%</th>\n",
       "      <th>75%</th>\n",
       "      <th>max</th>\n",
       "    </tr>\n",
       "  </thead>\n",
       "  <tbody>\n",
       "    <tr>\n",
       "      <th>Unit price</th>\n",
       "      <td>1000.0</td>\n",
       "      <td>55.69680</td>\n",
       "      <td>26.502803</td>\n",
       "      <td>10.1</td>\n",
       "      <td>32.875</td>\n",
       "      <td>55.40</td>\n",
       "      <td>77.925</td>\n",
       "      <td>100.00</td>\n",
       "    </tr>\n",
       "    <tr>\n",
       "      <th>Quantity</th>\n",
       "      <td>1000.0</td>\n",
       "      <td>5.51240</td>\n",
       "      <td>2.925571</td>\n",
       "      <td>1.0</td>\n",
       "      <td>3.000</td>\n",
       "      <td>5.00</td>\n",
       "      <td>8.000</td>\n",
       "      <td>10.50</td>\n",
       "    </tr>\n",
       "    <tr>\n",
       "      <th>Gross income</th>\n",
       "      <td>1000.0</td>\n",
       "      <td>15.37900</td>\n",
       "      <td>11.709728</td>\n",
       "      <td>0.5</td>\n",
       "      <td>5.950</td>\n",
       "      <td>12.10</td>\n",
       "      <td>22.425</td>\n",
       "      <td>49.60</td>\n",
       "    </tr>\n",
       "    <tr>\n",
       "      <th>Total</th>\n",
       "      <td>1000.0</td>\n",
       "      <td>322.85360</td>\n",
       "      <td>245.841158</td>\n",
       "      <td>10.7</td>\n",
       "      <td>124.450</td>\n",
       "      <td>253.85</td>\n",
       "      <td>471.325</td>\n",
       "      <td>1042.60</td>\n",
       "    </tr>\n",
       "    <tr>\n",
       "      <th>Cost of goods sold</th>\n",
       "      <td>1000.0</td>\n",
       "      <td>359.07641</td>\n",
       "      <td>950.395951</td>\n",
       "      <td>10.2</td>\n",
       "      <td>119.650</td>\n",
       "      <td>243.60</td>\n",
       "      <td>454.500</td>\n",
       "      <td>24706.29</td>\n",
       "    </tr>\n",
       "    <tr>\n",
       "      <th>Rating</th>\n",
       "      <td>1000.0</td>\n",
       "      <td>6.96880</td>\n",
       "      <td>1.711016</td>\n",
       "      <td>4.0</td>\n",
       "      <td>5.500</td>\n",
       "      <td>7.00</td>\n",
       "      <td>8.400</td>\n",
       "      <td>10.00</td>\n",
       "    </tr>\n",
       "    <tr>\n",
       "      <th>Year</th>\n",
       "      <td>1000.0</td>\n",
       "      <td>2018.87900</td>\n",
       "      <td>3.763313</td>\n",
       "      <td>1900.0</td>\n",
       "      <td>2019.000</td>\n",
       "      <td>2019.00</td>\n",
       "      <td>2019.000</td>\n",
       "      <td>2019.00</td>\n",
       "    </tr>\n",
       "    <tr>\n",
       "      <th>Month</th>\n",
       "      <td>1000.0</td>\n",
       "      <td>1.99300</td>\n",
       "      <td>0.835254</td>\n",
       "      <td>1.0</td>\n",
       "      <td>1.000</td>\n",
       "      <td>2.00</td>\n",
       "      <td>3.000</td>\n",
       "      <td>3.00</td>\n",
       "    </tr>\n",
       "    <tr>\n",
       "      <th>Week</th>\n",
       "      <td>1000.0</td>\n",
       "      <td>6.99700</td>\n",
       "      <td>3.597768</td>\n",
       "      <td>1.0</td>\n",
       "      <td>4.000</td>\n",
       "      <td>7.00</td>\n",
       "      <td>10.000</td>\n",
       "      <td>13.00</td>\n",
       "    </tr>\n",
       "    <tr>\n",
       "      <th>Day</th>\n",
       "      <td>1000.0</td>\n",
       "      <td>15.25700</td>\n",
       "      <td>8.689676</td>\n",
       "      <td>1.0</td>\n",
       "      <td>8.000</td>\n",
       "      <td>15.00</td>\n",
       "      <td>23.000</td>\n",
       "      <td>31.00</td>\n",
       "    </tr>\n",
       "  </tbody>\n",
       "</table>\n",
       "</div>"
      ],
      "text/plain": [
       "                     count        mean         std     min       25%      50%  \\\n",
       "Unit price          1000.0    55.69680   26.502803    10.1    32.875    55.40   \n",
       "Quantity            1000.0     5.51240    2.925571     1.0     3.000     5.00   \n",
       "Gross income        1000.0    15.37900   11.709728     0.5     5.950    12.10   \n",
       "Total               1000.0   322.85360  245.841158    10.7   124.450   253.85   \n",
       "Cost of goods sold  1000.0   359.07641  950.395951    10.2   119.650   243.60   \n",
       "Rating              1000.0     6.96880    1.711016     4.0     5.500     7.00   \n",
       "Year                1000.0  2018.87900    3.763313  1900.0  2019.000  2019.00   \n",
       "Month               1000.0     1.99300    0.835254     1.0     1.000     2.00   \n",
       "Week                1000.0     6.99700    3.597768     1.0     4.000     7.00   \n",
       "Day                 1000.0    15.25700    8.689676     1.0     8.000    15.00   \n",
       "\n",
       "                         75%       max  \n",
       "Unit price            77.925    100.00  \n",
       "Quantity               8.000     10.50  \n",
       "Gross income          22.425     49.60  \n",
       "Total                471.325   1042.60  \n",
       "Cost of goods sold   454.500  24706.29  \n",
       "Rating                 8.400     10.00  \n",
       "Year                2019.000   2019.00  \n",
       "Month                  3.000      3.00  \n",
       "Week                  10.000     13.00  \n",
       "Day                   23.000     31.00  "
      ]
     },
     "execution_count": 66,
     "metadata": {},
     "output_type": "execute_result"
    }
   ],
   "source": [
    "#describe the data\n",
    "df.describe().T"
   ]
  },
  {
   "cell_type": "markdown",
   "id": "c6e141f0",
   "metadata": {},
   "source": [
    "# Inferential Testing"
   ]
  },
  {
   "cell_type": "code",
   "execution_count": 67,
   "id": "cda5b251",
   "metadata": {},
   "outputs": [],
   "source": [
    "# T-Test\n",
    "\n",
    "def get_num_cols(df):\n",
    "    types_map = df.dtypes.to_dict()\n",
    "    num_columns = []\n",
    "    for k,v in types_map.items():\n",
    "        if np.issubdtype(np.int64, v) or np.issubdtype(np.float64, v):\n",
    "            num_columns.append(k)\n",
    "\n",
    "    print(num_columns)\n",
    "    return num_columns\n",
    "\n",
    "def t_test(df):\n",
    "    num_columns = get_num_cols(df)\n",
    "    for i in range(len(num_columns)-1):\n",
    "        print(\"\\n --------\"+num_columns[i]+\"--------\")\n",
    "        for j in range(i+1,len(num_columns)):\n",
    "            col1 = num_columns[i]\n",
    "            col2 = num_columns[j]\n",
    "            t_val, p_val = stats.ttest_ind(df[col1], df[col2])\n",
    "            print(\"(%s,%s) => t-value=%s, p-value=%s\" % (num_columns[i], num_columns[j], str(t_val), str(p_val)))\n",
    "            # interpret p-value\n",
    "            alpha = 0.05\n",
    "            #print('significance=%.3f, p=%.3f' % (alpha, p_val))\n",
    "            if p_val <= alpha:\n",
    "                print('Dependent (reject H0)')\n",
    "            else:\n",
    "                print('Independent (fail to reject H0)')\n"
   ]
  },
  {
   "cell_type": "code",
   "execution_count": 68,
   "id": "4aac1b8f",
   "metadata": {},
   "outputs": [
    {
     "name": "stdout",
     "output_type": "stream",
     "text": [
      "['Unit price', 'Quantity', 'Gross income', 'Total', 'Cost of goods sold', 'Rating', 'Year', 'Month', 'Week', 'Day']\n",
      "\n",
      " --------Unit price--------\n",
      "(Unit price,Quantity) => t-value=59.517804959993654, p-value=0.0\n",
      "Dependent (reject H0)\n",
      "(Unit price,Gross income) => t-value=44.00299716270787, p-value=2.701426770786654e-296\n",
      "Dependent (reject H0)\n",
      "(Unit price,Total) => t-value=-34.16666144659759, p-value=6.917104188349407e-202\n",
      "Dependent (reject H0)\n",
      "(Unit price,Cost of goods sold) => t-value=-10.090507657396776, p-value=2.1875045073686412e-23\n",
      "Dependent (reject H0)\n",
      "(Unit price,Rating) => t-value=58.02078441836576, p-value=0.0\n",
      "Dependent (reject H0)\n",
      "(Unit price,Year) => t-value=-2319.177541933909, p-value=0.0\n",
      "Dependent (reject H0)\n",
      "(Unit price,Month) => t-value=64.04682955930735, p-value=0.0\n",
      "Dependent (reject H0)\n",
      "(Unit price,Week) => t-value=57.579801397738905, p-value=0.0\n",
      "Dependent (reject H0)\n",
      "(Unit price,Day) => t-value=45.850554550150214, p-value=3.09980318e-314\n",
      "Dependent (reject H0)\n",
      "\n",
      " --------Quantity--------\n",
      "(Quantity,Gross income) => t-value=-25.850709756823164, p-value=2.343389335713135e-127\n",
      "Dependent (reject H0)\n",
      "(Quantity,Total) => t-value=-40.817003394356334, p-value=2.1016348965305547e-265\n",
      "Dependent (reject H0)\n",
      "(Quantity,Cost of goods sold) => t-value=-11.764173366901655, p-value=6.104453351951146e-31\n",
      "Dependent (reject H0)\n",
      "(Quantity,Rating) => t-value=-13.588955239041736, p-value=2.7128142075939174e-40\n",
      "Dependent (reject H0)\n",
      "(Quantity,Year) => t-value=-13356.86348552049, p-value=0.0\n",
      "Dependent (reject H0)\n",
      "(Quantity,Month) => t-value=36.57990355466565, p-value=1.0717505269796503e-224\n",
      "Dependent (reject H0)\n",
      "(Quantity,Week) => t-value=-10.124205158576666, p-value=1.5771616116297702e-23\n",
      "Dependent (reject H0)\n",
      "(Quantity,Day) => t-value=-33.60817840334412, p-value=1.1582090686405338e-196\n",
      "Dependent (reject H0)\n",
      "\n",
      " --------Gross income--------\n",
      "(Gross income,Total) => t-value=-39.50595458189576, p-value=9.607345719384268e-253\n",
      "Dependent (reject H0)\n",
      "(Gross income,Cost of goods sold) => t-value=-11.435067190330635, p-value=2.2403430604548154e-29\n",
      "Dependent (reject H0)\n",
      "(Gross income,Rating) => t-value=22.473568486674715, p-value=6.609589852617601e-100\n",
      "Dependent (reject H0)\n",
      "(Gross income,Year) => t-value=-5151.079090350513, p-value=0.0\n",
      "Dependent (reject H0)\n",
      "(Gross income,Month) => t-value=36.05802775818425, p-value=9.817920228650981e-220\n",
      "Dependent (reject H0)\n",
      "(Gross income,Week) => t-value=21.637783268167457, p-value=1.867260086437438e-93\n",
      "Dependent (reject H0)\n",
      "(Gross income,Day) => t-value=0.26457536331326964, p-value=0.7913638902746399\n",
      "Independent (fail to reject H0)\n",
      "\n",
      " --------Total--------\n",
      "(Total,Cost of goods sold) => t-value=-1.166845580172731, p-value=0.24341198144119347\n",
      "Independent (fail to reject H0)\n",
      "(Total,Rating) => t-value=40.63157130287287, p-value=1.3052987970930628e-263\n",
      "Dependent (reject H0)\n",
      "(Total,Year) => t-value=-218.1357667299344, p-value=0.0\n",
      "Dependent (reject H0)\n",
      "(Total,Month) => t-value=41.27235894573845, p-value=8.245163296271434e-270\n",
      "Dependent (reject H0)\n",
      "(Total,Week) => t-value=40.62457794813283, p-value=1.525182494123774e-263\n",
      "Dependent (reject H0)\n",
      "(Total,Day) => t-value=39.541742693746244, p-value=4.341377892186478e-253\n",
      "Dependent (reject H0)\n",
      "\n",
      " --------Cost of goods sold--------\n",
      "(Cost of goods sold,Rating) => t-value=11.715750933963916, p-value=1.0429228633097326e-30\n",
      "Dependent (reject H0)\n",
      "(Cost of goods sold,Year) => t-value=-55.22661895524395, p-value=0.0\n",
      "Dependent (reject H0)\n",
      "(Cost of goods sold,Month) => t-value=11.881326445230979, p-value=1.6576262439457663e-31\n",
      "Dependent (reject H0)\n",
      "(Cost of goods sold,Week) => t-value=11.714747676115676, p-value=1.0545394044973166e-30\n",
      "Dependent (reject H0)\n",
      "(Cost of goods sold,Day) => t-value=11.439516290119405, p-value=2.135094304467597e-29\n",
      "Dependent (reject H0)\n",
      "\n",
      " --------Rating--------\n",
      "(Rating,Year) => t-value=-15389.919410990862, p-value=0.0\n",
      "Dependent (reject H0)\n",
      "(Rating,Month) => t-value=82.64100032308784, p-value=0.0\n",
      "Dependent (reject H0)\n",
      "(Rating,Week) => t-value=-0.22384118563885735, p-value=0.8229037663605584\n",
      "Independent (fail to reject H0)\n",
      "(Rating,Day) => t-value=-29.59353653508014, p-value=6.446729261535572e-160\n",
      "Dependent (reject H0)\n",
      "\n",
      " --------Year--------\n",
      "(Year,Month) => t-value=16545.102422422417, p-value=0.0\n",
      "Dependent (reject H0)\n",
      "(Year,Week) => t-value=12219.857217297847, p-value=0.0\n",
      "Dependent (reject H0)\n",
      "(Year,Day) => t-value=6690.906842162693, p-value=0.0\n",
      "Dependent (reject H0)\n",
      "\n",
      " --------Month--------\n",
      "(Month,Week) => t-value=-42.84349650470697, p-value=4.863025478729823e-285\n",
      "Dependent (reject H0)\n",
      "(Month,Day) => t-value=-48.04784539057102, p-value=0.0\n",
      "Dependent (reject H0)\n",
      "\n",
      " --------Week--------\n",
      "(Week,Day) => t-value=-27.772842782149667, p-value=7.780766158646428e-144\n",
      "Dependent (reject H0)\n"
     ]
    }
   ],
   "source": [
    "t_test(df)"
   ]
  },
  {
   "cell_type": "code",
   "execution_count": 69,
   "id": "eef12666",
   "metadata": {},
   "outputs": [],
   "source": [
    "from scipy.stats import chi2_contingency\n",
    "from scipy.stats import chi2\n",
    "\n",
    "def chi_square_test(cat_cols, df):\n",
    "    for i in range(len(cat_cols)-1):\n",
    "        print(\"\\n\\t --------\"+cat_cols[i]+\"--------\")\n",
    "        for j in range(i+1,len(cat_cols)):\n",
    "            cat_var1 = cat_cols[i]\n",
    "            cat_var2 = cat_cols[j]\n",
    "            data_crosstab = pd.crosstab(df[cat_var1], df[cat_var2], margins = False) \n",
    "            print(data_crosstab) \n",
    "\n",
    "            stat, p, dof, expected = chi2_contingency(data_crosstab)\n",
    "            print('dof=%d' % dof)\n",
    "            print(expected)\n",
    "\n",
    "    # interpret p-value\n",
    "            alpha = 0.05\n",
    "            print('significance=%.3f, p=%.3f' % (alpha, p))\n",
    "            if p <= alpha:\n",
    "                print('Dependent (reject H0)')\n",
    "            else:\n",
    "                print('Independent (fail to reject H0)')\n",
    "            print(\"\\n\")"
   ]
  },
  {
   "cell_type": "code",
   "execution_count": 70,
   "id": "4b96e30d",
   "metadata": {},
   "outputs": [],
   "source": [
    "import statsmodels.api as sm\n",
    "from statsmodels.formula.api import ols\n",
    "\n",
    "def anova_test(num_cols, cat_cols, df):\n",
    "    for i in range(len(num_cols)-1):   \n",
    "        num_col = num_cols[i]\n",
    "        for j in range(len(cat_cols)-1):\n",
    "            cat_col = cat_cols[j]\n",
    "            mod = ols(num_col+\" ~ \"+cat_col,data=df).fit()\n",
    "            aov_table=sm.stats.anova_lm(mod, typ=2)\n",
    "            print (\"\\nANOVA => \"+num_col+\" - \"+cat_col)\n",
    "            print(aov_table)\n",
    "            print()"
   ]
  },
  {
   "cell_type": "code",
   "execution_count": 71,
   "id": "e87658db",
   "metadata": {},
   "outputs": [],
   "source": [
    "from statsmodels.stats.multicomp import pairwise_tukeyhsd\n",
    "\n",
    "\n",
    "def tukeyhsd_test(num_cols, cat_cols, df):\n",
    "    for i in range(len(num_cols)-1):\n",
    "        num_var = num_cols[i]\n",
    "        print(\"\\t-------------\"+num_var+\"-------------\")\n",
    "        for j in range(len(cat_cols)-1):\n",
    "            cat_var = cat_cols[j]\n",
    "            tukey = pairwise_tukeyhsd(endog=df[num_var], groups=df[cat_var], alpha=0.05)\n",
    "            #display results\n",
    "            \n",
    "            print(cat_var)\n",
    "            print(tukey)\n",
    "            print()"
   ]
  },
  {
   "cell_type": "markdown",
   "id": "02d53efe",
   "metadata": {},
   "source": [
    "# BI and EDA"
   ]
  },
  {
   "cell_type": "code",
   "execution_count": 72,
   "id": "5ff90852",
   "metadata": {},
   "outputs": [
    {
     "data": {
      "text/plain": [
       "'Electronic a'"
      ]
     },
     "execution_count": 72,
     "metadata": {},
     "output_type": "execute_result"
    }
   ],
   "source": [
    "#Product line which generate highest average gross income\n",
    "df.groupby('Product line')['Gross income'].mean().idxmax()"
   ]
  },
  {
   "cell_type": "code",
   "execution_count": 73,
   "id": "30152cc2",
   "metadata": {},
   "outputs": [
    {
     "name": "stdout",
     "output_type": "stream",
     "text": [
      "Product line  Fashion accessories  Total:  1042.6\n"
     ]
    }
   ],
   "source": [
    "#product line with highest revenue\n",
    "print('Product line ', df.iloc[df['Total'].idxmax()]['Product line'], ' Total: ' ,df['Total'].max())"
   ]
  },
  {
   "cell_type": "code",
   "execution_count": 74,
   "id": "a8c677aa",
   "metadata": {},
   "outputs": [
    {
     "name": "stdout",
     "output_type": "stream",
     "text": [
      "Product line:  Fashion accessories\n",
      "Number of products:  179\n"
     ]
    }
   ],
   "source": [
    "#product line with highest quantity sold\n",
    "print('Product line: ', df.groupby('Product line')['Quantity'].count().idxmax())\n",
    "print('Number of products: ', df.groupby('Product line')['Quantity'].count().max())"
   ]
  },
  {
   "cell_type": "code",
   "execution_count": 75,
   "id": "4de3e525",
   "metadata": {},
   "outputs": [
    {
     "data": {
      "text/plain": [
       "335.98404040404046"
      ]
     },
     "execution_count": 75,
     "metadata": {},
     "output_type": "execute_result"
    }
   ],
   "source": [
    "#Mean total of female\n",
    "df[df['Gender'] == 'Female']['Total'].mean()"
   ]
  },
  {
   "cell_type": "code",
   "execution_count": 76,
   "id": "f27526db",
   "metadata": {},
   "outputs": [
    {
     "data": {
      "text/plain": [
       "2"
      ]
     },
     "execution_count": 76,
     "metadata": {},
     "output_type": "execute_result"
    }
   ],
   "source": [
    "df[df['Quantity'] > 10.0].shape[0]"
   ]
  },
  {
   "cell_type": "code",
   "execution_count": 77,
   "id": "96850409",
   "metadata": {},
   "outputs": [
    {
     "name": "stderr",
     "output_type": "stream",
     "text": [
      "C:\\Users\\Abdullah\\anaconda3\\lib\\site-packages\\seaborn\\_decorators.py:36: FutureWarning: Pass the following variable as a keyword arg: x. From version 0.12, the only valid positional argument will be `data`, and passing other arguments without an explicit keyword will result in an error or misinterpretation.\n",
      "  warnings.warn(\n"
     ]
    },
    {
     "data": {
      "text/plain": [
       "Text(0.5, 1.0, 'Count of each payment method')"
      ]
     },
     "execution_count": 77,
     "metadata": {},
     "output_type": "execute_result"
    },
    {
     "data": {
      "image/png": "[encoded data removed]",
      "text/plain": [
       "<Figure size 1000x200 with 1 Axes>"
      ]
     },
     "metadata": {
      "needs_background": "light"
     },
     "output_type": "display_data"
    }
   ],
   "source": [
    "plt.figure(figsize=(10, 2), dpi = 100)\n",
    "sns.countplot(df['Payment'])\n",
    "plt.title('Count of each payment method')"
   ]
  },
  {
   "cell_type": "code",
   "execution_count": 78,
   "id": "98b805c3",
   "metadata": {},
   "outputs": [
    {
     "data": {
      "text/plain": [
       "Text(0, 0.5, 'Average total')"
      ]
     },
     "execution_count": 78,
     "metadata": {},
     "output_type": "execute_result"
    },
    {
     "data": {
      "image/png": "[encoded data removed]",
      "text/plain": [
       "<Figure size 1000x200 with 1 Axes>"
      ]
     },
     "metadata": {
      "needs_background": "light"
     },
     "output_type": "display_data"
    }
   ],
   "source": [
    "plt.figure(figsize=(10, 2), dpi = 100)\n",
    "sns.barplot(x = df.groupby('Customer type')['Total'].mean().index, y = df.groupby('Customer type')['Total'].mean().values)\n",
    "plt.title('Customer type wise average total')\n",
    "plt.ylabel('Average total')"
   ]
  },
  {
   "cell_type": "code",
   "execution_count": 79,
   "id": "a82917fb",
   "metadata": {},
   "outputs": [
    {
     "data": {
      "text/plain": [
       "Text(0.5, 0, 'Average Cost')"
      ]
     },
     "execution_count": 79,
     "metadata": {},
     "output_type": "execute_result"
    },
    {
     "data": {
      "image/png": "[encoded data removed]",
      "text/plain": [
       "<Figure size 1500x1200 with 1 Axes>"
      ]
     },
     "metadata": {
      "needs_background": "light"
     },
     "output_type": "display_data"
    }
   ],
   "source": [
    "plt.figure(figsize=(15, 12), dpi = 100)\n",
    "sns.barplot(x = df.groupby('Product line')['Cost of goods sold'].mean().values, y = df.groupby('Product line')['Cost of goods sold'].mean().index)\n",
    "plt.title('Product line wise average Cost')\n",
    "plt.xlabel('Average Cost')"
   ]
  },
  {
   "cell_type": "code",
   "execution_count": null,
   "id": "93800e69",
   "metadata": {},
   "outputs": [],
   "source": []
  }
 ],
 "metadata": {
  "kernelspec": {
   "display_name": "Python 3 (ipykernel)",
   "language": "python",
   "name": "python3"
  },
  "language_info": {
   "codemirror_mode": {
    "name": "ipython",
    "version": 3
   },
   "file_extension": ".py",
   "mimetype": "text/x-python",
   "name": "python",
   "nbconvert_exporter": "python",
   "pygments_lexer": "ipython3",
   "version": "3.9.7"
  }
 },
 "nbformat": 4,
 "nbformat_minor": 5
}
