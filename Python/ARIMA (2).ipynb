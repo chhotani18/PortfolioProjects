{
 "cells": [
  {
   "cell_type": "code",
   "execution_count": 1,
   "id": "c69488ac",
   "metadata": {},
   "outputs": [
    {
     "name": "stdout",
     "output_type": "stream",
     "text": [
      "        agent_id                 time  longitude   latitude  regionID  \\\n",
      "0        5618978  2020-02-06T19-36-26  16.446863  48.232150   9220115   \n",
      "1        5135292  2020-02-06T07-24-57  16.503970  48.240581   9220106   \n",
      "2       11717588  2020-02-06T16-35-30  16.473968  48.275265   9210105   \n",
      "3        4881059  2020-02-06T14-49-18  16.391468  48.268397   9210118   \n",
      "4        6072788  2020-02-06T06-26-10  16.329754  48.218300   9170102   \n",
      "...          ...                  ...        ...        ...       ...   \n",
      "545577  55706095  2020-04-08T18-01-03  16.367782  48.240311   9200104   \n",
      "545578  60877065  2020-04-08T19-49-23  16.414874  48.182230   9110102   \n",
      "545579  60302078  2020-04-08T07-26-28  16.257932  48.152266   9230115   \n",
      "545580  52579909  2020-04-08T17-18-36  16.376934  48.197153   9030103   \n",
      "545581  64042507  2020-04-08T08-50-56  16.364595  48.193473   9040103   \n",
      "\n",
      "        recentContacts  age  isPositive  \n",
      "0                   19   67       False  \n",
      "1                  329   60       False  \n",
      "2                    2   62       False  \n",
      "3                   17   58       False  \n",
      "4                   71   75       False  \n",
      "...                ...  ...         ...  \n",
      "545577              22   55        True  \n",
      "545578              16   42        True  \n",
      "545579              84   36       False  \n",
      "545580              27   21        True  \n",
      "545581               7   80        True  \n",
      "\n",
      "[545582 rows x 8 columns]\n"
     ]
    }
   ],
   "source": [
    "import os\n",
    "import pandas as pd\n",
    "\n",
    "# Specify the directory where your CSV files are located\n",
    "folder_path = r'C:\\Users\\Abdullah\\Downloads\\Mahad'\n",
    "\n",
    "# Create an empty list to store DataFrames from each file\n",
    "dataframes = []\n",
    "\n",
    "# Loop through the files in the directory\n",
    "for filename in os.listdir(folder_path):\n",
    "    if filename.endswith(\".csv\"):  # You can adjust the file extension as needed\n",
    "        file_path = os.path.join(folder_path, filename)\n",
    "        try:\n",
    "            df = pd.read_csv(file_path)  # Read the CSV file into a DataFrame\n",
    "            dataframes.append(df)  # Append the DataFrame to the list\n",
    "        except Exception as e:\n",
    "            print(f\"Error reading {filename}: {e}\")\n",
    "\n",
    "if not dataframes:\n",
    "    print(\"No valid CSV files found in the directory.\")\n",
    "else:\n",
    "    # Concatenate all DataFrames into a single DataFrame\n",
    "    df = pd.concat(dataframes, ignore_index=True)\n",
    "    # Now, `combined_df` contains all the data from the CSV files in the folder.\n",
    "print(df)"
   ]
  },
  {
   "cell_type": "code",
   "execution_count": 2,
   "id": "af152bbf",
   "metadata": {},
   "outputs": [
    {
     "name": "stdout",
     "output_type": "stream",
     "text": [
      "            calls\n",
      "day              \n",
      "2020-02-06    655\n",
      "2020-02-07    687\n",
      "2020-02-08    672\n",
      "2020-02-09    717\n",
      "2020-02-10    683\n",
      "...           ...\n",
      "2020-04-04  37909\n",
      "2020-04-05  42918\n",
      "2020-04-06  48421\n",
      "2020-04-07  54581\n",
      "2020-04-08  61387\n",
      "\n",
      "[63 rows x 1 columns]\n"
     ]
    }
   ],
   "source": [
    "import pandas as pd\n",
    "\n",
    "# Ensure 'time' is in datetime format\n",
    "df['time'] = pd.to_datetime(df['time'], format='%Y-%m-%dT%H-%M-%S')\n",
    "\n",
    "# 1. Drop all columns except \"time\"\n",
    "df = df[['time']]\n",
    "\n",
    "df['day'] = df['time'].dt.strftime('%Y-%m-%d')\n",
    "df['day']=pd.to_datetime(df['day'])\n",
    "\n",
    "# 2. Group by \"month\" and count the rows, then reset the index\n",
    "df['calls'] = df.groupby('day')['day'].transform('count')\n",
    "\n",
    "\n",
    "df = df.drop('time', axis=1)\n",
    "df = df.drop_duplicates()\n",
    "# Reset the index\n",
    "df = df.reset_index(drop=True)\n",
    "# Print the resulting DataFrame and the number of contacts\n",
    "df.set_index('day',inplace=True)\n",
    "print(df)\n",
    "\n"
   ]
  },
  {
   "cell_type": "code",
   "execution_count": 3,
   "id": "63886abb",
   "metadata": {},
   "outputs": [
    {
     "data": {
      "text/plain": [
       "<AxesSubplot:xlabel='day'>"
      ]
     },
     "execution_count": 3,
     "metadata": {},
     "output_type": "execute_result"
    },
    {
     "data": {
      "image/png": "[encoded data removed]",
      "text/plain": [
       "<Figure size 432x288 with 1 Axes>"
      ]
     },
     "metadata": {
      "needs_background": "light"
     },
     "output_type": "display_data"
    }
   ],
   "source": [
    "# Import necessary libraries\n",
    "import pandas as pd\n",
    "import numpy as np\n",
    "import matplotlib.pyplot as plt\n",
    "from statsmodels.tsa.arima.model import ARIMA\n",
    "from statsmodels.tsa.stattools import adfuller\n",
    "from statsmodels.graphics.tsaplots import plot_acf, plot_pacf\n",
    "\n",
    "df.plot()\n"
   ]
  },
  {
   "cell_type": "code",
   "execution_count": 4,
   "id": "ae6c0ecc",
   "metadata": {},
   "outputs": [],
   "source": [
    "test_result=adfuller(df['calls'])"
   ]
  },
  {
   "cell_type": "code",
   "execution_count": 5,
   "id": "5f04dd73",
   "metadata": {},
   "outputs": [],
   "source": [
    "#Ho: It is non stationary\n",
    "#H1: It is stationary\n",
    "\n",
    "def adfuller_test(sales):\n",
    "    result=adfuller(sales)\n",
    "    labels = ['ADF Test Statistic','p-value','#Lags Used','Number of Observations Used']\n",
    "    for value,label in zip(result,labels):\n",
    "        print(label+' : '+str(value) )\n",
    "    if result[1] <= 0.05:\n",
    "        print(\"strong evidence against the null hypothesis(Ho), reject the null hypothesis. Data has no unit root and is stationary\")\n",
    "    else:\n",
    "        print(\"weak evidence against null hypothesis, time series has a unit root, indicating it is non-stationary \")\n",
    "    "
   ]
  },
  {
   "cell_type": "code",
   "execution_count": 6,
   "id": "1c9b73d4",
   "metadata": {},
   "outputs": [
    {
     "name": "stdout",
     "output_type": "stream",
     "text": [
      "ADF Test Statistic : -3.389211871307228\n",
      "p-value : 0.011332182106999851\n",
      "#Lags Used : 7\n",
      "Number of Observations Used : 55\n",
      "strong evidence against the null hypothesis(Ho), reject the null hypothesis. Data has no unit root and is stationary\n"
     ]
    }
   ],
   "source": [
    "adfuller_test(df['calls'])"
   ]
  },
  {
   "cell_type": "code",
   "execution_count": 7,
   "id": "c483cb1b",
   "metadata": {},
   "outputs": [
    {
     "data": {
      "image/png": "[encoded data removed]",
      "text/plain": [
       "<Figure size 864x576 with 2 Axes>"
      ]
     },
     "metadata": {
      "needs_background": "light"
     },
     "output_type": "display_data"
    }
   ],
   "source": [
    "from statsmodels.graphics.tsaplots import plot_acf, plot_pacf\n",
    "import statsmodels.api as sm\n",
    "import matplotlib.pyplot as plt\n",
    "\n",
    "fig = plt.figure(figsize=(12, 8))\n",
    "ax1 = fig.add_subplot(211)\n",
    "fig = sm.graphics.tsa.plot_acf(df['calls'], ax=ax1)\n",
    "ax2 = fig.add_subplot(212)\n",
    "fig = sm.graphics.tsa.plot_pacf(df['calls'], ax=ax2)  # Set lags to a smaller value\n",
    "## i = 1\n",
    "## \n",
    "## stationary data has 4 components, seasonality, cycles, noise\n",
    "#p=0.5 or 1\n",
    "#q-0 or 1\n",
    "#d"
   ]
  },
  {
   "cell_type": "code",
   "execution_count": 8,
   "id": "f85fcaa1",
   "metadata": {},
   "outputs": [],
   "source": [
    "##UNi variate analysis ARIMA model\n",
    "import statsmodels.api as sm"
   ]
  },
  {
   "cell_type": "code",
   "execution_count": 9,
   "id": "688f84dc",
   "metadata": {},
   "outputs": [
    {
     "name": "stderr",
     "output_type": "stream",
     "text": [
      "C:\\Users\\Abdullah\\anaconda3\\lib\\site-packages\\statsmodels\\tsa\\base\\tsa_model.py:473: ValueWarning: No frequency information was provided, so inferred frequency D will be used.\n",
      "  self._init_dates(dates, freq)\n",
      "C:\\Users\\Abdullah\\anaconda3\\lib\\site-packages\\statsmodels\\tsa\\base\\tsa_model.py:473: ValueWarning: No frequency information was provided, so inferred frequency D will be used.\n",
      "  self._init_dates(dates, freq)\n",
      "C:\\Users\\Abdullah\\anaconda3\\lib\\site-packages\\statsmodels\\tsa\\base\\tsa_model.py:473: ValueWarning: No frequency information was provided, so inferred frequency D will be used.\n",
      "  self._init_dates(dates, freq)\n",
      "C:\\Users\\Abdullah\\anaconda3\\lib\\site-packages\\statsmodels\\tsa\\statespace\\sarimax.py:966: UserWarning: Non-stationary starting autoregressive parameters found. Using zeros as starting parameters.\n",
      "  warn('Non-stationary starting autoregressive parameters'\n"
     ]
    }
   ],
   "source": [
    "model = sm.tsa.arima.ARIMA(df['calls'], order=(1, 1, 0), seasonal_order=(0, 0, 0, 0))\n",
    "result = model.fit()\n"
   ]
  },
  {
   "cell_type": "code",
   "execution_count": 10,
   "id": "b2c0c23c",
   "metadata": {},
   "outputs": [
    {
     "data": {
      "text/html": [
       "<table class=\"simpletable\">\n",
       "<caption>SARIMAX Results</caption>\n",
       "<tr>\n",
       "  <th>Dep. Variable:</th>         <td>calls</td>      <th>  No. Observations:  </th>    <td>63</td>   \n",
       "</tr>\n",
       "<tr>\n",
       "  <th>Model:</th>            <td>ARIMA(1, 1, 0)</td>  <th>  Log Likelihood     </th> <td>-433.720</td>\n",
       "</tr>\n",
       "<tr>\n",
       "  <th>Date:</th>            <td>Mon, 30 Oct 2023</td> <th>  AIC                </th>  <td>871.440</td>\n",
       "</tr>\n",
       "<tr>\n",
       "  <th>Time:</th>                <td>16:17:21</td>     <th>  BIC                </th>  <td>875.694</td>\n",
       "</tr>\n",
       "<tr>\n",
       "  <th>Sample:</th>             <td>02-06-2020</td>    <th>  HQIC               </th>  <td>873.110</td>\n",
       "</tr>\n",
       "<tr>\n",
       "  <th></th>                   <td>- 04-08-2020</td>   <th>                     </th>     <td> </td>   \n",
       "</tr>\n",
       "<tr>\n",
       "  <th>Covariance Type:</th>        <td>opg</td>       <th>                     </th>     <td> </td>   \n",
       "</tr>\n",
       "</table>\n",
       "<table class=\"simpletable\">\n",
       "<tr>\n",
       "     <td></td>       <th>coef</th>     <th>std err</th>      <th>z</th>      <th>P>|z|</th>  <th>[0.025</th>    <th>0.975]</th>  \n",
       "</tr>\n",
       "<tr>\n",
       "  <th>ar.L1</th>  <td>    1.0000</td> <td>    0.014</td> <td>   71.247</td> <td> 0.000</td> <td>    0.972</td> <td>    1.027</td>\n",
       "</tr>\n",
       "<tr>\n",
       "  <th>sigma2</th> <td> 6.744e+04</td> <td> 1.23e+04</td> <td>    5.474</td> <td> 0.000</td> <td> 4.33e+04</td> <td> 9.16e+04</td>\n",
       "</tr>\n",
       "</table>\n",
       "<table class=\"simpletable\">\n",
       "<tr>\n",
       "  <th>Ljung-Box (L1) (Q):</th>     <td>3.15</td>  <th>  Jarque-Bera (JB):  </th> <td>33.33</td>\n",
       "</tr>\n",
       "<tr>\n",
       "  <th>Prob(Q):</th>                <td>0.08</td>  <th>  Prob(JB):          </th> <td>0.00</td> \n",
       "</tr>\n",
       "<tr>\n",
       "  <th>Heteroskedasticity (H):</th> <td>55.91</td> <th>  Skew:              </th> <td>1.53</td> \n",
       "</tr>\n",
       "<tr>\n",
       "  <th>Prob(H) (two-sided):</th>    <td>0.00</td>  <th>  Kurtosis:          </th> <td>4.89</td> \n",
       "</tr>\n",
       "</table><br/><br/>Warnings:<br/>[1] Covariance matrix calculated using the outer product of gradients (complex-step)."
      ],
      "text/latex": [
       "\\begin{center}\n",
       "\\begin{tabular}{lclc}\n",
       "\\toprule\n",
       "\\textbf{Dep. Variable:}          &      calls       & \\textbf{  No. Observations:  } &     63      \\\\\n",
       "\\textbf{Model:}                  &  ARIMA(1, 1, 0)  & \\textbf{  Log Likelihood     } &  -433.720   \\\\\n",
       "\\textbf{Date:}                   & Mon, 30 Oct 2023 & \\textbf{  AIC                } &  871.440    \\\\\n",
       "\\textbf{Time:}                   &     16:17:21     & \\textbf{  BIC                } &  875.694    \\\\\n",
       "\\textbf{Sample:}                 &    02-06-2020    & \\textbf{  HQIC               } &  873.110    \\\\\n",
       "\\textbf{}                        &   - 04-08-2020   & \\textbf{                     } &             \\\\\n",
       "\\textbf{Covariance Type:}        &       opg        & \\textbf{                     } &             \\\\\n",
       "\\bottomrule\n",
       "\\end{tabular}\n",
       "\\begin{tabular}{lcccccc}\n",
       "                & \\textbf{coef} & \\textbf{std err} & \\textbf{z} & \\textbf{P$> |$z$|$} & \\textbf{[0.025} & \\textbf{0.975]}  \\\\\n",
       "\\midrule\n",
       "\\textbf{ar.L1}  &       1.0000  &        0.014     &    71.247  &         0.000        &        0.972    &        1.027     \\\\\n",
       "\\textbf{sigma2} &    6.744e+04  &     1.23e+04     &     5.474  &         0.000        &     4.33e+04    &     9.16e+04     \\\\\n",
       "\\bottomrule\n",
       "\\end{tabular}\n",
       "\\begin{tabular}{lclc}\n",
       "\\textbf{Ljung-Box (L1) (Q):}     &  3.15 & \\textbf{  Jarque-Bera (JB):  } & 33.33  \\\\\n",
       "\\textbf{Prob(Q):}                &  0.08 & \\textbf{  Prob(JB):          } &  0.00  \\\\\n",
       "\\textbf{Heteroskedasticity (H):} & 55.91 & \\textbf{  Skew:              } &  1.53  \\\\\n",
       "\\textbf{Prob(H) (two-sided):}    &  0.00 & \\textbf{  Kurtosis:          } &  4.89  \\\\\n",
       "\\bottomrule\n",
       "\\end{tabular}\n",
       "%\\caption{SARIMAX Results}\n",
       "\\end{center}\n",
       "\n",
       "Warnings: \\newline\n",
       " [1] Covariance matrix calculated using the outer product of gradients (complex-step)."
      ],
      "text/plain": [
       "<class 'statsmodels.iolib.summary.Summary'>\n",
       "\"\"\"\n",
       "                               SARIMAX Results                                \n",
       "==============================================================================\n",
       "Dep. Variable:                  calls   No. Observations:                   63\n",
       "Model:                 ARIMA(1, 1, 0)   Log Likelihood                -433.720\n",
       "Date:                Mon, 30 Oct 2023   AIC                            871.440\n",
       "Time:                        16:17:21   BIC                            875.694\n",
       "Sample:                    02-06-2020   HQIC                           873.110\n",
       "                         - 04-08-2020                                         \n",
       "Covariance Type:                  opg                                         \n",
       "==============================================================================\n",
       "                 coef    std err          z      P>|z|      [0.025      0.975]\n",
       "------------------------------------------------------------------------------\n",
       "ar.L1          1.0000      0.014     71.247      0.000       0.972       1.027\n",
       "sigma2      6.744e+04   1.23e+04      5.474      0.000    4.33e+04    9.16e+04\n",
       "===================================================================================\n",
       "Ljung-Box (L1) (Q):                   3.15   Jarque-Bera (JB):                33.33\n",
       "Prob(Q):                              0.08   Prob(JB):                         0.00\n",
       "Heteroskedasticity (H):              55.91   Skew:                             1.53\n",
       "Prob(H) (two-sided):                  0.00   Kurtosis:                         4.89\n",
       "===================================================================================\n",
       "\n",
       "Warnings:\n",
       "[1] Covariance matrix calculated using the outer product of gradients (complex-step).\n",
       "\"\"\""
      ]
     },
     "execution_count": 10,
     "metadata": {},
     "output_type": "execute_result"
    }
   ],
   "source": [
    "result.summary()"
   ]
  },
  {
   "cell_type": "code",
   "execution_count": 11,
   "id": "c8eb3429",
   "metadata": {},
   "outputs": [
    {
     "name": "stderr",
     "output_type": "stream",
     "text": [
      "C:\\Users\\Abdullah\\anaconda3\\lib\\site-packages\\statsmodels\\tsa\\statespace\\kalman_filter.py:2473: ValueWarning: Dynamic prediction specified to begin during out-of-sample forecasting period, and so has no effect.\n",
      "  warn('Dynamic prediction specified to begin during'\n"
     ]
    },
    {
     "data": {
      "text/plain": [
       "<AxesSubplot:xlabel='day'>"
      ]
     },
     "execution_count": 11,
     "metadata": {},
     "output_type": "execute_result"
    },
    {
     "data": {
      "image/png": "[encoded data removed]",
      "text/plain": [
       "<Figure size 864x576 with 1 Axes>"
      ]
     },
     "metadata": {
      "needs_background": "light"
     },
     "output_type": "display_data"
    }
   ],
   "source": [
    "df['forecast']=result.predict(start=90,end=110,dynamic=True)\n",
    "df[['calls','forecast']].plot(figsize=(12,8))"
   ]
  },
  {
   "cell_type": "code",
   "execution_count": null,
   "id": "cdaec3c2",
   "metadata": {},
   "outputs": [],
   "source": []
  }
 ],
 "metadata": {
  "kernelspec": {
   "display_name": "Python 3 (ipykernel)",
   "language": "python",
   "name": "python3"
  },
  "language_info": {
   "codemirror_mode": {
    "name": "ipython",
    "version": 3
   },
   "file_extension": ".py",
   "mimetype": "text/x-python",
   "name": "python",
   "nbconvert_exporter": "python",
   "pygments_lexer": "ipython3",
   "version": "3.9.7"
  }
 },
 "nbformat": 4,
 "nbformat_minor": 5
}
